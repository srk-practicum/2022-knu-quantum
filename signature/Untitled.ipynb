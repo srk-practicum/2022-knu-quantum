{
 "cells": [
  {
   "cell_type": "code",
   "execution_count": 2,
   "metadata": {},
   "outputs": [],
   "source": [
    "Zx.<x> = ZZ[]\n",
    "Qy.<y> = QQ[]"
   ]
  },
  {
   "cell_type": "code",
   "execution_count": 28,
   "metadata": {},
   "outputs": [],
   "source": [
    "# algorithm 16 page 45\n",
    "def balance(f,q,n):\n",
    "    g = list(((f[i] + q//2) % q) - q//2 for i in range(n))\n",
    "    return Zx(g)"
   ]
  },
  {
   "cell_type": "code",
   "execution_count": 31,
   "metadata": {},
   "outputs": [
    {
     "name": "stdout",
     "output_type": "stream",
     "text": [
      "-3*x^3 + 4*x + 3\n"
     ]
    }
   ],
   "source": [
    "def test_1():\n",
    "    f = -9//2 * x + 3 -3*x^3\n",
    "    q = 9\n",
    "    n = 4\n",
    "    print(balance(f, q, n))\n",
    "    \n",
    "test_1()"
   ]
  },
  {
   "cell_type": "code",
   "execution_count": 56,
   "metadata": {},
   "outputs": [],
   "source": [
    "# formula 3.21 from page 28\n",
    "# def split(f,n):\n",
    "#    f0 = ((f + f.subs(x=-x))/2).subs(x=sqrt(x))\n",
    "#    f1 = ((f - f.subs(x=-x))/(2*x)).subs(x=sqrt(x))\n",
    "#    return (f0, f1)\n",
    "\n",
    "def split(f,n):\n",
    "    f0 = list(f[2*i] for i in range(n//2+1))\n",
    "    f1 = list(f[2*i+1] for i in range(n//2+1))\n",
    "    return (Zx(f0), Zx(f1))"
   ]
  },
  {
   "cell_type": "code",
   "execution_count": 57,
   "metadata": {},
   "outputs": [
    {
     "name": "stdout",
     "output_type": "stream",
     "text": [
      "(5*x^2 + 3*x + 1, 4*x + 2)\n"
     ]
    }
   ],
   "source": [
    "def test_2():\n",
    "    f = 1 + 2*x + 3*x^2 + 4*x^3 + 5*x^4\n",
    "    n = 5\n",
    "    print(split(f,n))\n",
    "    \n",
    "test_2()"
   ]
  },
  {
   "cell_type": "code",
   "execution_count": 14,
   "metadata": {},
   "outputs": [],
   "source": [
    "# formula 3.22 from page 28\n",
    "def merge(a,b,n):\n",
    "    return a.subs(x=x^2) + x*b.subs(x=x^2)"
   ]
  },
  {
   "cell_type": "code",
   "execution_count": 15,
   "metadata": {},
   "outputs": [
    {
     "name": "stdout",
     "output_type": "stream",
     "text": [
      "5*x^4 + 4*x^3 + 3*x^2 + 2*x + 1\n"
     ]
    }
   ],
   "source": [
    "def test_3():\n",
    "    a = 5*x^2 + 3*x + 1\n",
    "    b = 4*x + 2\n",
    "    n = 5\n",
    "    print(merge(a, b, n))\n",
    "    \n",
    "test_3()"
   ]
  },
  {
   "cell_type": "code",
   "execution_count": 32,
   "metadata": {},
   "outputs": [],
   "source": [
    "# formula 3.6 from page 23\n",
    "def HermitianAdjointPoly(p, n):\n",
    "    p1 = p[0]\n",
    "    for i in range(1, n):\n",
    "        p1 -= p[i]*x^(n - i)\n",
    "    return p1"
   ]
  },
  {
   "cell_type": "code",
   "execution_count": 33,
   "metadata": {},
   "outputs": [
    {
     "name": "stdout",
     "output_type": "stream",
     "text": [
      "-18*x^7 - 24*x^6 + 3*x^4 - 5*x^2 - 10\n"
     ]
    }
   ],
   "source": [
    "def test_4():\n",
    "    p = -10 + 18*x + 24*x^2 - 3*x^4 + 5*x^6\n",
    "    n = 8\n",
    "    print(HermitianAdjointPoly(p, n))\n",
    "\n",
    "test_4()"
   ]
  },
  {
   "cell_type": "code",
   "execution_count": 34,
   "metadata": {},
   "outputs": [],
   "source": [
    "# formula 3.10 from page 24\n",
    "def InnerProduct(a,b,n):\n",
    "    s=sum(list(a[i]*b[i] for i in range(n)))\n",
    "    return(s)"
   ]
  },
  {
   "cell_type": "code",
   "execution_count": 35,
   "metadata": {},
   "outputs": [
    {
     "name": "stdout",
     "output_type": "stream",
     "text": [
      "34\n"
     ]
    }
   ],
   "source": [
    "def test_5():\n",
    "    a = -10 + 18*x + 24*x^2 - 3*x^4 + 5*x^6\n",
    "    b = -1 + x^2 + x^3 + x^5\n",
    "    n = 8\n",
    "    print(InnerProduct(a,b,n))\n",
    "\n",
    "test_5()"
   ]
  },
  {
   "cell_type": "code",
   "execution_count": 37,
   "metadata": {},
   "outputs": [],
   "source": [
    "# formula 3.9 from page 24\n",
    "def EuclideanNorm(a,n):\n",
    "    return (InnerProduct(a,a,n))^(1/2)"
   ]
  },
  {
   "cell_type": "code",
   "execution_count": 38,
   "metadata": {},
   "outputs": [
    {
     "name": "stdout",
     "output_type": "stream",
     "text": [
      "sqrt(1034)\n"
     ]
    }
   ],
   "source": [
    "def test_6():\n",
    "    a = -10 + 18*x + 24*x^2 - 3*x^4 + 5*x^6\n",
    "    n = 8\n",
    "    print(EuclideanNorm(a,n))\n",
    "\n",
    "test_6()"
   ]
  },
  {
   "cell_type": "code",
   "execution_count": 64,
   "metadata": {},
   "outputs": [],
   "source": [
    "# formula 3.25 from page 30\n",
    "def FieldNorm(f, n):\n",
    "    f0,f1 = split(f,n)\n",
    "    # print(f0.parent())\n",
    "    return (f0^2 - x*f1^2) % (x^(n//2) + 1)"
   ]
  },
  {
   "cell_type": "code",
   "execution_count": 65,
   "metadata": {},
   "outputs": [
    {
     "name": "stdout",
     "output_type": "stream",
     "text": [
      "-245*x^3 + 575*x^2 - 774*x - 149\n"
     ]
    }
   ],
   "source": [
    "def test_7():\n",
    "    f = -10 + 18*x + 24*x^2 + x^3 - 3*x^4 + 5*x^6\n",
    "    n = 8\n",
    "    print(FieldNorm(f,n))\n",
    "\n",
    "test_7()"
   ]
  },
  {
   "cell_type": "code",
   "execution_count": 26,
   "metadata": {},
   "outputs": [],
   "source": [
    "# NNT representation of polynomial f from Zq[x]/x^n+1\n",
    "# page 28 and 55\n",
    "# q = 1 mod 2n\n",
    "def NNT(f,n,q):\n",
    "    roots = []\n",
    "    \n",
    "    # find roots of x^n+1 in Zq somehow\n",
    "    \n",
    "    pass\n",
    "    "
   ]
  },
  {
   "cell_type": "code",
   "execution_count": 27,
   "metadata": {},
   "outputs": [],
   "source": [
    "def test_8():\n",
    "    pass\n",
    "\n",
    "test_8()"
   ]
  },
  {
   "cell_type": "code",
   "execution_count": null,
   "metadata": {},
   "outputs": [],
   "source": []
  }
 ],
 "metadata": {
  "kernelspec": {
   "display_name": "SageMath 9.3",
   "language": "sage",
   "name": "sagemath"
  },
  "language_info": {
   "codemirror_mode": {
    "name": "ipython",
    "version": 3
   },
   "file_extension": ".py",
   "mimetype": "text/x-python",
   "name": "python",
   "nbconvert_exporter": "python",
   "pygments_lexer": "ipython3",
   "version": "3.7.10"
  }
 },
 "nbformat": 4,
 "nbformat_minor": 4
}
