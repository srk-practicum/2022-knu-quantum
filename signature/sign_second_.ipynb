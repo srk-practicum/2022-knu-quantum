{
 "cells": [
  {
   "cell_type": "code",
   "execution_count": 164,
   "metadata": {},
   "outputs": [],
   "source": [
    "from Crypto.Hash import SHAKE256"
   ]
  },
  {
   "cell_type": "code",
   "execution_count": 71,
   "metadata": {},
   "outputs": [],
   "source": [
    "Zx.<x> = ZZ[]\n",
    "\n",
    "k = 2\n",
    "n = 2^k\n",
    "q = 12 * 1024 + 1\n",
    "phi = x^n + 1\n",
    "sigma = 1.17 / sqrt(q / (2*n))   \n",
    "RCDT = [3024686241123004913666, 1564742784480091954050, 636254429462080897535, 199560484645026482916, 47667343854657281903, 8595902006365044063, 1163297957344668388, 117656387352093658, 8867391802663976, 496969357462633, 20680885154299, 638331848991, 14602316184, 247426747, 3104126, 28824, 198, 1, 0]"
   ]
  },
  {
   "cell_type": "code",
   "execution_count": 49,
   "metadata": {},
   "outputs": [],
   "source": [
    "def balance(f,q,n):\n",
    "    g = list(((f[i] + q//2) % q) - q//2 for i in range(n))\n",
    "    return Zx(g)"
   ]
  },
  {
   "cell_type": "code",
   "execution_count": 50,
   "metadata": {},
   "outputs": [],
   "source": [
    "def merge(a,b,n):\n",
    "    a = a.subs(x=x^2)\n",
    "    b = x*b.subs(x=x^2)\n",
    "    return a + b "
   ]
  },
  {
   "cell_type": "code",
   "execution_count": 51,
   "metadata": {},
   "outputs": [],
   "source": [
    "def split(f,n):\n",
    "    f0 = list(f[2*i] for i in range(n//2+1))\n",
    "    f1 = list(f[2*i+1] for i in range(n//2+1))\n",
    "    return Zx(f0), Zx(f1)"
   ]
  },
  {
   "cell_type": "code",
   "execution_count": 52,
   "metadata": {},
   "outputs": [],
   "source": [
    "def InnerProduct(a,b,n):\n",
    "    s = [a[i]*b[i] for i in range(n)]\n",
    "    return sum(s)"
   ]
  },
  {
   "cell_type": "code",
   "execution_count": 53,
   "metadata": {},
   "outputs": [],
   "source": [
    "def EuclideanNorm(a,n):\n",
    "    b = InnerProduct(a,a,n)\n",
    "    return sqrt(float(b))"
   ]
  },
  {
   "cell_type": "code",
   "execution_count": 54,
   "metadata": {},
   "outputs": [],
   "source": [
    "def FieldNorm(f, n):\n",
    "    f0, f1 = split(f,n)\n",
    "    iks = f.parent()([0, 1])\n",
    "    return (f0^2 - iks * f1^2) % (iks^(n//2)+1)"
   ]
  },
  {
   "cell_type": "code",
   "execution_count": 55,
   "metadata": {},
   "outputs": [],
   "source": [
    "def HermitianAdjointPoly(p, n):\n",
    "    f=[p[0]]\n",
    "    for i in range(1,n):    \n",
    "        f.append(-p[n-i])\n",
    "    return Zx(f) "
   ]
  },
  {
   "cell_type": "code",
   "execution_count": 56,
   "metadata": {},
   "outputs": [],
   "source": [
    "from os import urandom\n",
    "\n",
    "LN2 = 0.69314718056\n",
    "\n",
    "def UniformBits(k):\n",
    "    return int.from_bytes(bytes(list(floor(uniform(0, 256)) for i in range(k / 8))), 'little')\n",
    "\n",
    "def BaseSampler():\n",
    "    u = UniformBits(72)\n",
    "    z_0 = 0\n",
    "    RCDT = [3024686241123004913666, 1564742784480091954050, 636254429462080897535, 199560484645026482916, 47667343854657281903, 8595902006365044063, 1163297957344668388, 117656387352093658, 8867391802663976, 496969357462633, 20680885154299, 638331848991, 14602316184, 247426747, 3104126, 28824, 198, 1, 0]\n",
    "    for i in range(0, 18):\n",
    "        z_0 = z_0 + int(u<RCDT[i]) \n",
    "    return z_0\n",
    "\n",
    "def ApproxExp(x, ccs):\n",
    "    C = [0x00000004741183A3,0x00000036548CFC06,0x0000024FDCBF140A,0x0000171D939DE045,0x0000D00CF58F6F84,0x000680681CF796E3,0x002D82D8305B0FEA,0x011111110E066FD0,0x0555555555070F00,0x155555555581FF00,0x400000000002B400,0x7FFFFFFFFFFF4800,0x8000000000000000]\n",
    "    y = C[0]\n",
    "    z = floor(2^63*x)\n",
    "    for i in range(1, 13):\n",
    "        y = C[i] - (z*y) >> 63\n",
    "    z = floor(2^63*ccs)\n",
    "    y = (z*y) >> 63\n",
    "    return y\n",
    "\n",
    "def BerExp(x, ccs):\n",
    "    s = floor(x/LN2)\n",
    "    r = x - s*LN2\n",
    "    s = min(s, 63)\n",
    "    z = (2*ApproxExp(r, ccs) - 1) >> s\n",
    "    for i in range(56, -8, -8):\n",
    "        p = UniformBits(8)\n",
    "        w = p - ((z >> i) & 0xFF)\n",
    "        if int(w) == 0:\n",
    "            break\n",
    "    return int(w < 0)\n",
    "\n",
    "def SamplerZ(mu, sigma, sigmamin, sigmamax):\n",
    "    r = mu - int(floor(mu))\n",
    "    ccs = sigmamin/sigma\n",
    "    while True:\n",
    "        z_0 = BaseSampler()\n",
    "        b = UniformBits(8)&0x1\n",
    "        z = b + (2*b-1)*z_0\n",
    "        x = (z-r)^2/2/sigma^2 - z_0^2/2/sigmamax^2\n",
    "        if BerExp(x, ccs) == 1:\n",
    "            return z + int(floor(mu))\n",
    "\n",
    " "
   ]
  },
  {
   "cell_type": "code",
   "execution_count": 68,
   "metadata": {},
   "outputs": [],
   "source": [
    "# ======================== Lattice Matrices ============================\n",
    "\n",
    "# author: Evgen Postulga\n",
    "def CyclicRotate(input, n):\n",
    "    #return input[(len(input)-n):]+input[:(len(input)-n)]\n",
    "    return input[-n:] + input[0:-n]\n",
    "\n",
    "# author: Evgen Postulga\n",
    "def PolyToCirculant(p, n):\n",
    "    M=[]\n",
    "    k=p.coefficients(sparse=False)\n",
    "    while len(k)!=n:\n",
    "        k.append(0)\n",
    "    for i in range(n):\n",
    "        m = CyclicRotate(k, i)\n",
    "        M.append(m)\n",
    "    return Matrix(M)\n",
    "\n",
    "# author: Evgen Postulga\n",
    "def CirculantToPoly(M):\n",
    "    # Zx.<x> = PolynomialRing(ZZ)\n",
    "    return Zx(list(M[0]))\n",
    "    \n",
    "# author: Evgen Postulga\n",
    "def PolyToLattice4(p00, p01, p10, p11, n):\n",
    "    M=[]\n",
    "    p=[p00.coefficients(sparse=False),p01.coefficients(sparse=False),p10.coefficients(sparse=False),p11.coefficients(sparse=False)]\n",
    "    for i in range(4):\n",
    "        while len(p[i])!=n:\n",
    "            p[i].append(0)\n",
    "    for i in range(n):\n",
    "        m1 = CyclicRotate(p[0], i)\n",
    "        m2 = CyclicRotate(p[1], i)\n",
    "        M.append(m1+m2)\n",
    "    for i in range(n):\n",
    "        m1 = CyclicRotate(p[2], i)\n",
    "        m2 = CyclicRotate(p[3], i)\n",
    "        M.append(m1+m2)\n",
    "    return M\n",
    "\n",
    "# author: Evgen Postulga\n",
    "def LatticeToPoly4(M, n):\n",
    "    p00=Zx(M[0][:n])\n",
    "    p01=Zx(M[0][n:])\n",
    "    p10=Zx(M[n][:n])\n",
    "    p11=Zx(M[n][n:])\n",
    "    return p00, p01, p10, p11\n",
    "\n",
    "# formula 3.7 page 23б author: Evgen Postulga\n",
    "def HermitianAdjointMatrix(M, n2):\n",
    "    a, c, b, d = LatticeToPoly4(M, n2/2)\n",
    "    a, c, b, d = HermitianAdjointPoly(a, n2/2), HermitianAdjointPoly(c, n2/2),HermitianAdjointPoly(b, n2/2),HermitianAdjointPoly(d, n2/2)\n",
    "    return PolyToLattice4(a, c, b, d, n2/2)"
   ]
  },
  {
   "cell_type": "code",
   "execution_count": 58,
   "metadata": {},
   "outputs": [],
   "source": [
    "def Reduce(f, g, F, G, n):\n",
    "    \n",
    "    T = Zx.change_ring(QQ).quotient(x^n+1) \n",
    "    \n",
    "    iks = f.parent()([0, 1])\n",
    "    f_star = HermitianAdjointPoly(f, n)\n",
    "    g_star = HermitianAdjointPoly(g, n)\n",
    "    while True:\n",
    "        num = F*f_star + G*g_star\n",
    "        num = T(num)\n",
    "        den = f*f_star + g*g_star\n",
    "        den = 1 / T(den)\n",
    "        res = num * den\n",
    "        k = Zx([int(round(elt)) for elt in res])\n",
    "        F = F - k*f \n",
    "        G = G - k*g\n",
    "        if all(elt == 0 for elt in k):\n",
    "            break\n",
    "    return f, g, F, G"
   ]
  },
  {
   "cell_type": "code",
   "execution_count": 59,
   "metadata": {},
   "outputs": [],
   "source": [
    "def NTT(f, n, q):\n",
    "    # Zp\n",
    "    roots = (x^n + 1).roots(Integers(q))\n",
    "    ans = [f.subs(x = i[0]) % q for i in roots]\n",
    "    return ans"
   ]
  },
  {
   "cell_type": "code",
   "execution_count": 60,
   "metadata": {},
   "outputs": [],
   "source": [
    "def NTRUSolve(f, g, n, q):\n",
    "    if n == 1:\n",
    "        # u, v are numbers\n",
    "        gcd_, u, v = xgcd(f[0], g[0])\n",
    "        # print(\"gcd\", u * f + v * g, \"\\n\")\n",
    "        if gcd_ != 1:\n",
    "            return None, None, False\n",
    "        F, G = -v*q, u*q\n",
    "        # print(\"F1, G1\", F / q, G / q)\n",
    "        return F, G, True\n",
    "    else:\n",
    "        # ▷ f′, g′, F′, G′ ∈ Z[x]/(x^n/2 + 1)\n",
    "        # ▷ N as defined in either (3.25) or (3.26)\n",
    "        f_ = FieldNorm(f, n) \n",
    "        g_ = FieldNorm(g, n) \n",
    "        # print(n//2, f_, g_, sep=\"\\n\")\n",
    "        F_, G_, flag = NTRUSolve(f_, g_, n//2, q)\n",
    "        if flag:\n",
    "            F = F_.subs(x=x^2) * g.subs(x=-x) \n",
    "            G = G_.subs(x=x^2) * f.subs(x=-x)\n",
    "            # print(\"F, G\", F, G, sep=\"\\n\")\n",
    "            f, g, F, G = Reduce(f, g, F, G, n)\n",
    "            return F % (x^n +1), G % (x^n +1), flag\n",
    "        else:\n",
    "            return F_, G_, flag\n",
    "            \n",
    "        "
   ]
  },
  {
   "cell_type": "code",
   "execution_count": 61,
   "metadata": {},
   "outputs": [
    {
     "name": "stdout",
     "output_type": "stream",
     "text": [
      "-x^7 + 3*x^6 - x^4 + 4*x^3 + 6*x^2 - 2*x - 4\n",
      "x^7 - x^6 - 2*x^5 - 4*x^3 - 3*x^2 - x + 7\n",
      "(f*G - g*F) % (x^n + 1) == q:  True\n"
     ]
    },
    {
     "data": {
      "text/plain": [
       "(-x^7 + 3*x^6 - x^4 + 4*x^3 + 6*x^2 - 2*x - 4,\n",
       " x^7 - x^6 - 2*x^5 - 4*x^3 - 3*x^2 - x + 7,\n",
       " 2*x^7 + x^6 + 2*x^5 - x^4 - 5*x^3 + 2*x - 5,\n",
       " -4*x^7 - x^6 - x^5 + x^4 + 3*x^3 + 2*x^2 - 2*x + 3)"
      ]
     },
     "execution_count": 61,
     "metadata": {},
     "output_type": "execute_result"
    }
   ],
   "source": [
    "def NTRUGen(q, n):\n",
    "    \n",
    "    # sigma = 1.17 / sqrt(q / (2*n)) \n",
    "    while True:\n",
    "\n",
    "        f = -x^7 + 3*x^6 - x^4 + 4*x^3 + 6*x^2 - 2*x - 4\n",
    "        g = x^7 - x^6 - 2*x^5 - 4*x^3 - 3*x^2 - x + 7\n",
    "        \n",
    "        if gs_norm(f, g, q, n) > (1.17 ** 2) * q:\n",
    "            print(\"restart\")\n",
    "\n",
    "        print(f, g, sep=\"\\n\")\n",
    "                \n",
    "        F, G, flag = NTRUSolve(f, g, n, q)\n",
    "        F, G = F % (x^n +1), G % (x^n +1)\n",
    "        \n",
    "        print(\"(f*G - g*F) % (x^n + 1) == q: \", (f*G - g*F) % (x^n + 1) == q)\n",
    "        \n",
    "        if not flag:\n",
    "            continue\n",
    "        else:\n",
    "            F = Zx([int(coef) for coef in F.coefficients(sparse=False)])\n",
    "            G = Zx([int(coef) for coef in G.coefficients(sparse=False)])\n",
    "            break\n",
    "            \n",
    "    return f, g, F, G\n",
    "    \n",
    "\n",
    "NTRUGen(17, 8)"
   ]
  },
  {
   "cell_type": "code",
   "execution_count": 140,
   "metadata": {},
   "outputs": [],
   "source": [
    "def NTRUGen(q, n):\n",
    "    \n",
    "    def gen_poly(n, q):\n",
    "        \n",
    "        def D(mu=0):\n",
    "            z = 0\n",
    "            for i in range(1, 4096/n + 1):\n",
    "                sigma_star = 1.17 * sqrt(q / 8192)\n",
    "                sigmamin, sigmamax = 1.277833697, 1.8205\n",
    "                zi = SamplerZ(mu, sigma_star, sigmamin, sigmamax)\n",
    "                z += zi\n",
    "            return z\n",
    "\n",
    "        f = [0] * n\n",
    "        g = [0] * n\n",
    "        for i in range(n):\n",
    "            f[i] = D()\n",
    "            g[i] = D()\n",
    "        f = Zx(f) % phi\n",
    "        g = Zx(g) % phi\n",
    "        return f, g\n",
    "    \n",
    "    def gs_norm(f, g, q, n):\n",
    "        T = Zx.change_ring(QQ).quotient(x^n+1) \n",
    "        # Using (3.9) with (3.8) or (3.10)    \n",
    "        f_star = HermitianAdjointPoly(f, n)\n",
    "        g_star = HermitianAdjointPoly(g, n)\n",
    "        first = EuclideanNorm([*g.coefficients(sparse=False), *(-f).coefficients(sparse=False)], n)\n",
    "        s1 = (q * T(f_star)) / T((f*f_star + g*g_star))\n",
    "        s2 = (q * T(g_star)) / T((f*f_star + g*g_star))\n",
    "        second = EuclideanNorm(list(s1) + list(s2), n)\n",
    "        gamma = max(first, second)\n",
    "        return gamma\n",
    "    \n",
    "    \n",
    "    while True:\n",
    "        while True:\n",
    "            while True:\n",
    "\n",
    "                f, g = gen_poly(n, q)\n",
    "                # print(f, g, sep=\"\\n\")\n",
    "\n",
    "                if gs_norm(f, g, q, n) > (1.17 ** 2) * q:\n",
    "                    # print(\"restart norm\\n\")\n",
    "                    continue\n",
    "                break\n",
    "\n",
    "            if  0 in NTT(f, n, q):\n",
    "                # print(\"restart ntt\\n\")\n",
    "                continue\n",
    "            break\n",
    "                \n",
    "        F, G, flag = NTRUSolve(f, g, n, q)\n",
    "        \n",
    "        if not flag:\n",
    "            # print(\"restart solve\")\n",
    "            continue\n",
    "        else:\n",
    "            F, G = F % (x^n +1), G % (x^n +1)\n",
    "            F = Zx([int(coef) for coef in F.coefficients(sparse=False)])\n",
    "            G = Zx([int(coef) for coef in G.coefficients(sparse=False)])\n",
    "            print(\"(f*G - g*F) % (x^n + 1) == q\", (f*G - g*F) % (x^n + 1) == q)\n",
    "            break\n",
    "            \n",
    "    return f, g, F, G\n",
    "    \n",
    "\n",
    "# f, g, F, G = NTRUGen(12 * 1024 + 1, 4)\n",
    "# print(f, g, F, G, sep=\"\\n\")\n",
    "# print()\n",
    "\n",
    "# M = PolyToLattice4(g, -f, G, -F, n)\n",
    "# print(*M, sep=\"\\n\")\n",
    "# print()\n",
    "\n",
    "# f1, g1, F1, G1 = LatticeToPoly4(M, n)\n",
    "# print(f1, g1, F1, G1, sep=\"\\n\")\n"
   ]
  },
  {
   "cell_type": "code",
   "execution_count": 197,
   "metadata": {},
   "outputs": [
    {
     "name": "stdout",
     "output_type": "stream",
     "text": [
      "(f*G - g*F) % (x^n + 1) == q True\n",
      "331*x^3 + 344*x^2 + 347*x + 288 278*x^3 + 258*x^2 + 314*x + 387 146*x^3 + 440*x^2 + 360*x + 99 44*x^3 + 385*x^2 + 330*x + 167\n",
      "sk: \n",
      "[387, 314, 258, 278, -288, -347, -344, -331]\n",
      "[278, 387, 314, 258, -331, -288, -347, -344]\n",
      "[258, 278, 387, 314, -344, -331, -288, -347]\n",
      "[314, 258, 278, 387, -347, -344, -331, -288]\n",
      "[167, 330, 385, 44, -99, -360, -440, -146]\n",
      "[44, 167, 330, 385, -146, -99, -360, -440]\n",
      "[385, 44, 167, 330, -440, -146, -99, -360]\n",
      "[330, 385, 44, 167, -360, -440, -146, -99]\n",
      "\n",
      "f * f_q % phi % q =  1\n",
      "pk:  3898*x^3 + 728*x^2 + 11927*x + 8437\n"
     ]
    }
   ],
   "source": [
    "def NaiveKeyGen(sigma, q, n):\n",
    "    \n",
    "    f, g, F, G = NTRUGen(q, n)\n",
    "    print(f, g, F, G)\n",
    "    B = PolyToLattice4(g, -f, G, -F, n)\n",
    "    sk = B\n",
    "    print(\"sk: \", *sk, sep=\"\\n\")\n",
    "    print()\n",
    "    \n",
    "    T = Zx.change_ring(Integers(q)).quotient(x^n+1)\n",
    "    f_q = Zx(lift(1 / T(f))) \n",
    "    \n",
    "    print(\"f * f_q % phi % q = \", f * f_q % phi % q)\n",
    "    h = g * f_q % phi % q\n",
    "    pk = h\n",
    "    print(\"pk: \", pk)\n",
    "    return sk, pk, f, g\n",
    "\n",
    "sk, pk, f, g = NaiveKeyGen(sigma, q, n)"
   ]
  },
  {
   "cell_type": "code",
   "execution_count": 198,
   "metadata": {},
   "outputs": [],
   "source": [
    "SALT_LEN = 10\n",
    "\n",
    "def HashToPoint(salt, message, q, n):\n",
    "\n",
    "    k = int((2**16) // q)\n",
    "    \n",
    "    shake = SHAKE256.new()\n",
    "    shake.update(salt)\n",
    "    shake.update(message)\n",
    "    hashed = [0 for i in range(n)]\n",
    "    \n",
    "    i = 0\n",
    "    j = 0\n",
    "    while i < n:\n",
    "        twobytes = shake.read(2)\n",
    "        elt = (twobytes[0] << 8) + twobytes[1] \n",
    "        if elt < k * q:\n",
    "            hashed[i] = elt % q\n",
    "            i += 1\n",
    "        j += 1\n",
    "    return Zx(hashed) % phi\n"
   ]
  },
  {
   "cell_type": "code",
   "execution_count": 199,
   "metadata": {},
   "outputs": [
    {
     "name": "stdout",
     "output_type": "stream",
     "text": [
      "c  7665*x^3 + 2317*x^2 + 10399*x + 1940\n",
      "t [747840636451299740/12274950433124817, 1138444471068787517/12274950433124817, 769115265444762701/12274950433124817, 941342057857071995/12274950433124817, -1317899320550272330/12274950433124817, -944335691568616021/12274950433124817, -1328794075502417698/12274950433124817, -917805921351629605/12274950433124817]\n",
      "z [61, 93, 63, 77, -107, -77, -108, -75]\n",
      "snorm 765.0601283559351\n",
      "s [-366, -330, -469, -350, 387, 381, 444, 413]\n",
      "sss\n",
      "-350*x^3 - 469*x^2 - 330*x - 366\n",
      "413*x^3 + 444*x^2 + 381*x + 387\n",
      "\n",
      "ver\n",
      "9362*x^3 + 6034*x^2 + 10421*x + 8319\n",
      "7665*x^3 + 2317*x^2 + 10399*x + 1940\n",
      "pk * f % q % phi == g:  False\n"
     ]
    }
   ],
   "source": [
    "noise = urandom(SALT_LEN)\n",
    "\n",
    "def NaiveSign(message, B, q, n):\n",
    "    \n",
    "    # list of coefs \"c\". hash value c ∈ Zq[x]/(ϕ)\n",
    "    c = HashToPoint(noise, message, q, n)\n",
    "    print(\"c \", c)\n",
    "    \n",
    "    # type(B) is list\n",
    "    B = Matrix(B)\n",
    "    B_inv = B.inverse()\n",
    "    t = Matrix((c.coefficients(sparse=False) + [0]*n)) * B_inv\n",
    "    print(\"t\", list(t[0]))\n",
    "    z = [int(round(float(elt))) for elt in list(t[0])]\n",
    "    print(\"z\", z)\n",
    "    # print(t-Matrix(z))\n",
    "    s = (t-Matrix(z)) * B\n",
    "    s = list(s[0])\n",
    "    print(\"snorm\", EuclideanNorm(Zx(s), n))\n",
    "    print(\"s\", s)\n",
    "    # ???????? ▷ s1 + s2 * h = c mod (ϕ, q)\n",
    "    s1 = Zx(s[:n])\n",
    "    s2 = Zx(s[n:])\n",
    "    print(\"sss\", s1, s2, sep=\"\\n\")\n",
    "    print()\n",
    "    print(\"ver\", (s1 + s2 * pk) % phi % q, c, sep=\"\\n\")\n",
    "    return s, s1, s2\n",
    "    \n",
    "\n",
    "message = b\"message\"\n",
    "s, s1, s2 = NaiveSign(message, sk, q, n)\n",
    "print(\"pk * f % q % phi == g: \", pk * f % q % phi == g)\n"
   ]
  },
  {
   "cell_type": "code",
   "execution_count": 200,
   "metadata": {},
   "outputs": [
    {
     "name": "stdout",
     "output_type": "stream",
     "text": [
      "c 7665*x^3 + 2317*x^2 + 10399*x + 1940\n",
      "10242*x^3 + 8103*x^2 + 11937*x + 5544\n",
      "[5544, -352, -4186, -2047, 387, 381, 444, 413]\n",
      "7250.6996214158535\n",
      "False\n",
      "c 2163*x^3 + 1989*x^2 + 2204*x + 2229\n",
      "4740*x^3 + 7775*x^2 + 3742*x + 5833\n",
      "[5833, 3742, -4514, 4740, 387, 381, 444, 413]\n",
      "9532.58878794213\n",
      "False\n"
     ]
    }
   ],
   "source": [
    "def NaiveVerify(message, noise, s2, pk, q, n):\n",
    "    c = HashToPoint(noise, message, q, n)\n",
    "    print(\"c\", c)\n",
    "    s1 = (c - s2 * pk) % phi\n",
    "    print(s1.change_ring(Integers(q)))\n",
    "    s1 = balance((c - s2 * pk) % phi % q, q, n) \n",
    "    print(s1.coefficients(sparse=False)+s2.coefficients(sparse=False))\n",
    "    print(EuclideanNorm(s1.coefficients(sparse=False)+s2.coefficients(sparse=False), n))\n",
    "    if EuclideanNorm(s1.coefficients(sparse=False)+s2.coefficients(sparse=False), n) <= sqrt(208714):\n",
    "        return True\n",
    "    else:\n",
    "        return False\n",
    "    \n",
    "    \n",
    "print(NaiveVerify(message, noise, s2, pk, q, n))\n",
    "print(NaiveVerify(b\"qqqqqqqqqq\", noise, s2, pk, q, n))"
   ]
  },
  {
   "cell_type": "code",
   "execution_count": 122,
   "metadata": {},
   "outputs": [
    {
     "name": "stdout",
     "output_type": "stream",
     "text": [
      "41.93660323029154\n",
      "42\n",
      "-0.06339676970846136\n"
     ]
    }
   ],
   "source": [
    "print(float(62118221042226931080/1481241117720232013))\n",
    "print(int(round(float(62118221042226931080/1481241117720232013))))\n",
    "print(float(-93905902022813466/1481241117720232013))"
   ]
  },
  {
   "cell_type": "code",
   "execution_count": null,
   "metadata": {},
   "outputs": [],
   "source": [
    "def NaiveVerify(message, r, s2, pk, q, n):\n",
    "    pass"
   ]
  },
  {
   "cell_type": "code",
   "execution_count": null,
   "metadata": {},
   "outputs": [],
   "source": [
    "message = b\"Hello\""
   ]
  },
  {
   "cell_type": "code",
   "execution_count": null,
   "metadata": {},
   "outputs": [],
   "source": []
  },
  {
   "cell_type": "code",
   "execution_count": null,
   "metadata": {},
   "outputs": [],
   "source": []
  },
  {
   "cell_type": "code",
   "execution_count": 93,
   "metadata": {},
   "outputs": [],
   "source": [
    "def KeyGen(sigma, q, n):\n",
    "    f, g, F, G = NTRUGen(q, n)\n",
    "    B = PolyToLattice4(g, G, -f, -F, n)\n",
    "    B_ = FFT(B)\n",
    "    B_adj = HermitianAdjointMatrix(B_, n2)\n",
    "    G = mult_matrix(B_, B_adj)\n",
    "    # Computing the LDL⋆ tree\n",
    "    T = LDL(g00, g01, g10, g11, n)\n",
    "    \n",
    "    for leaf in T:\n",
    "        leaf.value = sigma / sqrt(leaf.value)\n",
    "        \n",
    "    sk = (B_, T)\n",
    "    f_q = invertmodprime(f, q, n)\n",
    "    h = g * f_q % p\n",
    "    pk = h\n",
    "    return sk, pk"
   ]
  },
  {
   "cell_type": "code",
   "execution_count": null,
   "metadata": {},
   "outputs": [],
   "source": []
  }
 ],
 "metadata": {
  "kernelspec": {
   "display_name": "SageMath 9.3",
   "language": "sage",
   "name": "sagemath"
  },
  "language_info": {
   "codemirror_mode": {
    "name": "ipython",
    "version": 3
   },
   "file_extension": ".py",
   "mimetype": "text/x-python",
   "name": "python",
   "nbconvert_exporter": "python",
   "pygments_lexer": "ipython3",
   "version": "3.7.10"
  }
 },
 "nbformat": 4,
 "nbformat_minor": 4
}
