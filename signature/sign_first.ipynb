{
 "cells": [
  {
   "cell_type": "code",
   "execution_count": 126,
   "metadata": {},
   "outputs": [],
   "source": [
    "Zx.<x> = ZZ[]\n",
    "\n",
    "#k = 3\n",
    "#n = 2^k\n",
    "#m = 2 * n\n",
    "#q = 12 * 1024 + 1\n",
    "#phi = x^n + 1\n",
    "#sigma = 1.17 / sqrt(q / (2*n))   \n",
    "RCDT = [3024686241123004913666, 1564742784480091954050, 636254429462080897535, 199560484645026482916, 47667343854657281903, 8595902006365044063, 1163297957344668388, 117656387352093658, 8867391802663976, 496969357462633, 20680885154299, 638331848991, 14602316184, 247426747, 3104126, 28824, 198, 1, 0]"
   ]
  },
  {
   "cell_type": "code",
   "execution_count": 127,
   "metadata": {},
   "outputs": [],
   "source": [
    "def balance(f,q,n):\n",
    "    g = list(((f[i] + q//2) % q) - q//2 for i in range(n))\n",
    "    return Zx(g)"
   ]
  },
  {
   "cell_type": "code",
   "execution_count": 128,
   "metadata": {},
   "outputs": [],
   "source": [
    "def merge(a,b,n):\n",
    "    a = a.subs(x=x^2)\n",
    "    b = x*b.subs(x=x^2)\n",
    "    return a + b "
   ]
  },
  {
   "cell_type": "code",
   "execution_count": 129,
   "metadata": {},
   "outputs": [],
   "source": [
    "def split(f,n):\n",
    "    f0 = list(f[2*i] for i in range(n//2+1))\n",
    "    f1 = list(f[2*i+1] for i in range(n//2+1))\n",
    "    return Zx(f0), Zx(f1)"
   ]
  },
  {
   "cell_type": "code",
   "execution_count": 150,
   "metadata": {},
   "outputs": [],
   "source": [
    "def InnerProduct(a,b,n):\n",
    "    s = [a[i]*b[i] for i in range(n)]\n",
    "    return sum(s)"
   ]
  },
  {
   "cell_type": "code",
   "execution_count": 136,
   "metadata": {},
   "outputs": [],
   "source": [
    "def EuclideanNorm(a,n):\n",
    "    b = InnerProduct(a,a,n)\n",
    "    return sqrt(float(b))"
   ]
  },
  {
   "cell_type": "code",
   "execution_count": 137,
   "metadata": {},
   "outputs": [],
   "source": [
    "def FieldNorm(f, n):\n",
    "    f0, f1 = split(f,n)\n",
    "    iks = f.parent()([0, 1])\n",
    "    return (f0^2 - iks * f1^2) % (iks^(n//2)+1)"
   ]
  },
  {
   "cell_type": "code",
   "execution_count": 138,
   "metadata": {},
   "outputs": [],
   "source": [
    "def HermitianAdjointPoly(p, n):\n",
    "    f=[p[0]]\n",
    "    for i in range(1,n):    \n",
    "        f.append(-p[n-i])\n",
    "    return Zx(f) "
   ]
  },
  {
   "cell_type": "code",
   "execution_count": 147,
   "metadata": {},
   "outputs": [],
   "source": [
    "def gs_norm(f, g, q, n):\n",
    "    T = Zx.change_ring(QQ).quotient(x^n+1) \n",
    "    # Using (3.9) with (3.8) or (3.10)    \n",
    "    f_star = HermitianAdjointPoly(f, n)\n",
    "    g_star = HermitianAdjointPoly(g, n)\n",
    "    first = EuclideanNorm([*g.coefficients(sparse=False), *(-f).coefficients(sparse=False)], n)\n",
    "    s1 = (q * T(f_star)) / T((f*f_star + g*g_star))\n",
    "    s2 = (q * T(g_star)) / T((f*f_star + g*g_star))\n",
    "    second = EuclideanNorm(list(s1) + list(s2), n)\n",
    "    gamma = max(first, second)\n",
    "    return gamma"
   ]
  },
  {
   "cell_type": "code",
   "execution_count": 166,
   "metadata": {},
   "outputs": [],
   "source": [
    "from os import urandom\n",
    "\n",
    "LN2 = 0.69314718056\n",
    "\n",
    "def UniformBits(k):\n",
    "    return int.from_bytes(bytes(list(floor(uniform(0, 256)) for i in range(k / 8))), 'little')\n",
    "\n",
    "def BaseSampler():\n",
    "    u = UniformBits(72)\n",
    "    z_0 = 0\n",
    "    RCDT = [3024686241123004913666, 1564742784480091954050, 636254429462080897535, 199560484645026482916, 47667343854657281903, 8595902006365044063, 1163297957344668388, 117656387352093658, 8867391802663976, 496969357462633, 20680885154299, 638331848991, 14602316184, 247426747, 3104126, 28824, 198, 1, 0]\n",
    "    for i in range(0, 18):\n",
    "        z_0 = z_0 + int(u<RCDT[i]) \n",
    "    return z_0\n",
    "\n",
    "def ApproxExp(x, ccs):\n",
    "    C = [0x00000004741183A3,0x00000036548CFC06,0x0000024FDCBF140A,0x0000171D939DE045,0x0000D00CF58F6F84,0x000680681CF796E3,0x002D82D8305B0FEA,0x011111110E066FD0,0x0555555555070F00,0x155555555581FF00,0x400000000002B400,0x7FFFFFFFFFFF4800,0x8000000000000000]\n",
    "    y = C[0]\n",
    "    z = floor(2^63*x)\n",
    "    for i in range(1, 13):\n",
    "        y = C[i] - (z*y) >> 63\n",
    "    z = floor(2^63*ccs)\n",
    "    y = (z*y) >> 63\n",
    "    return y\n",
    "\n",
    "def BerExp(x, ccs):\n",
    "    s = floor(x/LN2)\n",
    "    r = x - s*LN2\n",
    "    s = min(s, 63)\n",
    "    z = (2*ApproxExp(r, ccs) - 1) >> s\n",
    "    for i in range(56, -8, -8):\n",
    "        p = UniformBits(8)\n",
    "        w = p - ((z >> i) & 0xFF)\n",
    "        if int(w) == 0:\n",
    "            break\n",
    "    return int(w < 0)\n",
    "\n",
    "def SamplerZ(mu, sigma, sigmamin, sigmamax):\n",
    "    r = mu - int(floor(mu))\n",
    "    ccs = sigmamin/sigma\n",
    "    while True:\n",
    "        z_0 = BaseSampler()\n",
    "        b = UniformBits(8)&0x1\n",
    "        z = b + (2*b-1)*z_0\n",
    "        x = (z-r)^2/2/sigma^2 - z_0^2/2/sigmamax^2\n",
    "        if BerExp(x, ccs) == 1:\n",
    "            return z + int(floor(mu))\n",
    "\n",
    " "
   ]
  },
  {
   "cell_type": "code",
   "execution_count": 141,
   "metadata": {},
   "outputs": [
    {
     "name": "stdout",
     "output_type": "stream",
     "text": [
      "(166*x^7 + 128*x^6 + 186*x^5 + 122*x^4 + 151*x^3 + 59*x^2 + 161*x + 114, 114*x^7 + 166*x^6 + 106*x^5 + 103*x^4 + 128*x^3 + 143*x^2 + 66*x + 209)\n"
     ]
    }
   ],
   "source": [
    "def gen_poly(n, q):\n",
    "    phi = x^n + 1\n",
    "    def D(mu=0):\n",
    "        z = 0\n",
    "        for i in range(1, 4096/n + 1):\n",
    "            sigma_star = 1.17 * sqrt(q / 8192)\n",
    "            sigmamin, sigmamax = 1.277833697, 1.8205\n",
    "            zi = SamplerZ(mu, sigma_star, sigmamin, sigmamax)\n",
    "            z += zi\n",
    "        return z\n",
    "\n",
    "    f = [0] * n\n",
    "    g = [0] * n\n",
    "    for i in range(n):\n",
    "        f[i] = D()\n",
    "        g[i] = D()\n",
    "    f = Zx(f) % phi\n",
    "    g = Zx(g) % phi\n",
    "    return f, g\n"
   ]
  },
  {
   "cell_type": "code",
   "execution_count": 152,
   "metadata": {},
   "outputs": [],
   "source": [
    "def Reduce(f, g, F, G, n):\n",
    "    \n",
    "    T = Zx.change_ring(QQ).quotient(x^n+1) \n",
    "    \n",
    "    iks = f.parent()([0, 1])\n",
    "    f_star = HermitianAdjointPoly(f, n)\n",
    "    g_star = HermitianAdjointPoly(g, n)\n",
    "    while True:\n",
    "        num = F*f_star + G*g_star\n",
    "        num = T(num)\n",
    "        den = f*f_star + g*g_star\n",
    "        den = 1 / T(den)\n",
    "        res = num * den\n",
    "        k = Zx([int(round(elt)) for elt in res])\n",
    "        F = F - k*f \n",
    "        G = G - k*g\n",
    "        if all(elt == 0 for elt in k):\n",
    "            break\n",
    "    return f, g, F, G"
   ]
  },
  {
   "cell_type": "code",
   "execution_count": 144,
   "metadata": {},
   "outputs": [],
   "source": [
    "def NTT(f, n, q):\n",
    "    # Zp\n",
    "    roots = (x^n + 1).roots(Integers(q))\n",
    "    ans = [f.subs(x = i[0]) % q for i in roots]\n",
    "    return ans"
   ]
  },
  {
   "cell_type": "code",
   "execution_count": 169,
   "metadata": {},
   "outputs": [],
   "source": [
    "def NTRUSolve(f, g, n, q):\n",
    "    if n == 1:\n",
    "        # u, v are numbers\n",
    "        gcd_, u, v = xgcd(f[0], g[0])\n",
    "        print(\"gcd\", u * f + v * g, \"\\n\")\n",
    "        if gcd_ != 1:\n",
    "            return None, None, False\n",
    "        F, G = -v*q, u*q\n",
    "        print(\"F1, G1\", F / q, G / q)\n",
    "        return F, G, True\n",
    "    else:\n",
    "        # ▷ f′, g′, F′, G′ ∈ Z[x]/(x^n/2 + 1)\n",
    "        # ▷ N as defined in either (3.25) or (3.26)\n",
    "        f_ = FieldNorm(f, n) \n",
    "        g_ = FieldNorm(g, n) \n",
    "        print(n//2, f_, g_, sep=\"\\n\")\n",
    "        F_, G_, flag = NTRUSolve(f_, g_, n//2, q)\n",
    "        if flag:\n",
    "            F = F_.subs(x=x^2) * g.subs(x=-x) \n",
    "            G = G_.subs(x=x^2) * f.subs(x=-x)\n",
    "            print(\"F, G\", F, G, sep=\"\\n\")\n",
    "            f, g, F, G = Reduce(f, g, F, G, n)\n",
    "            return F % (x^n +1), G % (x^n +1), flag\n",
    "        else:\n",
    "            return F_, G_, flag\n",
    "            \n",
    "        "
   ]
  },
  {
   "cell_type": "code",
   "execution_count": 170,
   "metadata": {},
   "outputs": [
    {
     "name": "stdout",
     "output_type": "stream",
     "text": [
      "-x^7 + 3*x^6 - x^4 + 4*x^3 + 6*x^2 - 2*x - 4\n",
      "x^7 - x^6 - 2*x^5 - 4*x^3 - 3*x^2 - x + 7\n",
      "4\n",
      "-51*x^3 + 51*x^2 - 54*x - 17\n",
      "-33*x^3 - 4*x^2 - 47*x + 57\n",
      "2\n",
      "-2049*x + 3196\n",
      "-1576*x + 6335\n",
      "1\n",
      "14412817\n",
      "42616001\n",
      "gcd 1 \n",
      "\n",
      "F1, G1 5126443 15157932\n",
      "F, G\n",
      "137347660856*x + 552092278885\n",
      "527996245356*x + 823560761424\n",
      "F, G\n",
      "15015*x^5 - 1820*x^4 + 100354*x^3 + 16363*x^2 + 112471*x + 136401\n",
      "105060*x^5 + 105060*x^4 + 297237*x^3 + 150977*x^2 + 196938*x - 61999\n",
      "F, G\n",
      "-5*x^13 - 5*x^12 - 6*x^11 - 16*x^10 + 68*x^9 + x^8 + 17*x^7 - 33*x^6 - 8*x^5 + 160*x^4 + 64*x^3 - 172*x^2 + 20*x + 140\n",
      "26*x^13 + 78*x^12 + 3*x^11 - 17*x^10 - 109*x^9 + 138*x^8 + 44*x^7 - 69*x^6 + 26*x^5 - 46*x^4 - 26*x^3 + 44*x^2 + 8*x - 16\n",
      "(f*G - g*F) % (x^n + 1) == q:  True\n"
     ]
    },
    {
     "data": {
      "text/plain": [
       "(-x^7 + 3*x^6 - x^4 + 4*x^3 + 6*x^2 - 2*x - 4,\n",
       " x^7 - x^6 - 2*x^5 - 4*x^3 - 3*x^2 - x + 7,\n",
       " 2*x^7 + x^6 + 2*x^5 - x^4 - 5*x^3 + 2*x - 5,\n",
       " -4*x^7 - x^6 - x^5 + x^4 + 3*x^3 + 2*x^2 - 2*x + 3)"
      ]
     },
     "execution_count": 170,
     "metadata": {},
     "output_type": "execute_result"
    }
   ],
   "source": [
    "def NTRUGen(q, n):\n",
    "    # sigma = 1.17 / sqrt(q / (2*n)) \n",
    "    while True:\n",
    "\n",
    "        f = -x^7 + 3*x^6 - x^4 + 4*x^3 + 6*x^2 - 2*x - 4\n",
    "        g = x^7 - x^6 - 2*x^5 - 4*x^3 - 3*x^2 - x + 7\n",
    "        \n",
    "        if gs_norm(f, g, q, n) > (1.17 ** 2) * q:\n",
    "            print(\"restart\")\n",
    "\n",
    "        print(f, g, sep=\"\\n\")\n",
    "                \n",
    "        F, G, flag = NTRUSolve(f, g, n, q)\n",
    "        F, G = F % (x^n +1), G % (x^n +1)\n",
    "        print(\"(f*G - g*F) % (x^n + 1) == q: \", (f*G - g*F) % (x^n + 1) == q)\n",
    "        \n",
    "        if not flag:\n",
    "            continue\n",
    "        else:\n",
    "            F = Zx([int(coef) for coef in F.coefficients(sparse=False)])\n",
    "            G = Zx([int(coef) for coef in G.coefficients(sparse=False)])\n",
    "            break\n",
    "            \n",
    "    return f, g, F, G\n",
    "    \n",
    "\n",
    "NTRUGen(17, 8)"
   ]
  },
  {
   "cell_type": "code",
   "execution_count": 178,
   "metadata": {},
   "outputs": [
    {
     "name": "stdout",
     "output_type": "stream",
     "text": [
      "373*x^3 + 303*x^2 + 206*x + 159\n",
      "252*x^3 + 365*x^2 + 335*x + 275\n",
      "2\n",
      "193047*x + 87148\n",
      "152029*x + 111240\n",
      "1\n",
      "44861918113\n",
      "35487154441\n",
      "gcd 1 \n",
      "\n",
      "F1, G1 -17397551500 -13761997323\n",
      "F, G\n",
      "32503573735093121500*x - 23782946295060540000\n",
      "32648337420452781309*x - 14738573039299336356\n",
      "F, G\n",
      "-14930748*x^5 + 21625885*x^4 - 16478419*x^3 + 11412330*x^2 + 4479955*x - 3677575\n",
      "-20147968*x^5 + 16366848*x^4 - 10838221*x^3 + 8353719*x^2 + 159650*x - 123225\n",
      "(f*G - g*F) % (x^n + 1) == q True\n"
     ]
    },
    {
     "data": {
      "text/plain": [
       "(373*x^3 + 303*x^2 + 206*x + 159,\n",
       " 252*x^3 + 365*x^2 + 335*x + 275,\n",
       " 205*x^3 + 95*x^2 + 107*x + 29,\n",
       " 163*x^3 + 142*x^2 + 134*x + 104)"
      ]
     },
     "execution_count": 178,
     "metadata": {},
     "output_type": "execute_result"
    }
   ],
   "source": [
    "def NTRUGen(q, n):\n",
    "    # sigma = 1.17 / sqrt(q / (2*n)) \n",
    "    while True:\n",
    "        while True:\n",
    "            while True:\n",
    "\n",
    "                f, g = gen_poly(n, q)\n",
    "                print(f, g, sep=\"\\n\")\n",
    "\n",
    "                if gs_norm(f, g, q, n) > (1.17 ** 2) * q:\n",
    "                    print(\"restart norm\\n\")\n",
    "                    continue\n",
    "                break\n",
    "\n",
    "            f_ntt = NTT(f, n, q)\n",
    "            if any((elem == 0) for elem in f_ntt):\n",
    "                print(\"restart ntt\\n\")\n",
    "                continue\n",
    "            break\n",
    "                \n",
    "        F, G, flag = NTRUSolve(f, g, n, q)\n",
    "        \n",
    "        if not flag:\n",
    "            print(\"restart solve\")\n",
    "            continue\n",
    "        else:\n",
    "            F, G = F % (x^n +1), G % (x^n +1)\n",
    "            F = Zx([int(coef) for coef in F.coefficients(sparse=False)])\n",
    "            G = Zx([int(coef) for coef in G.coefficients(sparse=False)])\n",
    "            print(\"(f*G - g*F) % (x^n + 1) == q\", (f*G - g*F) % (x^n + 1) == q)\n",
    "            break\n",
    "            \n",
    "    return f, g, F, G\n",
    "    \n",
    "\n",
    "NTRUGen(12 * 1024 + 1, 4)"
   ]
  },
  {
   "cell_type": "code",
   "execution_count": 93,
   "metadata": {},
   "outputs": [],
   "source": [
    "def KeyGen(sigma, q, n):\n",
    "    f, g, F, G = NTRUGen(q, n)\n",
    "    B = PolyToLattice4(g, G, -f, -F, n)\n",
    "    B_ = FFT(B)\n",
    "    B_adj = HermitianAdjointMatrix(B_, n2)\n",
    "    G = mult_matrix(B_, B_adj)\n",
    "    # Computing the LDL⋆ tree\n",
    "    T = LDL(g00, g01, g10, g11, n)\n",
    "    \n",
    "    for leaf in T:\n",
    "        leaf.value = sigma / sqrt(leaf.value)\n",
    "        \n",
    "    sk = (B_, T)\n",
    "    f_q = invertmodprime(f, q, n)\n",
    "    h = g * f_q % p\n",
    "    pk = h\n",
    "    return sk, pk"
   ]
  },
  {
   "cell_type": "code",
   "execution_count": null,
   "metadata": {},
   "outputs": [],
   "source": []
  }
 ],
 "metadata": {
  "kernelspec": {
   "display_name": "SageMath 9.3",
   "language": "sage",
   "name": "sagemath"
  },
  "language_info": {
   "codemirror_mode": {
    "name": "ipython",
    "version": 3
   },
   "file_extension": ".py",
   "mimetype": "text/x-python",
   "name": "python",
   "nbconvert_exporter": "python",
   "pygments_lexer": "ipython3",
   "version": "3.7.10"
  }
 },
 "nbformat": 4,
 "nbformat_minor": 4
}
