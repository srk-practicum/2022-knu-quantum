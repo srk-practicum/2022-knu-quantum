{
 "cells": [
  {
   "cell_type": "code",
   "execution_count": 4,
   "metadata": {},
   "outputs": [],
   "source": [
    "Zx.<x> = ZZ[]"
   ]
  },
  {
   "cell_type": "code",
   "execution_count": 3,
   "metadata": {},
   "outputs": [],
   "source": [
    "from Crypto.Hash import SHAKE256"
   ]
  },
  {
   "cell_type": "code",
   "execution_count": 13,
   "metadata": {},
   "outputs": [],
   "source": [
    "def HashToPoint(noise, message, q, n):\n",
    "    \n",
    "    # it should be checked for the integer type problems\n",
    "    \n",
    "    k = floor(2**16 / q)\n",
    "    c = [0]*n\n",
    "    \n",
    "    \n",
    "    ctx = SHAKE256.new()\n",
    "    ctx.update(noise)\n",
    "    ctx.update(message)\n",
    "    \n",
    "    # ctx.update(bytes(message, encoding = 'utf-8'))\n",
    "    \n",
    "    i = 0\n",
    "\n",
    "    while i < n:\n",
    "        \n",
    "        t = int.from_bytes(ctx.read(2), byteorder='big')\n",
    "        # print(t)\n",
    "        \n",
    "        if t < k * q:\n",
    "            c[i] = t % q\n",
    "            i += 1\n",
    "    \n",
    "    return Zx(c)"
   ]
  },
  {
   "cell_type": "code",
   "execution_count": 12,
   "metadata": {
    "scrolled": true
   },
   "outputs": [
    {
     "name": "stdout",
     "output_type": "stream",
     "text": [
      "6*x^7 + 12*x^5 + 7*x^4 + 6*x^3 + 13*x^2 + 13*x + 1\n"
     ]
    }
   ],
   "source": [
    "noise, message = \"this is some random noise\", \"this is an important message\"\n",
    "noise = bytes(noise, encoding='utf-8')\n",
    "message = bytes(message, encoding='utf-8')\n",
    "n = 8\n",
    "q = 17\n",
    "print(HashToPoint(noise, message, q, n))"
   ]
  },
  {
   "cell_type": "code",
   "execution_count": 6,
   "metadata": {},
   "outputs": [],
   "source": [
    "#----------------------------------------------------------#"
   ]
  },
  {
   "cell_type": "code",
   "execution_count": 41,
   "metadata": {},
   "outputs": [],
   "source": [
    "def UniformBits(k):\n",
    "    return bytes(list(floor(uniform(0, 256)) for i in range(k / 8)))\n",
    "\n",
    "def LatticeToPoly4(M, n):\n",
    "    p00=Zx(M[0][:n])\n",
    "    p01=Zx(M[0][n:])\n",
    "    p10=Zx(M[n][:n])\n",
    "    p11=Zx(M[n][n:])\n",
    "    return p00, p01, p10, p11"
   ]
  },
  {
   "cell_type": "code",
   "execution_count": 42,
   "metadata": {},
   "outputs": [],
   "source": [
    "# without FFT\n",
    "def Sign(message, B, T, bound, sigmamin, sigmamax, q, n):\n",
    "    r = UniformBits(320)\n",
    "    m = bytes(message, encoding='utf-8')\n",
    "    c = HashToPoint(r, m, q, n)\n",
    "    \n",
    "    g, f, G, F = LatticeToPoly4(B, n_2)\n",
    "    \n",
    "    t = (- c/q * F, c/q * f)\n",
    "    \n",
    "    \n",
    "    # ffSampling(t0, t1, T, sigmamin, sigmamax, q, n)"
   ]
  },
  {
   "cell_type": "code",
   "execution_count": 8,
   "metadata": {},
   "outputs": [],
   "source": [
    "n = 2^9\n",
    "q = 12289\n",
    "sigma_min = 1.277833697\n",
    "sigma_max = 1.8205\n",
    "beta = sqrt(34034726)\n",
    "bound = int(beta^2)"
   ]
  },
  {
   "cell_type": "code",
   "execution_count": 43,
   "metadata": {},
   "outputs": [],
   "source": [
    "B = 0\n",
    "T = 0"
   ]
  },
  {
   "cell_type": "code",
   "execution_count": 9,
   "metadata": {},
   "outputs": [],
   "source": [
    "message = \"this is an important message\""
   ]
  },
  {
   "cell_type": "code",
   "execution_count": null,
   "metadata": {},
   "outputs": [],
   "source": [
    "Sign(message, B, T, bound, sigma_min, sigma_max, q, n)"
   ]
  }
 ],
 "metadata": {
  "kernelspec": {
   "display_name": "SageMath 9.3",
   "language": "sage",
   "name": "sagemath"
  }
 },
 "nbformat": 4,
 "nbformat_minor": 4
}
