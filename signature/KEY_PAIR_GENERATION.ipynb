{
 "cells": [
  {
   "cell_type": "code",
   "execution_count": 110,
   "metadata": {},
   "outputs": [],
   "source": [
    "Zx.<x> = ZZ[]\n",
    "def HermitianAdjointPoly(p, n):\n",
    "    f=[p[0]]\n",
    "    for i in range(1,n):    \n",
    "        f.append(-p[n-i])\n",
    "    return Zx(f) "
   ]
  },
  {
   "cell_type": "code",
   "execution_count": 111,
   "metadata": {},
   "outputs": [],
   "source": [
    "def CyclicRotate(input, n):\n",
    "    return input[(len(input)-n):]+input[:(len(input)-n)]"
   ]
  },
  {
   "cell_type": "code",
   "execution_count": 112,
   "metadata": {},
   "outputs": [
    {
     "name": "stdout",
     "output_type": "stream",
     "text": [
      "[1, 2, 3, 4, 5, 0, 6]\n"
     ]
    }
   ],
   "source": [
    "def test_CyclicRotate():\n",
    "    inp = [1, 2, 3, 4, 5, 0, 6]\n",
    "    print(CyclicRotate(inp, 7))\n",
    "test_CyclicRotate()"
   ]
  },
  {
   "cell_type": "code",
   "execution_count": 113,
   "metadata": {},
   "outputs": [],
   "source": [
    "def PolyToCirculant(p,n):\n",
    "    M=[]\n",
    "    k=p.coefficients(sparse=False)\n",
    "    while len(k)!=n:\n",
    "        k.append(0)\n",
    "    for i in range(n):\n",
    "        m = CyclicRotate(k, i)\n",
    "        M.append(m)\n",
    "    return Matrix(M)"
   ]
  },
  {
   "cell_type": "code",
   "execution_count": 114,
   "metadata": {},
   "outputs": [
    {
     "name": "stdout",
     "output_type": "stream",
     "text": [
      "[-10  18  24   0  -3  11   5   0]\n",
      "[  0 -10  18  24   0  -3  11   5]\n",
      "[  5   0 -10  18  24   0  -3  11]\n",
      "[ 11   5   0 -10  18  24   0  -3]\n",
      "[ -3  11   5   0 -10  18  24   0]\n",
      "[  0  -3  11   5   0 -10  18  24]\n",
      "[ 24   0  -3  11   5   0 -10  18]\n",
      "[ 18  24   0  -3  11   5   0 -10]\n"
     ]
    }
   ],
   "source": [
    "def test_PolyToCirculant():\n",
    "    p = -10 + 18*x + 24*x^2 - 3*x^4 + 11*x^5 + 5*x^6\n",
    "    print(PolyToCirculant(p, 8))\n",
    "    \n",
    "test_PolyToCirculant()"
   ]
  },
  {
   "cell_type": "code",
   "execution_count": 115,
   "metadata": {},
   "outputs": [],
   "source": [
    "def CirculantToPoly(M):\n",
    "    # Zx.<x> = PolynomialRing(ZZ)\n",
    "    return Zx(list(M[0]))"
   ]
  },
  {
   "cell_type": "code",
   "execution_count": 116,
   "metadata": {},
   "outputs": [
    {
     "name": "stdout",
     "output_type": "stream",
     "text": [
      "7*x^7 + 5*x^6 + 11*x^5 - 3*x^4 - 4*x^3 + 24*x^2 + 18*x - 10\n"
     ]
    }
   ],
   "source": [
    "def test_CirculantToPoly():\n",
    "    p = -10 + 18*x + 24*x^2 - 4*x^3 - 3*x^4 + 11*x^5 + 5*x^6 + 7*x^7\n",
    "    print(CirculantToPoly(PolyToCirculant(p, 8)))\n",
    "test_CirculantToPoly()"
   ]
  },
  {
   "cell_type": "code",
   "execution_count": 139,
   "metadata": {},
   "outputs": [],
   "source": [
    "def PolyToLattice4(p00, p01, p10, p11, n):\n",
    "    M=[]\n",
    "    p=[p00.coefficients(sparse=False),p01.coefficients(sparse=False),p10.coefficients(sparse=False),p11.coefficients(sparse=False)]\n",
    "    for i in range(4):\n",
    "        while len(p[i])!=n:\n",
    "            p[i].append(0)\n",
    "    for i in range(n):\n",
    "        m1 = CyclicRotate(p[0], i)\n",
    "        m2 = CyclicRotate(p[1], i)\n",
    "        M.append(m1+m2)\n",
    "    for i in range(n):\n",
    "        m1 = CyclicRotate(p[2], i)\n",
    "        m2 = CyclicRotate(p[3], i)\n",
    "        M.append(m1+m2)\n",
    "    return Matrix(M)"
   ]
  },
  {
   "cell_type": "code",
   "execution_count": 134,
   "metadata": {},
   "outputs": [
    {
     "name": "stdout",
     "output_type": "stream",
     "text": [
      "[[-10, 18, 24, -4, -1, 8, 4, 0], [-4, -10, 18, 24, 0, -1, 8, 4], [24, -4, -10, 18, 4, 0, -1, 8], [18, 24, -4, -10, 8, 4, 0, -1], [0, 11, -34, -15, 10, 7, 0, 22], [-15, 0, 11, -34, 22, 10, 7, 0], [-34, -15, 0, 11, 0, 22, 10, 7], [11, -34, -15, 0, 7, 0, 22, 10]]\n"
     ]
    }
   ],
   "source": [
    "def test_PolyToLattice4():\n",
    "    p00 = -10 + 18*x + 24*x^2 - 4*x^3\n",
    "    p01 = -1 + 8*x + 4*x^2 \n",
    "    p10 = 11*x - 34*x^2 - 15*x^3\n",
    "    p11 = 10 + 7*x + 22*x^3\n",
    "    print(PolyToLattice4(p00, p01, p10, p11, 4))\n",
    "test_PolyToLattice4()"
   ]
  },
  {
   "cell_type": "code",
   "execution_count": 135,
   "metadata": {},
   "outputs": [],
   "source": [
    "def LatticeToPoly4(M, n):\n",
    "\n",
    "    p00=Zx(M[0][:n])\n",
    "    p01=Zx(M[0][n:])\n",
    "    p10=Zx(M[n][:n])\n",
    "    p11=Zx(M[n][n:])\n",
    "    return p00, p01, p10, p11\n"
   ]
  },
  {
   "cell_type": "code",
   "execution_count": 142,
   "metadata": {},
   "outputs": [
    {
     "name": "stdout",
     "output_type": "stream",
     "text": [
      "(-4*x^3 + 24*x^2 + 18*x - 10, 4*x^2 + 8*x - 1, -15*x^3 - 34*x^2 + 11*x, 22*x^3 + 7*x + 10)\n"
     ]
    }
   ],
   "source": [
    "def test_LatticeToPoly4():\n",
    "    p00 = -10 + 18*x + 24*x^2 - 4*x^3\n",
    "    p01 = -1 + 8*x + 4*x^2 + 14*x^3\n",
    "    p10 = 3 - 11*x - 34*x^2 - 15*x^3\n",
    "    p11 = 10 + 7*x + 3*x^2 + 22*x^3\n",
    "    print(LatticeToPoly4([[-10, 18, 24, -4, -1, 8, 4, 0], [-4, -10, 18, 24, 0, -1, 8, 4], [24, -4, -10, 18, 4, 0, -1, 8], [18, 24, -4, -10, 8, 4, 0, -1], [0, 11, -34, -15, 10, 7, 0, 22], [-15, 0, 11, -34, 22, 10, 7, 0], [-34, -15, 0, 11, 0, 22, 10, 7], [11, -34, -15, 0, 7, 0, 22, 10]],4))\n",
    "test_LatticeToPoly4()"
   ]
  },
  {
   "cell_type": "code",
   "execution_count": 137,
   "metadata": {},
   "outputs": [],
   "source": [
    "def HermitianAdjointMatrix(M, n2):\n",
    "    a, c, b, d = LatticeToPoly4(M, n2/2)\n",
    "    a, c, b, d = HermitianAdjointPoly(a, n2/2), HermitianAdjointPoly(c, n2/2),HermitianAdjointPoly(b, n2/2),HermitianAdjointPoly(d, n2/2)\n",
    "    return PolyToLattice4( a, c, b, d, n2/2)"
   ]
  },
  {
   "cell_type": "code",
   "execution_count": 138,
   "metadata": {},
   "outputs": [
    {
     "name": "stdout",
     "output_type": "stream",
     "text": [
      "[[-10, 4, -24, -18, -1, -14, -4, -8], [-18, -10, 4, -24, -8, -1, -14, -4], [-24, -18, -10, 4, -4, -8, -1, -14], [4, -24, -18, -10, -14, -4, -8, -1], [3, 15, 34, 11, 10, -22, -3, -7], [11, 3, 15, 34, -7, 10, -22, -3], [34, 11, 3, 15, -3, -7, 10, -22], [15, 34, 11, 3, -22, -3, -7, 10]]\n"
     ]
    }
   ],
   "source": [
    "def test_HermitianAdjointMatrix():\n",
    "    p00 = -10 + 18*x + 24*x^2 - 4*x^3\n",
    "    p01 = -1 + 8*x + 4*x^2 + 14*x^3\n",
    "    p10 = 3 - 11*x - 34*x^2 - 15*x^3\n",
    "    p11 = 10 + 7*x + 3*x^2 + 22*x^3\n",
    "    print(HermitianAdjointMatrix(PolyToLattice4(p00, p01, p10, p11, 4),8))\n",
    "test_HermitianAdjointMatrix()"
   ]
  },
  {
   "cell_type": "code",
   "execution_count": null,
   "metadata": {},
   "outputs": [],
   "source": []
  }
 ],
 "metadata": {
  "kernelspec": {
   "display_name": "SageMath 9.4",
   "language": "sage",
   "name": "sagemath-9.4"
  },
  "language_info": {
   "codemirror_mode": {
    "name": "ipython",
    "version": 3
   },
   "file_extension": ".py",
   "mimetype": "text/x-python",
   "name": "python",
   "nbconvert_exporter": "python",
   "pygments_lexer": "ipython3",
   "version": "3.9.5"
  }
 },
 "nbformat": 4,
 "nbformat_minor": 4
}
