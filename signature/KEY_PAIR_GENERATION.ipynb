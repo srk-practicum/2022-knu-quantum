{
 "cells": [
  {
   "cell_type": "code",
   "execution_count": 201,
   "metadata": {},
   "outputs": [],
   "source": [
    "Zx.<x> = ZZ[]\n",
    "def HermitianAdjointPoly(p, n):\n",
    "    f=[p[0]]\n",
    "    for i in range(1,n):    \n",
    "        f.append(-p[n-i])\n",
    "    return Zx(f) "
   ]
  },
  {
   "cell_type": "code",
   "execution_count": 202,
   "metadata": {},
   "outputs": [],
   "source": [
    "def CyclicRotate(input, n):\n",
    "    pass"
   ]
  },
  {
   "cell_type": "code",
   "execution_count": null,
   "metadata": {},
   "outputs": [],
   "source": []
  },
  {
   "cell_type": "code",
   "execution_count": 203,
   "metadata": {},
   "outputs": [],
   "source": [
    "def PolyToLattice(p,n):\n",
    "    M=[]\n",
    "    for i in range(n):\n",
    "        m = (p*x^i) % (x^n+1)\n",
    "        M.append(list(m))\n",
    "    return M"
   ]
  },
  {
   "cell_type": "code",
   "execution_count": 204,
   "metadata": {},
   "outputs": [
    {
     "name": "stdout",
     "output_type": "stream",
     "text": [
      "[[-10, 18, 24, -4, -3, 11, 5, 7], [-7, -10, 18, 24, -4, -3, 11, 5], [-5, -7, -10, 18, 24, -4, -3, 11], [-11, -5, -7, -10, 18, 24, -4, -3], [3, -11, -5, -7, -10, 18, 24, -4], [4, 3, -11, -5, -7, -10, 18, 24], [-24, 4, 3, -11, -5, -7, -10, 18], [-18, -24, 4, 3, -11, -5, -7, -10]]\n"
     ]
    }
   ],
   "source": [
    "def test_PolyToLattice():\n",
    "    p = -10 + 18*x + 24*x^2 - 4*x^3 - 3*x^4 + 11*x^5 + 5*x^6 + 7*x^7\n",
    "    print(PolyToLattice(p, 8))\n",
    "test_PolyToLattice()"
   ]
  },
  {
   "cell_type": "code",
   "execution_count": 205,
   "metadata": {},
   "outputs": [],
   "source": [
    "def LatticeToPoly(M):\n",
    "    return Zx(M[0])"
   ]
  },
  {
   "cell_type": "code",
   "execution_count": 206,
   "metadata": {},
   "outputs": [
    {
     "name": "stdout",
     "output_type": "stream",
     "text": [
      "7*x^7 + 5*x^6 + 11*x^5 - 3*x^4 - 4*x^3 + 24*x^2 + 18*x - 10\n"
     ]
    }
   ],
   "source": [
    "def test_LatticeToPoly():\n",
    "    p = -10 + 18*x + 24*x^2 - 4*x^3 - 3*x^4 + 11*x^5 + 5*x^6 + 7*x^7\n",
    "    print(LatticeToPoly(PolyToLattice(p, 8)))\n",
    "test_LatticeToPoly()"
   ]
  },
  {
   "cell_type": "code",
   "execution_count": 207,
   "metadata": {},
   "outputs": [],
   "source": [
    "def PolyToLattice4(p00, p01, p10, p11, n):\n",
    "    M=[]\n",
    "    for i in range(n):\n",
    "        m1 = (p00*x^i) % (x^n+1)\n",
    "        m2 = (p01*x^i) % (x^n+1)\n",
    "        M.append(list(m1)+list(m2))\n",
    "    for i in range(n):\n",
    "        m1 = (p10*x^i) % (x^n+1)\n",
    "        m2 = (p11*x^i) % (x^n+1)\n",
    "        M.append(list(m1)+list(m2))\n",
    "    return M"
   ]
  },
  {
   "cell_type": "code",
   "execution_count": 208,
   "metadata": {},
   "outputs": [
    {
     "name": "stdout",
     "output_type": "stream",
     "text": [
      "[[-10, 18, 24, -4, -1, 8, 4, 14], [4, -10, 18, 24, -14, -1, 8, 4], [-24, 4, -10, 18, -4, -14, -1, 8], [-18, -24, 4, -10, -8, -4, -14, -1], [3, -11, -34, -15, 10, 7, 3, 22], [15, 3, -11, -34, -22, 10, 7, 3], [34, 15, 3, -11, -3, -22, 10, 7], [11, 34, 15, 3, -7, -3, -22, 10]]\n"
     ]
    }
   ],
   "source": [
    "def test_PolyToLattice4():\n",
    "    p00 = -10 + 18*x + 24*x^2 - 4*x^3\n",
    "    p01 = -1 + 8*x + 4*x^2 + 14*x^3\n",
    "    p10 = 3 - 11*x - 34*x^2 - 15*x^3\n",
    "    p11 = 10 + 7*x + 3*x^2 + 22*x^3\n",
    "    print(PolyToLattice4(p00, p01, p10, p11, 4))\n",
    "test_PolyToLattice4()"
   ]
  },
  {
   "cell_type": "code",
   "execution_count": 209,
   "metadata": {},
   "outputs": [],
   "source": [
    "def LatticeToPoly4(M, n):\n",
    "    p00=Zx(M[0][:n])\n",
    "    p01=Zx(M[0][n:])\n",
    "    p10=Zx(M[n][:n])\n",
    "    p11=Zx(M[n][n:])\n",
    "    return p00, p01, p10, p11\n"
   ]
  },
  {
   "cell_type": "code",
   "execution_count": 210,
   "metadata": {},
   "outputs": [
    {
     "name": "stdout",
     "output_type": "stream",
     "text": [
      "(-4*x^3 + 24*x^2 + 18*x - 10, 14*x^3 + 4*x^2 + 8*x - 1, -15*x^3 - 34*x^2 - 11*x + 3, 22*x^3 + 3*x^2 + 7*x + 10)\n"
     ]
    }
   ],
   "source": [
    "def test_LatticeToPoly4():\n",
    "    p00 = -10 + 18*x + 24*x^2 - 4*x^3\n",
    "    p01 = -1 + 8*x + 4*x^2 + 14*x^3\n",
    "    p10 = 3 - 11*x - 34*x^2 - 15*x^3\n",
    "    p11 = 10 + 7*x + 3*x^2 + 22*x^3\n",
    "    print(LatticeToPoly4(PolyToLattice4(p00, p01, p10, p11, 4),4))\n",
    "test_LatticeToPoly4()"
   ]
  },
  {
   "cell_type": "code",
   "execution_count": 213,
   "metadata": {},
   "outputs": [],
   "source": [
    "def HermitianAdjointMatrix(M, n2):\n",
    "    a, c, b, d = LatticeToPoly4(M, n2/2)\n",
    "    a, c, b, d = HermitianAdjointPoly(a, n2/2), HermitianAdjointPoly(c, n2/2),HermitianAdjointPoly(b, n2/2),HermitianAdjointPoly(d, n2/2)\n",
    "    return PolyToLattice4( a, c, b, d, n2/2)"
   ]
  },
  {
   "cell_type": "code",
   "execution_count": 215,
   "metadata": {},
   "outputs": [
    {
     "name": "stdout",
     "output_type": "stream",
     "text": [
      "[[-10, 4, -24, -18, -1, -14, -4, -8], [18, -10, 4, -24, 8, -1, -14, -4], [24, 18, -10, 4, 4, 8, -1, -14], [-4, 24, 18, -10, 14, 4, 8, -1], [3, 15, 34, 11, 10, -22, -3, -7], [-11, 3, 15, 34, 7, 10, -22, -3], [-34, -11, 3, 15, 3, 7, 10, -22], [-15, -34, -11, 3, 22, 3, 7, 10]]\n"
     ]
    }
   ],
   "source": [
    "def test_HermitianAdjointMatrix():\n",
    "    p00 = -10 + 18*x + 24*x^2 - 4*x^3\n",
    "    p01 = -1 + 8*x + 4*x^2 + 14*x^3\n",
    "    p10 = 3 - 11*x - 34*x^2 - 15*x^3\n",
    "    p11 = 10 + 7*x + 3*x^2 + 22*x^3\n",
    "    print(HermitianAdjointMatrix(PolyToLattice4(p00, p01, p10, p11, 4),8))\n",
    "test_HermitianAdjointMatrix()"
   ]
  },
  {
   "cell_type": "code",
   "execution_count": null,
   "metadata": {},
   "outputs": [],
   "source": []
  }
 ],
 "metadata": {
  "kernelspec": {
   "display_name": "SageMath 9.4",
   "language": "sage",
   "name": "sagemath-9.4"
  },
  "language_info": {
   "codemirror_mode": {
    "name": "ipython",
    "version": 3
   },
   "file_extension": ".py",
   "mimetype": "text/x-python",
   "name": "python",
   "nbconvert_exporter": "python",
   "pygments_lexer": "ipython3",
   "version": "3.9.5"
  }
 },
 "nbformat": 4,
 "nbformat_minor": 4
}
