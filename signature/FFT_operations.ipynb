{
 "cells": [
  {
   "cell_type": "markdown",
   "metadata": {},
   "source": [
    "All these operations are from https://github.com/tprest/falcon.py.\n",
    "I use them in LDL() and ffLDL functions"
   ]
  },
  {
   "cell_type": "code",
   "execution_count": 6,
   "metadata": {},
   "outputs": [],
   "source": [
    "def add_fft(f, g):\n",
    "    \"\"\"Addition of two polynomials (coefficient representation).\"\"\"\n",
    "    assert len(f) == len(g)\n",
    "    deg = len(f)\n",
    "    return [f[i] + g[i] for i in range(deg)]\n"
   ]
  },
  {
   "cell_type": "code",
   "execution_count": 7,
   "metadata": {},
   "outputs": [],
   "source": [
    "def neg_fft(f):\n",
    "    \"\"\"Negation of a polynomials (any representation).\"\"\"\n",
    "    deg = len(f)\n",
    "    return [- f[i] for i in range(deg)]\n"
   ]
  },
  {
   "cell_type": "code",
   "execution_count": 8,
   "metadata": {},
   "outputs": [],
   "source": [
    "def sub_fft(f, g):\n",
    "    \"\"\"Substraction of two polynomials (any representation).\"\"\"\n",
    "    return add_fft(f, neg_fft(g))"
   ]
  },
  {
   "cell_type": "code",
   "execution_count": 9,
   "metadata": {},
   "outputs": [],
   "source": [
    "def mul_fft(f_fft, g_fft):\n",
    "    \"\"\"Multiplication of two polynomials (coefficient representation).\"\"\"\n",
    "    deg = len(f_fft)\n",
    "    return [f_fft[i] * g_fft[i] for i in range(deg)]"
   ]
  },
  {
   "cell_type": "code",
   "execution_count": 10,
   "metadata": {},
   "outputs": [],
   "source": [
    "def div_fft(f_fft, g_fft):\n",
    "    \"\"\"Division of two polynomials (FFT representation).\"\"\"\n",
    "    assert len(f_fft) == len(g_fft)\n",
    "    deg = len(f_fft)\n",
    "    return [f_fft[i] / g_fft[i] for i in range(deg)]"
   ]
  },
  {
   "cell_type": "code",
   "execution_count": null,
   "metadata": {},
   "outputs": [],
   "source": []
  }
 ],
 "metadata": {
  "kernelspec": {
   "display_name": "SageMath 9.3",
   "language": "sage",
   "name": "sagemath"
  },
  "language_info": {
   "codemirror_mode": {
    "name": "ipython",
    "version": 3
   },
   "file_extension": ".py",
   "mimetype": "text/x-python",
   "name": "python",
   "nbconvert_exporter": "python",
   "pygments_lexer": "ipython3",
   "version": "3.7.10"
  }
 },
 "nbformat": 4,
 "nbformat_minor": 4
}
