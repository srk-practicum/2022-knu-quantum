{
 "cells": [
  {
   "cell_type": "code",
   "execution_count": 13,
   "metadata": {},
   "outputs": [],
   "source": [
    "import hashlib"
   ]
  },
  {
   "cell_type": "code",
   "execution_count": 49,
   "metadata": {},
   "outputs": [],
   "source": [
    "def HashToPoint(message, q, n):\n",
    "    # shall we add noise ?\n",
    "    k = int(2^16 / q)\n",
    "    c = []\n",
    "    \n",
    "    ctx = hashlib.shake_256()\n",
    "    ctx.update(bytes(message, encoding = 'utf-8'))  # what is our message ?\n",
    "    \n",
    "    print(ctx.digest(int(255)))\n",
    "    \n",
    "    i = 0\n",
    "    \n",
    "    counter = 0\n",
    "    \n",
    "    \"\"\"while i < n:\n",
    "        \n",
    "        ctx = ctx[16 * counter:]\n",
    "        \n",
    "        t = int.from_bytes(ctx.digest(int(16)), \"big\")\n",
    "        print(t)\n",
    "        \n",
    "        counter += 1\n",
    "        if counter == 100:\n",
    "            break\n",
    "        \n",
    "        if t < k * q:\n",
    "            c.append(t % q)\n",
    "            i += 1\"\"\""
   ]
  },
  {
   "cell_type": "code",
   "execution_count": 50,
   "metadata": {},
   "outputs": [
    {
     "name": "stdout",
     "output_type": "stream",
     "text": [
      "b'\\xe0\\xf2\\xd2Z[\\xd4dpy\\x9cY\\x8c!\\'z\\xbc\\x9d\\xb4\\x9bV\\x94\\xfaV\"\\x85\\xd2\\xf7x\\x01\\x1e\\xe7k?\\xeb\\xa2^&03\\xe5\\x06\\x8a[p\\xd4\\xe3\\x01;\\xabu\\xc8ds \\xcf\\xab\\xb5tUYb`O\\x16^\\xd8k\\xf7\\x13O\\x9b\\xb7\\xda\\rh\\xb1\\xd2\\rw\\x03\\xdc\\xe3\\xd9\\x99\\xf8\\xa8\\xcc\\xdd\\x1d\\xce\\xb1\\xdb\\xea\\x8b0\\x1a\\xd5\\xb3I#\"\\xfd\\twS\\x7f\\xf5\\xa9\\xda #\\x9bGt+\\x91\\x12\\xa3z]-2\\x92(+\\'\\xc4\\xa5\\xf6\\x19Y~\\xbd9\\xf7\\xfb\\xf7\\x93 \\xab\\xbf\\x18\\xbd\\xdb/\\xde\\xbd\\xb0\\x8f\\xc31\\x04/\\xd7\\xdc>\\x1e\\x7fY=\\x90\\x98\\xd8\\xf1h\\xc2\\x16\\x9c\\x89\\xe7|J^\\x0f\\n\\xa6\\x02\\x8f\\tgL\\x0f\\xcc\\xd00=#\\xa8,>\\xbb\\x95\\x08\\xf5I\\xb7\\xce\\xc4C\\x96 \\xe1\\x06mr\\xd1d\\xef\\xdc,\\x1f||9\\xc6\\xacr|\\xca\\xa0?\\x84\\x02\\xab\\x0f\\xe6lC5)\\xf1\\x95\\x0cg%\\x011\\xe6Ir\\x86\\xa9\\xac>cz\\xcc\\x91\\xcb9B#\\x05o\\x9e'\n"
     ]
    }
   ],
   "source": [
    "HashToPoint(\"messagewduhfdohubUHDSBCOuwbouabvoiDHCPOSDXCKB VAEFOIwefohDSBVHFOiwe\", 1024, 8)"
   ]
  },
  {
   "cell_type": "code",
   "execution_count": null,
   "metadata": {},
   "outputs": [],
   "source": []
  }
 ],
 "metadata": {
  "kernelspec": {
   "display_name": "SageMath 9.3",
   "language": "sage",
   "name": "sagemath"
  },
  "language_info": {
   "codemirror_mode": {
    "name": "ipython",
    "version": 3
   },
   "file_extension": ".py",
   "mimetype": "text/x-python",
   "name": "python",
   "nbconvert_exporter": "python",
   "pygments_lexer": "ipython3",
   "version": "3.7.10"
  }
 },
 "nbformat": 4,
 "nbformat_minor": 4
}
