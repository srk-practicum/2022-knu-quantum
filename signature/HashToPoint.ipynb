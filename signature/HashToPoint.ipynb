{
 "cells": [
  {
   "cell_type": "code",
   "execution_count": 1,
   "metadata": {},
   "outputs": [],
   "source": [
    "Zx.<x> = ZZ[]"
   ]
  },
  {
   "cell_type": "code",
   "execution_count": 2,
   "metadata": {},
   "outputs": [],
   "source": [
    "from Crypto.Hash import SHAKE256"
   ]
  },
  {
   "cell_type": "code",
   "execution_count": 3,
   "metadata": {},
   "outputs": [],
   "source": [
    "def HashToPoint(noise, message, q, n):\n",
    "    \n",
    "    # it should be checked for the integer type problems\n",
    "    \n",
    "    k = floor(2**16 / q)\n",
    "    c = [0]*n\n",
    "    \n",
    "    \n",
    "    ctx = SHAKE256.new()\n",
    "    ctx.update(noise)\n",
    "    ctx.update(message)\n",
    "    \n",
    "    # ctx.update(bytes(message, encoding = 'utf-8'))\n",
    "    \n",
    "    i = 0\n",
    "\n",
    "    while i < n:\n",
    "        \n",
    "        t = int.from_bytes(ctx.read(2), byteorder='big')\n",
    "        # print(t)\n",
    "        \n",
    "        if t < k * q:\n",
    "            c[i] = t % q\n",
    "            i += 1\n",
    "    \n",
    "    return Zx(c)"
   ]
  },
  {
   "cell_type": "code",
   "execution_count": 4,
   "metadata": {
    "scrolled": true
   },
   "outputs": [
    {
     "name": "stdout",
     "output_type": "stream",
     "text": [
      "6*x^7 + 12*x^5 + 7*x^4 + 6*x^3 + 13*x^2 + 13*x + 1\n"
     ]
    }
   ],
   "source": [
    "noise, message = \"this is some random noise\", \"this is an important message\"\n",
    "noise = bytes(noise, encoding='utf-8')\n",
    "message = bytes(message, encoding='utf-8')\n",
    "n = 8\n",
    "q = 17\n",
    "print(HashToPoint(noise, message, q, n))"
   ]
  }
 ],
 "metadata": {
  "kernelspec": {
   "display_name": "SageMath 9.3",
   "language": "sage",
   "name": "sagemath"
  },
  "language_info": {
   "codemirror_mode": {
    "name": "ipython",
    "version": 3
   },
   "file_extension": ".py",
   "mimetype": "text/x-python",
   "name": "python",
   "nbconvert_exporter": "python",
   "pygments_lexer": "ipython3",
   "version": "3.7.10"
  }
 },
 "nbformat": 4,
 "nbformat_minor": 4
}
