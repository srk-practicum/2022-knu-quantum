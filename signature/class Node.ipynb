{
 "cells": [
  {
   "cell_type": "code",
   "execution_count": 3,
   "metadata": {},
   "outputs": [],
   "source": [
    "Zx.<x> = ZZ[]"
   ]
  },
  {
   "cell_type": "code",
   "execution_count": 28,
   "metadata": {},
   "outputs": [],
   "source": [
    "class Node:\n",
    "    def __init__(self, value):\n",
    "        self.value = value\n",
    "        self.leftchild = 0\n",
    "        self.rightchild = 0\n",
    "        self.tree = [self.value,self.leftchild,self.rightchild]\n",
    "        \n",
    "    def update_tree(self):\n",
    "        self.tree = [self.value,self.leftchild,self.rightchild]\n",
    "        \n",
    "    def __str__(self):\n",
    "        return '[' + str(self.value) + ',' + str(self.leftchild) + ','  + str(self.rightchild) + ']' \n",
    "    \n",
    "    def __repr__(self):\n",
    "        return '[' + str(self.value) + ',' + str(self.leftchild) + ','  + str(self.rightchild) + ']'\n",
    "    \n",
    "    def print_tree(self, pref=\"\"):\n",
    "        leaf = \"|—————> \"\n",
    "        top = \"|_______\"\n",
    "        son1 = \"|       \"\n",
    "        son2 = \"        \"\n",
    "        width = len(top)\n",
    "\n",
    "        a = \"\"\n",
    "        if (self.value * x^0).degree() and self.leftchild:\n",
    "            if (pref == \"\"):\n",
    "                a += pref + str(self.value) + \"\\n\"\n",
    "            else:\n",
    "                a += pref[:-width] + top + str(self.value) + \"\\n\"\n",
    "            try:\n",
    "                a += self.leftchild.print_tree(pref + son1)\n",
    "                a += self.rightchild.print_tree(pref + son2)\n",
    "            except:\n",
    "                pass\n",
    "            return a\n",
    "        else:\n",
    "            return (pref[:-width] + leaf + str(self.value) + \"\\n\")"
   ]
  },
  {
   "cell_type": "code",
   "execution_count": 29,
   "metadata": {},
   "outputs": [],
   "source": [
    "def normalize_tree(tree, sigma):\n",
    "    if (tree.value * x^0).degree() and tree.leftchild is not None:\n",
    "        normalize_tree(tree.leftchild, sigma)\n",
    "        normalize_tree(tree.rightchild, sigma)\n",
    "    else:\n",
    "        tree.value = sigma / sqrt(tree.value.real())\n",
    "        tree.update_tree()"
   ]
  },
  {
   "cell_type": "code",
   "execution_count": 30,
   "metadata": {},
   "outputs": [],
   "source": [
    "def make_tree_for_test(t,p,n):\n",
    "    \n",
    "    if p.degree() == 0:\n",
    "        t.value = 1.5 + i #this step is for testing normalization\n",
    "        return t\n",
    "    f0,f1 = split_for_test(p,n)\n",
    "    t.leftchild = Node(f0)\n",
    "    t.rightchild = Node(f1)\n",
    "    t.update_tree()\n",
    "    make_tree_for_test(t.leftchild,t.leftchild.value,n)\n",
    "    make_tree_for_test(t.rightchild,t.rightchild.value,n)\n",
    "    "
   ]
  },
  {
   "cell_type": "code",
   "execution_count": 31,
   "metadata": {},
   "outputs": [],
   "source": [
    "def split_for_test(f,n):\n",
    "    if (f*x^0).degree() and f != 0:\n",
    "        f0 = list(f[2*i] for i in range(n/2+1))\n",
    "        f1 = list(f[2*i+1] for i in range(n/2+1))\n",
    "        return (Zx(f0), Zx(f1))\n",
    "    return 0,0"
   ]
  },
  {
   "cell_type": "code",
   "execution_count": 32,
   "metadata": {},
   "outputs": [],
   "source": [
    "p = x^4 + x^3 + x^2 + x + 1\n",
    "t = Node(p)"
   ]
  },
  {
   "cell_type": "code",
   "execution_count": 33,
   "metadata": {},
   "outputs": [],
   "source": [
    "make_tree_for_test(t,p,4)"
   ]
  },
  {
   "cell_type": "code",
   "execution_count": 34,
   "metadata": {},
   "outputs": [
    {
     "name": "stdout",
     "output_type": "stream",
     "text": [
      "x^4 + x^3 + x^2 + x + 1\n",
      "|_______x^2 + x + 1\n",
      "|       |_______x + 1\n",
      "|       |       |—————> 1.50000000000000 + 1.00000000000000*I\n",
      "|       |       |—————> 1.50000000000000 + 1.00000000000000*I\n",
      "|       |—————> 1.50000000000000 + 1.00000000000000*I\n",
      "|_______x + 1\n",
      "        |—————> 1.50000000000000 + 1.00000000000000*I\n",
      "        |—————> 1.50000000000000 + 1.00000000000000*I\n",
      "\n"
     ]
    }
   ],
   "source": [
    "print(t.print_tree())"
   ]
  },
  {
   "cell_type": "code",
   "execution_count": 35,
   "metadata": {},
   "outputs": [],
   "source": [
    "normalize_tree(t,1.5)"
   ]
  },
  {
   "cell_type": "code",
   "execution_count": 27,
   "metadata": {},
   "outputs": [
    {
     "name": "stdout",
     "output_type": "stream",
     "text": [
      "x^4 + x^3 + x^2 + x + 1\n",
      "|_______x^2 + x + 1\n",
      "|       |_______x + 1\n",
      "|       |       |—————> 1.22474487139159\n",
      "|       |       |—————> 1.22474487139159\n",
      "|       |—————> 1.22474487139159\n",
      "|_______x + 1\n",
      "        |—————> 1.22474487139159\n",
      "        |—————> 1.22474487139159\n",
      "\n"
     ]
    }
   ],
   "source": [
    "print(t.print_tree())"
   ]
  },
  {
   "cell_type": "code",
   "execution_count": null,
   "metadata": {},
   "outputs": [],
   "source": []
  }
 ],
 "metadata": {
  "kernelspec": {
   "display_name": "SageMath 9.3",
   "language": "sage",
   "name": "sagemath"
  },
  "language_info": {
   "codemirror_mode": {
    "name": "ipython",
    "version": 3
   },
   "file_extension": ".py",
   "mimetype": "text/x-python",
   "name": "python",
   "nbconvert_exporter": "python",
   "pygments_lexer": "ipython3",
   "version": "3.7.10"
  }
 },
 "nbformat": 4,
 "nbformat_minor": 4
}
