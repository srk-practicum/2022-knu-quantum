{
 "cells": [
  {
   "cell_type": "code",
   "execution_count": 60,
   "metadata": {},
   "outputs": [
    {
     "name": "stdout",
     "output_type": "stream",
     "text": [
      "1618457887983224237464\n",
      "0\n",
      "50824822524187460\n",
      "1\n",
      "-1\n"
     ]
    }
   ],
   "source": [
    "\n",
    "\n",
    "LN2 = 0.69314718056\n",
    "\n",
    "def UniformBits(k):\n",
    "    return int.from_bytes(bytes(list(floor(uniform(0, 256)) for i in range(k / 8))), 'little')\n",
    "\n",
    "def BaseSampler():\n",
    "    u = UniformBits(72)\n",
    "    z_0 = 0\n",
    "    RCDT = [3024686241123004913666, 1564742784480091954050, 636254429462080897535, 199560484645026482916, 47667343854657281903, 8595902006365044063, 1163297957344668388, 117656387352093658, 8867391802663976, 496969357462633, 20680885154299, 638331848991, 14602316184, 247426747, 3104126, 28824, 198, 1, 0]\n",
    "    for i in range(0, 18):\n",
    "        z_0 = z_0 + int(u<(RCDT[i])) \n",
    "    return z_0\n",
    "\n",
    "def ApproxExp(x, ccs):\n",
    "    C = [0x00000004741183A3,0x00000036548CFC06,0x0000024FDCBF140A,0x0000171D939DE045,0x0000D00CF58F6F84,0x000680681CF796E3,0x002D82D8305B0FEA,0x011111110E066FD0,0x0555555555070F00,0x155555555581FF00,0x400000000002B400,0x7FFFFFFFFFFF4800,0x8000000000000000]\n",
    "    y = C[0]\n",
    "    z = floor(2^63*x)\n",
    "    for i in range(1, 13):\n",
    "        y = C[i] - (z*y) >> 63\n",
    "    z = floor(2^63*ccs)\n",
    "    y = (z*y) >> 63\n",
    "    return y\n",
    "\n",
    "def BerExp(x, ccs):\n",
    "    s = floor(x/LN2)\n",
    "    r = x - s*LN2\n",
    "    s = min(s, 63)\n",
    "    z = (2*ApproxExp(r, ccs) - 1) >> s\n",
    "    for i in range(56, -8, -8):\n",
    "        p = UniformBits(8)\n",
    "        w = p - ((z >> i) & 0xFF)\n",
    "        if int(w) == 0:\n",
    "            break\n",
    "    return int(w < 0)\n",
    "\n",
    "def SamplerZ(mu, sigma, sigmamin, sigmamax):\n",
    "    r = mu - int(floor(mu))\n",
    "    ccs = sigmamin/sigma\n",
    "    while True:\n",
    "        z_0 = BaseSampler()\n",
    "        b = UniformBits(8)&0x1\n",
    "        z = b + (2*b-1)*z_0\n",
    "        x = (z-r)^2/2/sigma^2 - z_0^2/2/sigmamax^2\n",
    "        if BerExp(x, ccs) == 1:\n",
    "            return z + int(floor(mu))\n",
    "        \n",
    "print(UniformBits(72))\n",
    "print(BaseSampler())\n",
    "print(ApproxExp(3, 5))\n",
    "print(BerExp(2.7, 1))\n",
    "print(SamplerZ(0, 165.736617183, 1.277833697, 1.8205))\n"
   ]
  },
  {
   "cell_type": "code",
   "execution_count": null,
   "metadata": {},
   "outputs": [],
   "source": []
  }
 ],
 "metadata": {
  "kernelspec": {
   "display_name": "SageMath 9.3",
   "language": "sage",
   "name": "sagemath"
  }
 },
 "nbformat": 4,
 "nbformat_minor": 4
}
