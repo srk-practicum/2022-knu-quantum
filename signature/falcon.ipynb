{
 "cells": [
  {
   "cell_type": "code",
   "execution_count": null,
   "metadata": {},
   "outputs": [],
   "source": [
    "# Falcon specification: https://falcon-sign.info/falcon.pdf\n",
    "# Falcon Python implementation: https://github.com/tprest/falcon.py\n",
    "# NTRU Solve: https://tprest.github.io/pdf/slides/ntru-gen-pkc.pdf"
   ]
  },
  {
   "cell_type": "code",
   "execution_count": 4,
   "metadata": {},
   "outputs": [],
   "source": [
    "# global constants\n",
    "n = 2^9\n",
    "q=12289\n",
    "sigma_min = 1.277833697 # see table 3.3 page 51\n",
    "sigma_max = 1.8205\n",
    "sigma = 165.736617183\n",
    "beta = sqrt(34034726)"
   ]
  },
  {
   "cell_type": "code",
   "execution_count": 6,
   "metadata": {
    "collapsed": false
   },
   "outputs": [],
   "source": [
    "# use variables consistently\n",
    "# to avoid clash of types, use variables x, X, y, Y, z, Z as described below\n",
    "Zx.<x> = PolynomialRing(ZZ) \n",
    "#Zphi.<X> = Zx.quotient(x^4+1)\n",
    "#Qy.<y> = PolynomialRing(QQ)\n",
    "#Qphi.<Y> = Qy.quotient(y^4+1)\n",
    "#Zq.<z> = PolynomialRing(Integers(7))\n",
    "#ZQphi.<Z> = Zq.quotient(z^4+1)"
   ]
  },
  {
   "cell_type": "code",
   "execution_count": 10,
   "metadata": {},
   "outputs": [],
   "source": [
    "# ============================ POLYNOMIAL UTILS ===================================\n",
    "\n",
    "# algorithm 16 page 45, author: Maxim Pushkar\n",
    "def Balance(f,q,n):\n",
    "    g = list(((f[i] + q//2) % q) - q//2 for i in range(n))\n",
    "    # return f.parent()(g)\n",
    "    return Zx(g)\n",
    "\n",
    "# formula 3.21 from page 28\n",
    "def Split(f,n):\n",
    "    pass\n",
    "\n",
    "# formula 3.22 from page 28, author: Evgen Postulga\n",
    "def Merge(a,b):\n",
    "    a = a.subs(x=x^2)\n",
    "    b = x*b.subs(x=x^2)\n",
    "    return a+b\n",
    "\n",
    "# formula 3.6 from page 23, author: Evgen Postulga\n",
    "def HermitianAdjointPoly(p, n):\n",
    "    f=[p[0]]\n",
    "    for i in range(1,n):    \n",
    "        f.append(-p[n-i])\n",
    "    # return p.parent()(f)\n",
    "    return Zx(f) \n",
    "\n",
    "# formula 3.10 from page 24, author: Evgen Postulga\n",
    "def InnerProduct(a,b,n):\n",
    "    # return sum([a[i] * b[i] for i in range(n)])\n",
    "    s=0\n",
    "    for i in range(n):\n",
    "        s=s+a[i]*b[i]\n",
    "    return(s)\n",
    "\n",
    "# formula 3.9 from page 24, author: Evgen Postulga\n",
    "def EuclideanNorm(a,n):\n",
    "    # return sqrt(InnerProduct(a,a,n))\n",
    "    b=InnerProduct(a,a,n)\n",
    "    return b^(1/2)\n",
    "\n",
    "# formula 3.25 from page 30, author: Maxim Pushkar\n",
    "def FieldNorm(f, n):\n",
    "    f0, f1 = split(f, n)\n",
    "    iks = f.parent()([0, 1])\n",
    "    return (f0^2 - iks * f1^2) % (iks^(n/2)+1)\n",
    "    # return (f0^2-x*f1^2)%(x^(n/2)+1)\n",
    "\n",
    "# NNT representation of polynomial f from Zq[x]/x^n+1\n",
    "def NTT(f,n,q):\n",
    "    pass"
   ]
  },
  {
   "cell_type": "code",
   "execution_count": 16,
   "metadata": {},
   "outputs": [],
   "source": [
    "# ======================== Lattice Matrices ============================\n",
    "\n",
    "# author: \n",
    "def CyclicRotate(input, n):\n",
    "    pass\n",
    "\n",
    "# author: \n",
    "def PolyToCirculant(p, n):\n",
    "    pass\n",
    "\n",
    "# author: Evgen Postulga\n",
    "def CirculantToPoly(M):\n",
    "    # Zx.<x> = PolynomialRing(ZZ)\n",
    "    return Zx(list(M[0]))\n",
    "    \n",
    "# author: \n",
    "def PolyToLattice4(p00, p01, p10, p11, n):\n",
    "   pass\n",
    "\n",
    "# author: Evgen Postulga\n",
    "def LatticeToPoly4(M, n_2):\n",
    "    p00=Zx(M[0][:n])\n",
    "    p01=Zx(M[0][n:])\n",
    "    p10=Zx(M[n][:n])\n",
    "    p11=Zx(M[n][n:])\n",
    "    return p00, p01, p10, p11\n",
    "\n",
    "# formula 3.7 page 23б author: Evgen Postulga\n",
    "def HermitianAdjointMatrix(M, n2):\n",
    "    a, c, b, d = LatticeToPoly4(M, n2/2)\n",
    "    a, c, b, d = HermitianAdjointPoly(a, n2/2), HermitianAdjointPoly(c, n2/2),HermitianAdjointPoly(b, n2/2),HermitianAdjointPoly(d, n2/2)\n",
    "    return PolyToLattice4(a, c, b, d, n2/2)"
   ]
  },
  {
   "cell_type": "code",
   "execution_count": null,
   "metadata": {},
   "outputs": [],
   "source": []
  }
 ],
 "metadata": {
  "kernelspec": {
   "display_name": "SageMath 9.0",
   "language": "sage",
   "name": "sagemath",
   "resource_dir": "/ext/jupyter/kernels/sage-9.4"
  },
  "language_info": {
   "codemirror_mode": {
    "name": "ipython",
    "version": 3
   },
   "file_extension": ".py",
   "mimetype": "text/x-python",
   "name": "python",
   "nbconvert_exporter": "python",
   "pygments_lexer": "ipython3",
   "version": "3.8.10"
  }
 },
 "nbformat": 4,
 "nbformat_minor": 4
}
