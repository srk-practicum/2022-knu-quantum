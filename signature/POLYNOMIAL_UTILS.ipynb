{
 "cells": [
  {
   "cell_type": "code",
   "execution_count": 181,
   "metadata": {},
   "outputs": [],
   "source": [
    "Zx.<x> = ZZ[]"
   ]
  },
  {
   "cell_type": "code",
   "execution_count": 182,
   "metadata": {},
   "outputs": [],
   "source": [
    "def balance(f,q,n):\n",
    "    g = list(((f[i] + q//2) % q) - q//2 for i in range(n))\n",
    "    return Zx(g)"
   ]
  },
  {
   "cell_type": "code",
   "execution_count": 183,
   "metadata": {},
   "outputs": [
    {
     "name": "stdout",
     "output_type": "stream",
     "text": [
      "-x^6 - 1\n"
     ]
    }
   ],
   "source": [
    "def test_balance():\n",
    "    f = -10 + 18*x + 24*x^2 - 3*x^4 + 5*x^6\n",
    "    print(balance(f,3,8))\n",
    "test_balance()"
   ]
  },
  {
   "cell_type": "code",
   "execution_count": 184,
   "metadata": {},
   "outputs": [],
   "source": [
    "def Split(f,n):\n",
    "    f0 = list(f[2*i+0] for i in range(n//2))\n",
    "    f1 = list(f[2*i+1] for i in range(n//2))\n",
    "    return f.parent()(f0), f.parent()(f1)  \n",
    "    "
   ]
  },
  {
   "cell_type": "code",
   "execution_count": 185,
   "metadata": {},
   "outputs": [
    {
     "name": "stdout",
     "output_type": "stream",
     "text": [
      "5*x^3 - 3*x^2 + 24*x - 10\n",
      "11*x^3 + 18\n"
     ]
    }
   ],
   "source": [
    "def test_split():\n",
    "    f = -10 + 18*x + 24*x^2 - 3*x^4 + 5*x^6 + 11*x^7\n",
    "    f0,f1 = Split(f,8)\n",
    "    print(f0)\n",
    "    print(f1)\n",
    "test_split()"
   ]
  },
  {
   "cell_type": "code",
   "execution_count": 186,
   "metadata": {},
   "outputs": [],
   "source": [
    "def merge(a,b):\n",
    "    iks = a.parent()([0, 1])\n",
    "    a = a.subs(iks^2)\n",
    "    b = iks*b.subs(iks^2)\n",
    "    return a+b"
   ]
  },
  {
   "cell_type": "code",
   "execution_count": 187,
   "metadata": {},
   "outputs": [
    {
     "name": "stdout",
     "output_type": "stream",
     "text": [
      "f =  11*x^7 + 5*x^6 - 3*x^4 + 24*x^2 + 18*x - 10\n",
      "merge(f0,f1) =  11*x^7 + 5*x^6 - 3*x^4 + 24*x^2 + 18*x - 10\n"
     ]
    }
   ],
   "source": [
    "def test_merge():\n",
    "    f = -10 + 18*x + 24*x^2 - 3*x^4 + 5*x^6 + 11*x^7\n",
    "    print(\"f = \", f)\n",
    "    f0,f1 = split(f,8)\n",
    "    print(\"merge(f0,f1) = \",merge(f0,f1))\n",
    "test_merge()\n",
    "\n"
   ]
  },
  {
   "cell_type": "code",
   "execution_count": 188,
   "metadata": {},
   "outputs": [],
   "source": [
    "def HermitianAdjointPoly(p, n):\n",
    "    f=[p[0]]\n",
    "    for i in range(1,n):    \n",
    "        f.append(-p[n-i])\n",
    "    return p.parent()(f) "
   ]
  },
  {
   "cell_type": "code",
   "execution_count": 189,
   "metadata": {},
   "outputs": [
    {
     "name": "stdout",
     "output_type": "stream",
     "text": [
      "-18*x^7 - 24*x^6 + 3*x^4 - 5*x^2 - 10\n"
     ]
    }
   ],
   "source": [
    "def test_HermitianAdjointPoly():\n",
    "    p = -10 + 18*x + 24*x^2 - 3*x^4 + 5*x^6\n",
    "    print(HermitianAdjointPoly(p, 8))\n",
    "test_HermitianAdjointPoly()"
   ]
  },
  {
   "cell_type": "code",
   "execution_count": 190,
   "metadata": {},
   "outputs": [],
   "source": [
    "def InnerProduct(a,b,n):\n",
    "    return sum([a[i] * b[i] for i in range(n)])\n",
    "#     s=0\n",
    "#     for i in range(n):\n",
    "#         s=s+a[i]*b[i]\n",
    "#     return(s)\n"
   ]
  },
  {
   "cell_type": "code",
   "execution_count": 191,
   "metadata": {},
   "outputs": [
    {
     "name": "stdout",
     "output_type": "stream",
     "text": [
      "34\n"
     ]
    }
   ],
   "source": [
    "def test_InnerProduct():\n",
    "    a = -10 + 18*x + 24*x^2 - 3*x^4 + 5*x^6\n",
    "    b = -1 + x^2 + x^3 + x^5\n",
    "    print(InnerProduct(a,b,8))\n",
    "test_InnerProduct()"
   ]
  },
  {
   "cell_type": "code",
   "execution_count": 192,
   "metadata": {},
   "outputs": [],
   "source": [
    "def EuclideanNorm(a,n):\n",
    "    return sqrt(InnerProduct(a,a,n))\n",
    "#     b=InnerProduct(a,a,n)\n",
    "#     return b^(1/2)\n",
    "    "
   ]
  },
  {
   "cell_type": "code",
   "execution_count": 193,
   "metadata": {},
   "outputs": [
    {
     "name": "stdout",
     "output_type": "stream",
     "text": [
      "sqrt(1034)\n"
     ]
    }
   ],
   "source": [
    "def test_EuclideanNorm():\n",
    "    a = -10 + 18*x + 24*x^2 - 3*x^4 + 5*x^6\n",
    "    print(EuclideanNorm(a,8))\n",
    "test_EuclideanNorm()"
   ]
  },
  {
   "cell_type": "code",
   "execution_count": 194,
   "metadata": {},
   "outputs": [],
   "source": [
    "def FieldNorm(f, n):\n",
    "    f0, f1 = split(f, n)\n",
    "    iks = f.parent()([0, 1])\n",
    "    return (f0^2 - iks * f1^2) % (iks^(n/2)+1)\n",
    "    # return (f0^2-x*f1^2)%(x^(n/2)+1)\n",
    "    "
   ]
  },
  {
   "cell_type": "code",
   "execution_count": 195,
   "metadata": {},
   "outputs": [
    {
     "name": "stdout",
     "output_type": "stream",
     "text": [
      "-244*x^3 + 611*x^2 - 774*x - 149\n"
     ]
    }
   ],
   "source": [
    "def test_FieldNorm():\n",
    "    f = -10 + 18*x + 24*x^2 - 3*x^4 + 5*x^6\n",
    "    print(FieldNorm(f,8))\n",
    "test_FieldNorm()"
   ]
  },
  {
   "cell_type": "code",
   "execution_count": 196,
   "metadata": {},
   "outputs": [],
   "source": [
    "def NTT(f,n,q):\n",
    "    phi = x^n + 1\n",
    "    roots = phi.roots(Integers(q))\n",
    "    ans = []\n",
    "    for root in roots:\n",
    "        ans.append((f( root[0] ), root[1]))\n",
    "    \n",
    "    return ans"
   ]
  },
  {
   "cell_type": "code",
   "execution_count": 197,
   "metadata": {},
   "outputs": [
    {
     "name": "stdout",
     "output_type": "stream",
     "text": [
      "[(6553, 1), (5736, 1), (722, 1), (8155, 1), (1305, 1), (10984, 1), (11567, 1), (4134, 1), (4134, 1), (11567, 1), (10984, 1), (1305, 1), (8155, 1), (722, 1), (5736, 1), (6553, 1)]\n"
     ]
    }
   ],
   "source": [
    "def test_NTT():\n",
    "    f = x^2\n",
    "    n = 16\n",
    "    q = 12289\n",
    "    print(NTT(f, n, q))\n",
    "test_NTT()"
   ]
  }
 ],
 "metadata": {
  "kernelspec": {
   "display_name": "SageMath 9.4",
   "language": "sage",
   "name": "sagemath-9.4"
  },
  "language_info": {
   "codemirror_mode": {
    "name": "ipython",
    "version": 3
   },
   "file_extension": ".py",
   "mimetype": "text/x-python",
   "name": "python",
   "nbconvert_exporter": "python",
   "pygments_lexer": "ipython3",
   "version": "3.9.5"
  }
 },
 "nbformat": 4,
 "nbformat_minor": 4
}
