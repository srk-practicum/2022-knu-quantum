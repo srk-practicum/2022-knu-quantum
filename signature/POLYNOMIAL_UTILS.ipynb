{
 "cells": [
  {
   "cell_type": "code",
   "execution_count": 120,
   "metadata": {},
   "outputs": [],
   "source": [
    "Zx.<x> = ZZ[]"
   ]
  },
  {
   "cell_type": "code",
   "execution_count": 121,
   "metadata": {},
   "outputs": [],
   "source": [
    "def balance(f,q,n):\n",
    "    g = list(((f[i] + q//2) % q) - q//2 for i in range(n))\n",
    "    return Zx(g)"
   ]
  },
  {
   "cell_type": "code",
   "execution_count": 122,
   "metadata": {},
   "outputs": [
    {
     "name": "stdout",
     "output_type": "stream",
     "text": [
      "-x^6 - 1\n"
     ]
    }
   ],
   "source": [
    "def test_balance():\n",
    "    f = -10 + 18*x + 24*x^2 - 3*x^4 + 5*x^6\n",
    "    print(balance(f,3,8))\n",
    "test_balance()"
   ]
  },
  {
   "cell_type": "code",
   "execution_count": 123,
   "metadata": {},
   "outputs": [],
   "source": [
    "def split(f,n):\n",
    "    f0 = list(f[2*i] for i in range(n/2+1))\n",
    "    f1 = list(f[2*i+1] for i in range(n/2+1))\n",
    "    return (Zx(f0), Zx(f1))\n",
    "    "
   ]
  },
  {
   "cell_type": "code",
   "execution_count": 124,
   "metadata": {},
   "outputs": [
    {
     "name": "stdout",
     "output_type": "stream",
     "text": [
      "5*x^3 - 3*x^2 + 24*x - 10\n",
      "18\n"
     ]
    }
   ],
   "source": [
    "def test_split():\n",
    "    f = -10 + 18*x + 24*x^2 - 3*x^4 + 5*x^6\n",
    "    f0,f1 = split(f,8)\n",
    "    print(f0)\n",
    "    print(f1)\n",
    "test_split()"
   ]
  },
  {
   "cell_type": "code",
   "execution_count": 125,
   "metadata": {},
   "outputs": [],
   "source": [
    "def merge(a,b,n):\n",
    "    a = a.subs(x=x^2)\n",
    "    b = x*b.subs(x=x^2)\n",
    "    return a+b"
   ]
  },
  {
   "cell_type": "code",
   "execution_count": 126,
   "metadata": {},
   "outputs": [
    {
     "name": "stdout",
     "output_type": "stream",
     "text": [
      "f =  5*x^6 - 3*x^4 + 24*x^2 + 18*x - 10\n",
      "merge(f0,f1,n) =  5*x^6 - 3*x^4 + 24*x^2 + 18*x - 10\n"
     ]
    }
   ],
   "source": [
    "def test_merge():\n",
    "    f = -10 + 18*x + 24*x^2 - 3*x^4 + 5*x^6\n",
    "    print(\"f = \", f)\n",
    "    f0,f1 = split(f,8)\n",
    "    print(\"merge(f0,f1,n) = \",merge(f0,f1,8))\n",
    "test_merge()\n",
    "\n"
   ]
  },
  {
   "cell_type": "code",
   "execution_count": 127,
   "metadata": {},
   "outputs": [],
   "source": [
    "def HermitianAdjointPoly(p, n):\n",
    "    f=[p[0]]\n",
    "    for i in range(1,n):    \n",
    "        f.append(-p[n-i])\n",
    "    return Zx(f) "
   ]
  },
  {
   "cell_type": "code",
   "execution_count": 128,
   "metadata": {},
   "outputs": [
    {
     "name": "stdout",
     "output_type": "stream",
     "text": [
      "-18*x^7 - 24*x^6 + 3*x^4 - 5*x^2 - 10\n"
     ]
    }
   ],
   "source": [
    "def test_HermitianAdjointPoly():\n",
    "    p = -10 + 18*x + 24*x^2 - 3*x^4 + 5*x^6\n",
    "    print(HermitianAdjointPoly(p, 8))\n",
    "test_HermitianAdjointPoly()"
   ]
  },
  {
   "cell_type": "code",
   "execution_count": 129,
   "metadata": {},
   "outputs": [],
   "source": [
    "def InnerProduct(a,b,n):\n",
    "    #f = list(a[i]*b[i] for i in range(n))\n",
    "    s=0\n",
    "    for i in range(n):\n",
    "        s=s+a[i]*b[i]\n",
    "    return(s)"
   ]
  },
  {
   "cell_type": "code",
   "execution_count": 130,
   "metadata": {},
   "outputs": [
    {
     "name": "stdout",
     "output_type": "stream",
     "text": [
      "34\n"
     ]
    }
   ],
   "source": [
    "def test_InnerProduct():\n",
    "    a = -10 + 18*x + 24*x^2 - 3*x^4 + 5*x^6\n",
    "    b = -1 + x^2 + x^3 + x^5\n",
    "    print(InnerProduct(a,b,8))\n",
    "test_InnerProduct()"
   ]
  },
  {
   "cell_type": "code",
   "execution_count": 131,
   "metadata": {},
   "outputs": [],
   "source": [
    "def EuclideanNorm(a,n):\n",
    "    b=InnerProduct(a,a,n)\n",
    "    return b^(1/2)\n",
    "    "
   ]
  },
  {
   "cell_type": "code",
   "execution_count": 132,
   "metadata": {},
   "outputs": [
    {
     "name": "stdout",
     "output_type": "stream",
     "text": [
      "sqrt(1034)\n"
     ]
    }
   ],
   "source": [
    "def test_EuclideanNorm():\n",
    "    a = -10 + 18*x + 24*x^2 - 3*x^4 + 5*x^6\n",
    "    print(EuclideanNorm(a,8))\n",
    "test_EuclideanNorm()"
   ]
  },
  {
   "cell_type": "code",
   "execution_count": 133,
   "metadata": {},
   "outputs": [],
   "source": [
    "def FieldNorm(f, n):\n",
    "    f0,f1 = split(f,n)\n",
    "    return f0^2+x*f1^2\n",
    "    "
   ]
  },
  {
   "cell_type": "code",
   "execution_count": 134,
   "metadata": {},
   "outputs": [
    {
     "name": "stdout",
     "output_type": "stream",
     "text": [
      "25*x^6 - 30*x^5 + 249*x^4 - 244*x^3 + 636*x^2 - 156*x + 100\n"
     ]
    }
   ],
   "source": [
    "def test_FieldNorm():\n",
    "    f = -10 + 18*x + 24*x^2 - 3*x^4 + 5*x^6\n",
    "    print(FieldNorm(f,8))\n",
    "test_FieldNorm()"
   ]
  },
  {
   "cell_type": "code",
   "execution_count": 139,
   "metadata": {},
   "outputs": [],
   "source": [
    "def NNT(f,n,q):\n",
    "    f = f % (x^n+1)\n",
    "    return f.change_ring(Integers(q))"
   ]
  },
  {
   "cell_type": "code",
   "execution_count": 141,
   "metadata": {},
   "outputs": [
    {
     "name": "stdout",
     "output_type": "stream",
     "text": [
      "x^6 + 2*x^4 + 2*x^2 + 2\n"
     ]
    }
   ],
   "source": [
    "def test_NNT():\n",
    "    f = -1 + x + x^2 -x^4 +x^6 + x^9 - x^10\n",
    "    print(NNT(f,8,3))\n",
    "test_NNT()"
   ]
  },
  {
   "cell_type": "code",
   "execution_count": null,
   "metadata": {},
   "outputs": [],
   "source": []
  }
 ],
 "metadata": {
  "kernelspec": {
   "display_name": "SageMath 9.4",
   "language": "sage",
   "name": "sagemath-9.4"
  },
  "language_info": {
   "codemirror_mode": {
    "name": "ipython",
    "version": 3
   },
   "file_extension": ".py",
   "mimetype": "text/x-python",
   "name": "python",
   "nbconvert_exporter": "python",
   "pygments_lexer": "ipython3",
   "version": "3.9.5"
  }
 },
 "nbformat": 4,
 "nbformat_minor": 4
}
