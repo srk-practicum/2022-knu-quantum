{
 "cells": [
  {
   "cell_type": "code",
   "execution_count": 1,
   "metadata": {},
   "outputs": [],
   "source": [
    "N = 7\n",
    "p = 2\n",
    "r = 4\n",
    "Zq.<z> = PolynomialRing(Integers(p^r))\n",
    "ZQphi.<Z> = Zq.quotient(z^N-1)"
   ]
  },
  {
   "cell_type": "code",
   "execution_count": 2,
   "metadata": {},
   "outputs": [],
   "source": [
    "def find_degree(coefs_list):\n",
    "    for i in range(len(coefs_list)-1, -1, -1):\n",
    "        if coefs_list[i] != 0:\n",
    "            return i"
   ]
  },
  {
   "cell_type": "code",
   "execution_count": 3,
   "metadata": {},
   "outputs": [],
   "source": [
    "def invert_Zp(a, p):\n",
    "    Zq.<z> = PolynomialRing(Integers(p))\n",
    "    ZQphi.<Z> = Zq.quotient(z^N-1)\n",
    "\n",
    "    k = 0\n",
    "    b = 1*z^0\n",
    "    c = 0*z^0\n",
    "    f = a \n",
    "    g = z^N-1\n",
    "    \n",
    "    while True:\n",
    "        while list(f)[0] == 0:\n",
    "            f = f / Z\n",
    "            c = c * Z\n",
    "            k += 1\n",
    "        \n",
    "        if find_degree(list(f)) == 0:\n",
    "            b = 1/list(f)[0] * b\n",
    "            return Z^(N-k) * b\n",
    "        if find_degree(list(f)) < find_degree(list(g)):\n",
    "            f, g = g, f\n",
    "            b, c = c, b\n",
    "        \n",
    "        u = list(f)[0] * (1/list(g)[0])\n",
    "        f = f - u*g\n",
    "        b = b - u*c"
   ]
  },
  {
   "cell_type": "code",
   "execution_count": 30,
   "metadata": {},
   "outputs": [],
   "source": [
    "def invert_Zpr(a, p, r):\n",
    "    \n",
    "    Zx.<x> = PolynomialRing(ZZ)\n",
    "    Zphi.<X> = Zx.quotient(x^N-1)\n",
    "\n",
    "    \n",
    "    q = p\n",
    "    b = invert_Zp(a, p)\n",
    "    \n",
    "    a = a.change_ring(ZZ).subs(z=x)\n",
    "    b = b.lift().change_ring(ZZ).subs(z=x)\n",
    "\n",
    "    # x = lift(a).parent()([0,1])\n",
    "\n",
    "    while q < p^r:\n",
    "        q = q^2\n",
    "        b = b * (2 - a*b) % q % (x^N-1)\n",
    "    return (b.change_ring(Integers(p^r)).subs(x=z)) % (z^N-1)"
   ]
  },
  {
   "cell_type": "code",
   "execution_count": 31,
   "metadata": {},
   "outputs": [
    {
     "name": "stdout",
     "output_type": "stream",
     "text": [
      "Z^4 + 5*Z + 3\n",
      "1\n"
     ]
    }
   ],
   "source": [
    "a = Z^4 + 5*Z^1 +3\n",
    "aa = a.lift()\n",
    "print(a)\n",
    "ans = invert_Zpr(aa, p, r)\n",
    "print(ans * a)\n"
   ]
  },
  {
   "cell_type": "code",
   "execution_count": 5,
   "metadata": {},
   "outputs": [
    {
     "data": {
      "text/plain": [
       "z"
      ]
     },
     "execution_count": 5,
     "metadata": {},
     "output_type": "execute_result"
    }
   ],
   "source": [
    "lift(Z).parent()([0,1])"
   ]
  },
  {
   "cell_type": "code",
   "execution_count": null,
   "metadata": {},
   "outputs": [],
   "source": []
  }
 ],
 "metadata": {
  "kernelspec": {
   "display_name": "SageMath 9.0",
   "language": "sage",
   "name": "sagemath"
  },
  "language_info": {
   "codemirror_mode": {
    "name": "ipython",
    "version": 3
   },
   "file_extension": ".py",
   "mimetype": "text/x-python",
   "name": "python",
   "nbconvert_exporter": "python",
   "pygments_lexer": "ipython3",
   "version": "3.8.10"
  }
 },
 "nbformat": 4,
 "nbformat_minor": 4
}
