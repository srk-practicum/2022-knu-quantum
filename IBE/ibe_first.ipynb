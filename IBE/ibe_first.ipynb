{
 "cells": [
  {
   "cell_type": "code",
   "execution_count": 42,
   "metadata": {},
   "outputs": [],
   "source": [
    "from Crypto.Hash import SHAKE256\n",
    "from os import urandom\n",
    "from random import shuffle\n",
    "from math import log2\n",
    "\n",
    "Zx.<x> = ZZ[]\n",
    "k = 2\n",
    "n = 2^k\n",
    "q = 12 * 1024 + 1\n",
    "phi = x^n + 1\n",
    "sigma_star = 1.17 / sqrt(q / (2*n)) \n",
    "SALT_LEN = 40\n",
    "RCDT = [3024686241123004913666, 1564742784480091954050, 636254429462080897535, 199560484645026482916, 47667343854657281903, 8595902006365044063, 1163297957344668388, 117656387352093658, 8867391802663976, 496969357462633, 20680885154299, 638331848991, 14602316184, 247426747, 3104126, 28824, 198, 1, 0]\n",
    "LN2 = 0.69314718056\n"
   ]
  },
  {
   "cell_type": "code",
   "execution_count": 23,
   "metadata": {},
   "outputs": [],
   "source": [
    "def Balance(f,q,n):\n",
    "    g = list(((f[i] + q//2) % q) - q//2 for i in range(n))\n",
    "    return f.parent()(g)\n",
    "\n",
    "def Split(f,n):\n",
    "    f0 = list(f[2*i+0] for i in range(n//2))\n",
    "    f1 = list(f[2*i+1] for i in range(n//2))\n",
    "    return f.parent()(f0), f.parent()(f1)  \n",
    "\n",
    "def InnerProduct(a,b,n):\n",
    "    s = [a[i]*b[i].conjugate() for i in range(n)]\n",
    "    return sum(s)\n",
    "\n",
    "def EuclideanNorm(a,n):\n",
    "    b = InnerProduct(a,a,n)\n",
    "    return sqrt(float(b))\n",
    "\n",
    "def FieldNorm(f, n):\n",
    "    f0, f1 = Split(f,n)\n",
    "    iks = f.parent()([0, 1])\n",
    "    return (f0^2 - iks * f1^2) % (iks^(n//2)+1)\n",
    "\n",
    "def HermitianAdjointPoly(p, n):\n",
    "    f=[p[0]]\n",
    "    for i in range(1,n):    \n",
    "        f.append(-p[n-i])\n",
    "    return p.parent()(f)"
   ]
  },
  {
   "cell_type": "code",
   "execution_count": 24,
   "metadata": {},
   "outputs": [],
   "source": [
    "def UniformBits(k):\n",
    "    return int.from_bytes(bytes(list(floor(uniform(0, 256)) for i in range(k / 8))), 'big')\n",
    "\n",
    "def BaseSampler():\n",
    "    u = UniformBits(72)\n",
    "    z_0 = 0\n",
    "    RCDT = [3024686241123004913666, 1564742784480091954050, 636254429462080897535, 199560484645026482916, 47667343854657281903, 8595902006365044063, 1163297957344668388, 117656387352093658, 8867391802663976, 496969357462633, 20680885154299, 638331848991, 14602316184, 247426747, 3104126, 28824, 198, 1, 0]\n",
    "    for i in range(0, 18):\n",
    "        z_0 = z_0 + int(u<RCDT[i]) \n",
    "    return z_0\n",
    "\n",
    "def ApproxExp(x, ccs):\n",
    "    C = [0x00000004741183A3,0x00000036548CFC06,0x0000024FDCBF140A,0x0000171D939DE045,0x0000D00CF58F6F84,0x000680681CF796E3,0x002D82D8305B0FEA,0x011111110E066FD0,0x0555555555070F00,0x155555555581FF00,0x400000000002B400,0x7FFFFFFFFFFF4800,0x8000000000000000]\n",
    "    y = C[0]\n",
    "    z = floor(2^63*x)\n",
    "    for i in range(1, 13):\n",
    "        y = C[i] - (z*y) >> 63\n",
    "    z = floor(2^63*ccs)\n",
    "    y = (z*y) >> 63\n",
    "    return y\n",
    "\n",
    "def BerExp(x, ccs):\n",
    "    s = floor(x/LN2)\n",
    "    r = x - s*LN2\n",
    "    s = min(s, 63)\n",
    "    z = (2*ApproxExp(r, ccs) - 1) >> s\n",
    "    for i in range(56, -8, -8):\n",
    "        p = UniformBits(8)\n",
    "        w = p - ((z >> i) & 0xFF)\n",
    "        if int(w) == 0:\n",
    "            break\n",
    "    return int(w < 0)\n",
    "\n",
    "def SamplerZ(mu, sigma, sigmamin, sigmamax):\n",
    "    r = mu - int(floor(mu))\n",
    "    ccs = sigmamin/sigma\n",
    "    while True:\n",
    "        z_0 = BaseSampler()\n",
    "        b = UniformBits(8)&0x1\n",
    "        z = b + (2*b-1)*z_0\n",
    "        x = (z-r)^2/2/sigma^2 - z_0^2/2/sigmamax^2\n",
    "        if BerExp(x, ccs) == 1:\n",
    "            return z + int(floor(mu))"
   ]
  },
  {
   "cell_type": "code",
   "execution_count": 40,
   "metadata": {},
   "outputs": [],
   "source": [
    "def Reduce(f, g, F, G, n):\n",
    "    \n",
    "    TT = Zx.change_ring(QQ).quotient(x^n+1) \n",
    "    \n",
    "    f_star = HermitianAdjointPoly(f, n)\n",
    "    g_star = HermitianAdjointPoly(g, n)\n",
    "    while True:\n",
    "        num = F*f_star + G*g_star\n",
    "        num = TT(num)\n",
    "        den = f*f_star + g*g_star\n",
    "        den = 1 / TT(den)\n",
    "        res = num * den\n",
    "        k = Zx([int(round(elt)) for elt in res])\n",
    "        F = (F - k*f) % phi\n",
    "        G = (G - k*g) % phi\n",
    "        if all(elt == 0 for elt in k):\n",
    "            break\n",
    "    return f, g, F, G\n",
    "\n",
    "def NTT(f, n, q):\n",
    "    # Zp\n",
    "    roots = (x^n + 1).roots(Integers(q))\n",
    "    ans = [f.subs(x = i[0]) % q for i in roots]\n",
    "    return ans"
   ]
  },
  {
   "cell_type": "code",
   "execution_count": 49,
   "metadata": {},
   "outputs": [],
   "source": [
    "def NTRUSolve(f, g, n, q):\n",
    "    if n == 1:\n",
    "        # u, v are numbers\n",
    "        gcd_, u, v = xgcd(f[0], g[0])\n",
    "        # print(\"gcd\", u * f + v * g, \"\\n\")\n",
    "        if gcd_ != 1:\n",
    "            return None, None, False\n",
    "        F, G = -v*q, u*q\n",
    "        # print(\"F1, G1\", F / q, G / q)\n",
    "        return F, G, True\n",
    "    else:\n",
    "        # ▷ f′, g′, F′, G′ ∈ Z[x]/(x^n/2 + 1)\n",
    "        # ▷ N as defined in either (3.25) or (3.26)\n",
    "        f_ = FieldNorm(f, n) \n",
    "        g_ = FieldNorm(g, n) \n",
    "        # print(n//2, f_, g_, sep=\"\\n\")\n",
    "        F_, G_, flag = NTRUSolve(f_, g_, n//2, q)\n",
    "        if flag:\n",
    "            F = F_.subs(x=x^2) * g.subs(x=-x) % phi\n",
    "            G = G_.subs(x=x^2) * f.subs(x=-x) % phi\n",
    "            # print(\"F, G\", F, G, sep=\"\\n\")\n",
    "            f, g, F, G = Reduce(f, g, F, G, n)\n",
    "            return F % (x^n +1), G % (x^n +1), flag\n",
    "        else:\n",
    "            return F_, G_, flag"
   ]
  },
  {
   "cell_type": "code",
   "execution_count": 27,
   "metadata": {},
   "outputs": [],
   "source": [
    "def NTRUGen(q, n):\n",
    "    \n",
    "    def gen_poly(n, q):\n",
    "        \n",
    "        def D(mu=0):\n",
    "            z = 0\n",
    "            for i in range(1, 4096/n + 1):\n",
    "                sigma_star = 1.17 * sqrt(q / 8192)\n",
    "                sigmamin, sigmamax = 1.277833697, 1.8205\n",
    "                zi = SamplerZ(mu, sigma_star, sigmamin, sigmamax)\n",
    "                z += zi\n",
    "            return z\n",
    "\n",
    "        f = [0] * n\n",
    "        g = [0] * n\n",
    "        for i in range(n):\n",
    "            f[i] = D()\n",
    "            g[i] = D()\n",
    "        f = Zx(f) % phi\n",
    "        g = Zx(g) % phi\n",
    "        return f, g\n",
    "    \n",
    "    def gs_norm(f, g, q, n):\n",
    "        TT = Zx.change_ring(QQ).quotient(x^n+1) \n",
    "        # Using (3.9) with (3.8) or (3.10)    \n",
    "        f_star = HermitianAdjointPoly(f, n)\n",
    "        g_star = HermitianAdjointPoly(g, n)\n",
    "        first = EuclideanNorm([*g.coefficients(sparse=False), *(-f).coefficients(sparse=False)], n)\n",
    "        s1 = (q * TT(f_star)) / TT((f*f_star + g*g_star))\n",
    "        s2 = (q * TT(g_star)) / TT((f*f_star + g*g_star))\n",
    "        second = EuclideanNorm(list(s1) + list(s2), n)\n",
    "        gamma = max(first, second)\n",
    "        return gamma\n",
    "    \n",
    "    \n",
    "    while True:\n",
    "        while True:\n",
    "            while True:\n",
    "\n",
    "                f, g = gen_poly(n, q)\n",
    "\n",
    "                if gs_norm(f, g, q, n) > (1.17 ** 2) * q:\n",
    "                    continue\n",
    "                break\n",
    "\n",
    "            if  0 in NTT(f, n, q):\n",
    "                continue\n",
    "            break\n",
    "                \n",
    "        F, G, flag = NTRUSolve(f, g, n, q)\n",
    "        \n",
    "        if not flag:\n",
    "            continue\n",
    "        else:\n",
    "            F, G = F % (x^n +1), G % (x^n +1)\n",
    "            F = Zx([int(coef) for coef in F.coefficients(sparse=False)])\n",
    "            G = Zx([int(coef) for coef in G.coefficients(sparse=False)])\n",
    "            print(\"(f*G - g*F) % (x^n + 1) == q\", (f*G - g*F) % (x^n + 1) == q)\n",
    "            break\n",
    "            \n",
    "    return f, g, F, G"
   ]
  },
  {
   "cell_type": "code",
   "execution_count": 28,
   "metadata": {},
   "outputs": [],
   "source": [
    "# work over the polynomial ring Zq[x]/(x^n + 1), where n is a power of 2 and q is a prime congruent to 1 mod 2n\n",
    "# AN(f) + AN(g) = AN(f + g), and AN(f) × AN(g) = AN(f ∗ g) and AN(p)[0] = p\n",
    "# (1) : f ∗ G − g ∗ F = q \n",
    "# f, g, F, G ∈ R verifying (1) and h = g ∗ f_inv mod q.\n",
    "# s = (s1, s2) such that s1 + s2∗h = t for any t\n",
    "\n",
    "\n",
    "def Master_Keygen(n, q):\n",
    "    \"\"\"\n",
    "    work over the polynomial ring Zq[x]/(x^n + 1), \n",
    "    where n is a power of 2 and q is a prime congruent to 1 mod 2n\n",
    "    AN(f) + AN(g) = AN(f + g), and AN(f) × AN(g) = AN(f ∗ g) and AN(p)[0] = p\n",
    "    polynomials f, g, F, G ∈ R verifying: f ∗ G − g ∗ F = q \n",
    "    \n",
    "    return: (h = g ∗ f_inv mod q) - Public Key\n",
    "            (B = [[g, -f], [G, -F]]) - Secret Key\n",
    "    \"\"\"\n",
    "    f, g, F, G = NTRUGen(q, n)\n",
    "    B = [[g, -f], [G, -F]]   \n",
    "    # print(\"sk: \", *B, sep=\"\\n\")\n",
    "    # print()\n",
    "    \n",
    "    TT = Zx.change_ring(Integers(q)).quotient(x^n+1)\n",
    "    f_q = Zx(lift(1 / TT(f))) \n",
    "    h = g * f_q % phi % q\n",
    "    # print(\"pk: \", *h, sep=\"\\n\")\n",
    "    # print()\n",
    "    \n",
    "    return B, h\n"
   ]
  },
  {
   "cell_type": "code",
   "execution_count": 51,
   "metadata": {},
   "outputs": [
    {
     "name": "stdout",
     "output_type": "stream",
     "text": [
      "(f*G - g*F) % (x^n + 1) == q True\n"
     ]
    }
   ],
   "source": [
    "B, h = Master_Keygen(n, q)"
   ]
  },
  {
   "cell_type": "code",
   "execution_count": 52,
   "metadata": {},
   "outputs": [
    {
     "data": {
      "text/plain": [
       "[[269*x^3 + 143*x^2 + 298*x + 282, -353*x^3 - 269*x^2 - 296*x - 335],\n",
       " [-274*x^3 - 161*x^2 - 151*x + 113, 362*x^3 + 196*x^2 + 110*x - 134]]"
      ]
     },
     "execution_count": 52,
     "metadata": {},
     "output_type": "execute_result"
    }
   ],
   "source": [
    "B"
   ]
  },
  {
   "cell_type": "code",
   "execution_count": 53,
   "metadata": {},
   "outputs": [
    {
     "data": {
      "text/plain": [
       "11320*x^3 + 8854*x^2 + 202*x + 11236"
      ]
     },
     "execution_count": 53,
     "metadata": {},
     "output_type": "execute_result"
    }
   ],
   "source": [
    "h"
   ]
  },
  {
   "cell_type": "code",
   "execution_count": 30,
   "metadata": {},
   "outputs": [],
   "source": [
    "def HashToPoint(noise, user_id, q, n):\n",
    "    \n",
    "    \"\"\"\n",
    "    user_id: b\"surname\"\n",
    "    noise: to avoid same hashes for people with same surnames\n",
    "    return: polynomial % phi % q \n",
    "    \"\"\"\n",
    "\n",
    "    k = int((2**16) // q)\n",
    "    \n",
    "    shake = SHAKE256.new()\n",
    "    shake.update(noise)\n",
    "    shake.update(user_id)\n",
    "    hashed = [0 for i in range(n)]\n",
    "    \n",
    "    i = 0\n",
    "    j = 0\n",
    "    while i < n:\n",
    "        twobytes = shake.read(2)\n",
    "        elt = (twobytes[0] << 8) + twobytes[1] \n",
    "        if elt < k * q:\n",
    "            hashed[i] = elt % q\n",
    "            i += 1\n",
    "        j += 1\n",
    "        \n",
    "    return Zx(hashed)"
   ]
  },
  {
   "cell_type": "code",
   "execution_count": 31,
   "metadata": {},
   "outputs": [],
   "source": [
    "\n",
    "#----------------------------------------------------\n",
    "\n",
    "def HashToBin(info, m, n, q):\n",
    "    \"\"\"\n",
    "    H0: {0, 1}^n → {0, 1}^m\n",
    "    \"\"\"\n",
    "    return info[0:m]"
   ]
  },
  {
   "cell_type": "code",
   "execution_count": 32,
   "metadata": {},
   "outputs": [],
   "source": [
    "def gen_small_ternar_poly(d1, d2, n):\n",
    "    ''' generates a random polynomial with d1+d2 nonzero coefficients\n",
    "        returns Zx polynomial '''\n",
    "    \n",
    "    result = [1]*d1 + [-1]*d2 + [0]*(N-d1-d2)\n",
    "    shuffle(result)\n",
    "    \n",
    "    return Zx(result)"
   ]
  },
  {
   "cell_type": "code",
   "execution_count": 33,
   "metadata": {},
   "outputs": [],
   "source": [
    "\n",
    "#----------------------------------------------------\n",
    "\n",
    "def gen_binar_list(d, n):\n",
    "    ''' generates a random polynomial with d nonzero coefficients\n",
    "        returns Zx polynomial '''\n",
    "    \n",
    "    result = [1]*d + [0]*(N-d)\n",
    "    shuffle(result)\n",
    "    \n",
    "    return result"
   ]
  },
  {
   "cell_type": "code",
   "execution_count": 34,
   "metadata": {},
   "outputs": [],
   "source": [
    "\n",
    "#----------------------------------------------------\n",
    "\n",
    "def Extract(B, user_id, n, q):\n",
    "    \"\"\"\n",
    "    generates SK once for each user\n",
    "    {s1 + s2 ∗ h} = t  mod (ϕ, q)\n",
    "    \"\"\"\n",
    "    SK_id = B\n",
    "    # SK_id = s2 polynomial\n",
    "    noise = urandom(SALT_LEN)\n",
    "    return SK_id, noise"
   ]
  },
  {
   "cell_type": "code",
   "execution_count": 37,
   "metadata": {},
   "outputs": [],
   "source": [
    "def Encrypt(h, user_id, noise, message, n, q):\n",
    "    \"\"\"\n",
    "    Note that encryption is designed using a key-encapsulation mechanism; \n",
    "    the hash of the key k is used to one-time-pad the message.\n",
    "    message ∈ {0, 1}^m\n",
    "    \"\"\"\n",
    "    message = [0] * m\n",
    "    m = 10\n",
    "    \n",
    "    r = gen_small_ternar_poly(d1, d2, n)\n",
    "    e1 = gen_small_ternar_poly(d1, d2, n)\n",
    "    e2 = gen_small_ternar_poly(d1, d2, n)\n",
    "    # k = key for encription\n",
    "    k = gen_binar_list(d, n)\n",
    "    Hk = HashToBin(k, m, n, q)   # ∈ {0, 1}^m\n",
    "    \n",
    "    t = HashToPoint(noise, user_id, q, n)\n",
    "    \n",
    "    u = (r * h + e1) % phi % q\n",
    "    v = (r * t + e2 + (q//2) * Zx(k)) % phi % q\n",
    "         \n",
    "    encrypted_message = [(Hk[i] + message[i]) % 2 for i in range(m)]\n",
    "         \n",
    "    return u, v, encrypted_message  \n",
    "    \n"
   ]
  },
  {
   "cell_type": "code",
   "execution_count": 39,
   "metadata": {},
   "outputs": [],
   "source": [
    "def Decrypt(SK_id, u, v, encrypted_message, n, q):\n",
    "    \n",
    "    s2 = SK_id\n",
    "    w =  (v - u * s2) % phi % q\n",
    "    k = (w / (q/2)).coefficients(sparse=False)\n",
    "    k = [int(round(el)) for el in k]\n",
    "    m = len(encrypted_message)\n",
    "    Hk = HashToBin(k, m, n, q)\n",
    "    decrypted_message = [(Hk[i] + encrypted_message[i]) % 2 for i in range(m)]\n",
    "    \n",
    "    return decrypted_message\n"
   ]
  },
  {
   "cell_type": "code",
   "execution_count": null,
   "metadata": {},
   "outputs": [],
   "source": []
  },
  {
   "cell_type": "code",
   "execution_count": null,
   "metadata": {},
   "outputs": [],
   "source": []
  }
 ],
 "metadata": {
  "kernelspec": {
   "display_name": "SageMath 9.3",
   "language": "sage",
   "name": "sagemath"
  },
  "language_info": {
   "codemirror_mode": {
    "name": "ipython",
    "version": 3
   },
   "file_extension": ".py",
   "mimetype": "text/x-python",
   "name": "python",
   "nbconvert_exporter": "python",
   "pygments_lexer": "ipython3",
   "version": "3.7.10"
  }
 },
 "nbformat": 4,
 "nbformat_minor": 4
}
