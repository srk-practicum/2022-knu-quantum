{
 "cells": [
  {
   "cell_type": "code",
   "execution_count": 1,
   "metadata": {},
   "outputs": [],
   "source": [
    "def test_invert_Z2_factor(a):\n",
    "    print(f\"test_invert_Z2_factor for polynomial {a}: \")\n",
    "    try:\n",
    "        correct_ans = 1 / a\n",
    "        ans = invert_Z2_factor(a)\n",
    "        if a*ans == correct_ans*a == 1:\n",
    "            print(\"PASSED\")\n",
    "            print(\"polynomial = \", a)\n",
    "            print(\"inverse = \", ans)\n",
    "        else:\n",
    "            print(\"FAILED\")\n",
    "    except ZeroDivisionError:\n",
    "        try:\n",
    "            ans = invert_Z2_factor(a)\n",
    "        except AssertionError as e:\n",
    "            print(\"PASSED\")\n",
    "            print(e)\n",
    "    finally: \n",
    "        print(\"*******\\n\")\n",
    "            \n",
    "    "
   ]
  },
  {
   "cell_type": "code",
   "execution_count": 2,
   "metadata": {},
   "outputs": [],
   "source": [
    "def find_degree(coefs_list):\n",
    "    \"\"\" returns the degree of polynomial using its coeficients list 'a'\n",
    "    \"\"\"\n",
    "    for i in range(len(coefs_list)-1, -1, -1):\n",
    "        if coefs_list[i] != 0:\n",
    "            return i"
   ]
  },
  {
   "cell_type": "code",
   "execution_count": 3,
   "metadata": {},
   "outputs": [],
   "source": [
    "def invert_Z2_factor(a):\n",
    "    \"\"\"\n",
    "    param a: polynomial in (Z/Z2)[var]/(var^N-1)\n",
    "    raises Error if inverse polynomial doesn't exist\n",
    "    return: inverse polynomial for a in (Z/Z2)[var]/(var^N-1)\n",
    "\n",
    "    \"\"\"\n",
    "    \n",
    "    a = a.lift()\n",
    "    \n",
    "    # initialisation\n",
    "    k = 0\n",
    "    b = 1*z^0\n",
    "    c = 0*z^0\n",
    "    f = a \n",
    "    g = z^N-1\n",
    "    \n",
    "    assert a.gcd(g) == 1, f\"inverse polynomial for {a} doesn't exist in (Z/Z2)[var]/(var^N-1)\"\n",
    "    \n",
    "    while True:\n",
    "        while list(f)[0] == 0:\n",
    "            f = f / Z\n",
    "            c = c * Z\n",
    "            k += 1\n",
    "        if f == 1*Z^0:\n",
    "            return Z^(N-k) * b \n",
    "        \n",
    "        if find_degree(list(f)) < find_degree(list(g)):\n",
    "            f, g = g, f\n",
    "            b, c = c, b\n",
    "        f = f + g\n",
    "        b = b + c\n",
    "        \n",
    "    "
   ]
  },
  {
   "cell_type": "code",
   "execution_count": 4,
   "metadata": {},
   "outputs": [],
   "source": [
    "N = 7\n",
    "p = 2\n",
    "Zx.<x> = PolynomialRing(ZZ)\n",
    "Zphi.<X> = Zx.quotient(x^N-1)\n",
    "Zq.<z> = PolynomialRing(Integers(p))\n",
    "ZQphi.<Z> = Zq.quotient(z^N-1)"
   ]
  },
  {
   "cell_type": "code",
   "execution_count": 5,
   "metadata": {},
   "outputs": [
    {
     "name": "stdout",
     "output_type": "stream",
     "text": [
      "test_invert_Z2_factor for polynomial Z + 1: \n",
      "PASSED\n",
      "inverse polynomial for z + 1 doesn't exist in (Z/Z2)[var]/(var^N-1)\n",
      "*******\n",
      "\n",
      "test_invert_Z2_factor for polynomial Z^4 + Z^3 + 1: \n",
      "PASSED\n",
      "polynomial =  Z^4 + Z^3 + 1\n",
      "inverse =  Z^5 + Z^4 + Z^3 + Z^2 + 1\n",
      "*******\n",
      "\n",
      "test_invert_Z2_factor for polynomial Z^4 + Z^2 + 1: \n",
      "PASSED\n",
      "polynomial =  Z^4 + Z^2 + 1\n",
      "inverse =  Z^6 + Z^5 + Z^4 + Z^3 + 1\n",
      "*******\n",
      "\n",
      "test_invert_Z2_factor for polynomial Z^4 + Z + 1: \n",
      "PASSED\n",
      "polynomial =  Z^4 + Z + 1\n",
      "inverse =  Z^6 + Z^5 + Z^3 + Z + 1\n",
      "*******\n",
      "\n"
     ]
    }
   ],
   "source": [
    "polynomials = [Z + 1, Z^4 + Z^3 + 1, Z^4 + Z^2 + 1,Z^4 + Z^1 + 1]\n",
    "for polynomial in polynomials:\n",
    "    test_invert_Z2_factor(polynomial)\n"
   ]
  },
  {
   "cell_type": "code",
   "execution_count": 6,
   "metadata": {},
   "outputs": [],
   "source": [
    "def test_invert_Z3_factor(a):\n",
    "    print(f\"test_invert_Z3_factor for polynomial {a}: \")\n",
    "    try:\n",
    "        correct_ans = 1 / a\n",
    "        ans = invert_Z3_factor(a)\n",
    "        if a*ans == correct_ans*a == 1:\n",
    "            print(\"PASSED\")\n",
    "            print(\"polynomial = \", a)\n",
    "            print(\"inverse = \", ans)\n",
    "        else:\n",
    "            print(\"FAILED\")\n",
    "    except ZeroDivisionError:\n",
    "        try:\n",
    "            ans = invert_Z3_factor(a)\n",
    "        except AssertionError as e:\n",
    "            print(\"PASSED\")\n",
    "            print(e)\n",
    "    finally: \n",
    "        print(\"*******\\n\")"
   ]
  },
  {
   "cell_type": "code",
   "execution_count": 7,
   "metadata": {},
   "outputs": [],
   "source": [
    "def invert_Z3_factor(a):\n",
    "    \"\"\"\n",
    "    param a: polynomial in (Z/Z3)[var]/(var^N-1)\n",
    "    raises Error if inverse polynomial doesn't exist\n",
    "    return: inverse polynomial for a in (Z/Z3)[var]/(var^N-1)\n",
    "    \n",
    "    \"\"\"\n",
    "    \n",
    "    a = a.lift()\n",
    "    \n",
    "    # initialisation\n",
    "    k = 0\n",
    "    b = 1*z^0\n",
    "    c = 0*z^0\n",
    "    f = a \n",
    "    g = z^N-1\n",
    "    \n",
    "    assert a.gcd(g) in {1,2},  f\"inverse polynomial for {a} doesn't exist in (Z/Z3)[var]/(var^N-1)\"\n",
    "    \n",
    "    \n",
    "    while True:\n",
    "        while list(f)[0] == 0:\n",
    "            f = f / Z\n",
    "            c = c * Z\n",
    "            k += 1\n",
    "        if f == 1*Z^0 or f == -1*Z^0:\n",
    "            return Z^(N-k) * b * f\n",
    "        \n",
    "        if find_degree(list(f)) < find_degree(list(g)):\n",
    "            f, g = g, f\n",
    "            b, c = c, b\n",
    "            \n",
    "        if list(f)[0] == list(g)[0]:\n",
    "            f = f - g\n",
    "            b = b - c\n",
    "        else:\n",
    "            f = f + g\n",
    "            b = b + c"
   ]
  },
  {
   "cell_type": "code",
   "execution_count": 8,
   "metadata": {},
   "outputs": [],
   "source": [
    "N = 5\n",
    "p = 3\n",
    "Zx.<x> = PolynomialRing(ZZ)\n",
    "Zphi.<X> = Zx.quotient(x^N-1)\n",
    "Zq.<z> = PolynomialRing(Integers(p))\n",
    "ZQphi.<Z> = Zq.quotient(z^N-1)"
   ]
  },
  {
   "cell_type": "code",
   "execution_count": 9,
   "metadata": {},
   "outputs": [
    {
     "name": "stdout",
     "output_type": "stream",
     "text": [
      "test_invert_Z3_factor for polynomial Z^3 + 1: \n",
      "PASSED\n",
      "polynomial =  Z^3 + 1\n",
      "inverse =  Z^4 + Z^3 + 2*Z^2 + 2*Z + 2\n",
      "*******\n",
      "\n",
      "test_invert_Z3_factor for polynomial Z^2 + 1: \n",
      "PASSED\n",
      "polynomial =  Z^2 + 1\n",
      "inverse =  2*Z^4 + 2*Z^3 + Z^2 + Z + 2\n",
      "*******\n",
      "\n",
      "test_invert_Z3_factor for polynomial Z + 1: \n",
      "PASSED\n",
      "polynomial =  Z + 1\n",
      "inverse =  2*Z^4 + Z^3 + 2*Z^2 + Z + 2\n",
      "*******\n",
      "\n",
      "test_invert_Z3_factor for polynomial Z + 2: \n",
      "PASSED\n",
      "inverse polynomial for z + 2 doesn't exist in (Z/Z3)[var]/(var^N-1)\n",
      "*******\n",
      "\n"
     ]
    }
   ],
   "source": [
    "polynomials = [Z^3 + 1, Z^2 + 1, Z^1 + 1,Z - 1]\n",
    "for polynomial in polynomials:\n",
    "    test_invert_Z3_factor(polynomial)\n",
    "    "
   ]
  },
  {
   "cell_type": "code",
   "execution_count": 10,
   "metadata": {},
   "outputs": [],
   "source": [
    "def test_invert_Zp_factor(a, p):\n",
    "    print(f\"test_invert_Zp_factor for polynomial {a}: \")\n",
    "    aa = a.lift()\n",
    "    try:\n",
    "        correct_ans = 1 / a\n",
    "        ans = invert_Zp_factor(aa, p)\n",
    "        if a*ans == correct_ans*a == 1:\n",
    "            print(\"PASSED\")\n",
    "            print(\"polynomial = \", a)\n",
    "            print(\"inverse = \", ans)\n",
    "        else:\n",
    "            print(\"FAILED\")\n",
    "    except ZeroDivisionError:\n",
    "        try:\n",
    "            ans = invert_Zp_factor(aa, p)\n",
    "        except AssertionError as e:\n",
    "            print(\"PASSED\")\n",
    "            print(e)\n",
    "    finally: \n",
    "        print(\"*******\\n\")"
   ]
  },
  {
   "cell_type": "code",
   "execution_count": 11,
   "metadata": {},
   "outputs": [],
   "source": [
    "def invert_Zp_factor(a, p):\n",
    "    \n",
    "    \"\"\"\n",
    "    param a: polynomial in (Z/Zp)[var]/(var^N-1)\n",
    "    param p: prime number\n",
    "    raises Error if inverse polynomial doesn't exist\n",
    "    return: inverse polynomial for a in (Z/Zp)[var]/(var^N-1)\n",
    "\n",
    "    \"\"\"\n",
    "    \n",
    "    Zq.<z> = PolynomialRing(Integers(p))\n",
    "    ZQphi.<Z> = Zq.quotient(z^N-1)\n",
    "    \n",
    "    # initialisation\n",
    "\n",
    "    k = 0\n",
    "    b = 1*z^0\n",
    "    c = 0*z^0\n",
    "    f = a \n",
    "    g = z^N-1\n",
    "    \n",
    "    assert a.gcd(g) in {i for i in range(p)},  f\"inverse polynomial for {a} doesn't exist in (Z/Zp)[var]/(var^N-1)\"\n",
    "        \n",
    "    while True:\n",
    "        while list(f)[0] == 0:\n",
    "            f = f / Z\n",
    "            c = c * Z\n",
    "            k += 1\n",
    "        \n",
    "        if find_degree(list(f)) == 0:\n",
    "            b = 1/list(f)[0] * b\n",
    "            return Z^(N-k) * b\n",
    "        \n",
    "        if find_degree(list(f)) < find_degree(list(g)):\n",
    "            f, g = g, f\n",
    "            b, c = c, b\n",
    "        \n",
    "        u = list(f)[0] * (1/list(g)[0])\n",
    "        f = f - u*g\n",
    "        b = b - u*c"
   ]
  },
  {
   "cell_type": "code",
   "execution_count": 12,
   "metadata": {},
   "outputs": [],
   "source": [
    "N = 7\n",
    "p = 5\n",
    "Zx.<x> = PolynomialRing(ZZ)\n",
    "Zphi.<X> = Zx.quotient(x^N-1)\n",
    "Zq.<z> = PolynomialRing(Integers(p))\n",
    "ZQphi.<Z> = Zq.quotient(z^N-1)"
   ]
  },
  {
   "cell_type": "code",
   "execution_count": 13,
   "metadata": {},
   "outputs": [
    {
     "name": "stdout",
     "output_type": "stream",
     "text": [
      "test_invert_Zp_factor for polynomial Z^4 + Z + 1: \n",
      "PASSED\n",
      "polynomial =  Z^4 + Z + 1\n",
      "inverse =  2*Z^6 + 2*Z^5 + Z^4 + 2*Z^3 + Z^2 + 2*Z + 2\n",
      "*******\n",
      "\n",
      "test_invert_Zp_factor for polynomial Z + 1: \n",
      "PASSED\n",
      "polynomial =  Z + 1\n",
      "inverse =  3*Z^6 + 2*Z^5 + 3*Z^4 + 2*Z^3 + 3*Z^2 + 2*Z + 3\n",
      "*******\n",
      "\n",
      "test_invert_Zp_factor for polynomial Z^3 + 1: \n",
      "PASSED\n",
      "polynomial =  Z^3 + 1\n",
      "inverse =  3*Z^6 + 3*Z^5 + 3*Z^4 + 2*Z^3 + 2*Z^2 + 2*Z + 3\n",
      "*******\n",
      "\n",
      "test_invert_Zp_factor for polynomial Z + 4: \n",
      "PASSED\n",
      "inverse polynomial for z + 4 doesn't exist in (Z/Zp)[var]/(var^N-1)\n",
      "*******\n",
      "\n"
     ]
    }
   ],
   "source": [
    "polynomials = [Z^4 + Z^1 + 1, Z^1 + 1, Z^3 + 1, Z - 1]\n",
    "for polynomial in polynomials:\n",
    "    test_invert_Zp_factor(polynomial, p)\n"
   ]
  },
  {
   "cell_type": "code",
   "execution_count": 14,
   "metadata": {},
   "outputs": [],
   "source": [
    "def test_invert_Zpr_factor(a, p, r):\n",
    "    print(f\"test_invert_Zpr_factor for polynomial {a}: \")\n",
    "    aa = a.lift()\n",
    "    try:\n",
    "        ans = invert_Zpr_factor(aa, p, r)\n",
    "        if a*ans == 1:\n",
    "            print(\"PASSED\")\n",
    "            print(\"polynomial = \", a)\n",
    "            print(\"inverse = \", ans)\n",
    "            print(ans * a)\n",
    "        else:\n",
    "            print(\"FAILED\")\n",
    "    except AssertionError as e:\n",
    "        print(\"PASSED\")\n",
    "        print(e)\n",
    "    finally: \n",
    "        print(\"*******\\n\")"
   ]
  },
  {
   "cell_type": "code",
   "execution_count": 15,
   "metadata": {},
   "outputs": [],
   "source": [
    " \n",
    "def invert_Zpr_factor(a, p, r):\n",
    "\n",
    "    q = p\n",
    "    b = invert_Zp_factor(a, p)\n",
    "    \n",
    "    a = a.change_ring(ZZ).subs(z=x)\n",
    "    b = b.lift().change_ring(ZZ).subs(z=x)\n",
    "\n",
    "    while q < p^r:\n",
    "        q = q^2\n",
    "        b = b * (2 - a*b) % q % (x^N-1)\n",
    "    return (b.change_ring(Integers(p^r)).subs(x=z)) % (z^N-1)"
   ]
  },
  {
   "cell_type": "code",
   "execution_count": 16,
   "metadata": {},
   "outputs": [],
   "source": [
    "N = 11\n",
    "p = 3\n",
    "r = 3\n",
    "Zq.<z> = PolynomialRing(Integers(p^r))\n",
    "ZQphi.<Z> = Zq.quotient(z^N-1)"
   ]
  },
  {
   "cell_type": "code",
   "execution_count": 17,
   "metadata": {},
   "outputs": [
    {
     "name": "stdout",
     "output_type": "stream",
     "text": [
      "test_invert_Zpr_factor for polynomial 3*Z^4 + 5*Z + 1: \n",
      "PASSED\n",
      "inverse polynomial for 3*z^4 + 5*z + 1 doesn't exist in (Z/Zp)[var]/(var^N-1)\n",
      "*******\n",
      "\n",
      "test_invert_Zpr_factor for polynomial 3*Z^6 + 3*Z + 3: \n",
      "PASSED\n",
      "inverse polynomial for 3*z^6 + 3*z + 3 doesn't exist in (Z/Zp)[var]/(var^N-1)\n",
      "*******\n",
      "\n",
      "test_invert_Zpr_factor for polynomial Z + 26: \n",
      "PASSED\n",
      "inverse polynomial for z + 26 doesn't exist in (Z/Zp)[var]/(var^N-1)\n",
      "*******\n",
      "\n"
     ]
    }
   ],
   "source": [
    "polynomials = [3*Z^4 + 5*Z^1 + 1, 3*Z^6 + 3*Z^1 + 3, Z - 1]\n",
    "for polynomial in polynomials:\n",
    "    test_invert_Zpr_factor(polynomial, p, r)\n"
   ]
  },
  {
   "cell_type": "code",
   "execution_count": null,
   "metadata": {},
   "outputs": [],
   "source": []
  },
  {
   "cell_type": "code",
   "execution_count": null,
   "metadata": {},
   "outputs": [],
   "source": []
  },
  {
   "cell_type": "code",
   "execution_count": null,
   "metadata": {},
   "outputs": [],
   "source": []
  },
  {
   "cell_type": "code",
   "execution_count": null,
   "metadata": {},
   "outputs": [],
   "source": []
  },
  {
   "cell_type": "code",
   "execution_count": null,
   "metadata": {},
   "outputs": [],
   "source": []
  }
 ],
 "metadata": {
  "kernelspec": {
   "display_name": "SageMath 9.3",
   "language": "sage",
   "name": "sagemath"
  },
  "language_info": {
   "codemirror_mode": {
    "name": "ipython",
    "version": 3
   },
   "file_extension": ".py",
   "mimetype": "text/x-python",
   "name": "python",
   "nbconvert_exporter": "python",
   "pygments_lexer": "ipython3",
   "version": "3.7.10"
  }
 },
 "nbformat": 4,
 "nbformat_minor": 4
}
