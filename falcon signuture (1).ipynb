{
 "cells": [
  {
   "cell_type": "code",
   "execution_count": 56,
   "metadata": {
    "collapsed": false
   },
   "outputs": [
   ],
   "source": [
    "Zx.<x> = ZZ[]\n",
    "Qx.<y> = QQ[]\n",
    "n = 4\n",
    "sigmamin = 1.277833697\n",
    "sigmamax = 1.8205\n",
    "q = 12*1024+1\n",
    "phi = x^n+1\n",
    "from os import urandom\n",
    "from Crypto.Hash import SHAKE256\n",
    "LN2 = 0.69314718056\n",
    "sigma_star = 1.17 / sqrt(q / (2*n)) \n",
    "SALT_LEN = 40\n"
   ]
  },
  {
   "cell_type": "code",
   "execution_count": 57,
   "metadata": {
    "collapsed": false
   },
   "outputs": [
   ],
   "source": [
    "def InnerProduct(a,b,n):\n",
    "    s = [a[i]*b[i].conjugate() for i in range(n)]\n",
    "    return sum(s)\n",
    "\n",
    "# formula 3.9 from page 24, author: Evgen Postulga\n",
    "def EuclideanNorm(a,n):\n",
    "    # return sqrt(InnerProduct(a,a,n))\n",
    "    b=InnerProduct(a,a,n)\n",
    "    return sqrt(float(b))\n",
    "\n",
    "# formula 3.25 from page 30, author: Maxim Pushkar\n",
    "def FieldNorm(f, n):\n",
    "    f0, f1 = Split(f,n)\n",
    "    iks = f.parent()([0, 1])\n",
    "    return (f0^2 - iks * f1^2) % (iks^(n//2)+1)\n",
    "\n",
    "# NNT representation of polynomial f from Zq[x]/x^n+1, page 28, author Karina Ilchenko\n",
    "def NTT(f, n, q):\n",
    "        \n",
    "    roots = (x^n + 1).roots(Integers(q))\n",
    "    ans = [f.subs(x = i[0]) % q for i in roots]\n",
    "    return ans"
   ]
  },
  {
   "cell_type": "code",
   "execution_count": 58,
   "metadata": {
    "collapsed": false
   },
   "outputs": [
   ],
   "source": [
    "def CyclicRotate(input, n):\n",
    "    return input[-n:] + input[0:-n]"
   ]
  },
  {
   "cell_type": "code",
   "execution_count": 59,
   "metadata": {
    "collapsed": false
   },
   "outputs": [
   ],
   "source": [
    "def HermitianAdjointPoly(p, n):\n",
    "    f=[p[0]]\n",
    "    for i in range(1,n):    \n",
    "        f.append(-p[n-i])\n",
    "    return p.parent()(f)"
   ]
  },
  {
   "cell_type": "code",
   "execution_count": 60,
   "metadata": {
    "collapsed": false
   },
   "outputs": [
   ],
   "source": [
    "def LatticeToPoly4(M, n): \n",
    "    p00= M[0][:n]\n",
    "    p01= M[0][n:]\n",
    "    p10= M[n][:n]\n",
    "    p11= M[n][n:]\n",
    "    return p00, p01, p10, p11"
   ]
  },
  {
   "cell_type": "code",
   "execution_count": 61,
   "metadata": {
    "collapsed": false
   },
   "outputs": [
   ],
   "source": [
    "def PolyToLattice4(p00, p01, p10, p11, n):\n",
    "    M=[]\n",
    "    p=[p00.coefficients(sparse=False),p01.coefficients(sparse=False),p10.coefficients(sparse=False),p11.coefficients(sparse=False)]\n",
    "    for i in range(4):\n",
    "        while len(p[i])!=n:\n",
    "            p[i].append(0)\n",
    "    for i in range(n):\n",
    "        m1 = CyclicRotate(p[0], i)\n",
    "        m2 = CyclicRotate(p[1], i)\n",
    "        M.append(m1+m2)\n",
    "    for i in range(n):\n",
    "        m1 = CyclicRotate(p[2], i)\n",
    "        m2 = CyclicRotate(p[3], i)\n",
    "        M.append(m1+m2)\n",
    "    return M"
   ]
  },
  {
   "cell_type": "code",
   "execution_count": 62,
   "metadata": {
    "collapsed": false
   },
   "outputs": [
   ],
   "source": [
    "def make_ok(matrix):\n",
    "    l1 = matrix[:4]\n",
    "    for row in matrix[4:]:\n",
    "        newr = []\n",
    "        for el in row:\n",
    "            if '/' in str(el):\n",
    "                n,d = str(el).split('/')\n",
    "                newr.append(round(float(float(n)/float(d)),2))\n",
    "            else:\n",
    "                newr.append(el)\n",
    "        l1.append(newr)\n",
    "    return l1"
   ]
  },
  {
   "cell_type": "code",
   "execution_count": 63,
   "metadata": {
    "collapsed": false
   },
   "outputs": [
   ],
   "source": [
    "def Merge(a,b):\n",
    "    iks = a.parent()([0, 1])\n",
    "    a = a.subs(iks=iks^2)\n",
    "    b = iks*b.subs(iks=iks^2)\n",
    "    return a + b"
   ]
  },
  {
   "cell_type": "code",
   "execution_count": 64,
   "metadata": {
    "collapsed": false
   },
   "outputs": [
   ],
   "source": [
    "class Node:\n",
    "    def __init__(self, value):\n",
    "        self.value = value\n",
    "        self.leftchild = 0\n",
    "        self.rightchild = 0\n",
    "        self.tree = [self.value,self.leftchild,self.rightchild]\n",
    "        \n",
    "    def update_tree(self):\n",
    "        self.tree = [self.value,self.leftchild,self.rightchild]\n",
    "        \n",
    "    def __str__(self):\n",
    "        return '[' + str(self.value) + ',' + str(self.leftchild) + ','  + str(self.rightchild) + ']' \n",
    "    \n",
    "    def __repr__(self):\n",
    "        return '[' + str(self.value) + ',' + str(self.leftchild) + ','  + str(self.rightchild) + ']'\n",
    "    \n",
    "    def print_tree(self, pref=\"\"):\n",
    "        leaf = \"|—————> \"\n",
    "        top = \"|_______\"\n",
    "        son1 = \"|       \"\n",
    "        son2 = \"        \"\n",
    "        width = len(top)\n",
    "\n",
    "        a = \"\"\n",
    "        if (self.value * y^0).degree() and self.leftchild:\n",
    "            if (pref == \"\"):\n",
    "                a += pref + str(self.value) + \"\\n\"\n",
    "            else:\n",
    "                a += pref[:-width] + top + str(self.value) + \"\\n\"\n",
    "            try:\n",
    "                a += self.leftchild.print_tree(pref + son1)\n",
    "                a += self.rightchild.print_tree(pref + son2)\n",
    "            except:\n",
    "                pass\n",
    "            return a\n",
    "        else:\n",
    "            return (pref[:-width] + leaf + str(self.value) + \"\\n\")\n",
    "        \n",
    "def normalize_tree(tree, sigma):\n",
    "    if (tree.value * y^0).degree() and tree.leftchild and tree.rightchild:\n",
    "        normalize_tree(tree.leftchild, sigma)\n",
    "        normalize_tree(tree.rightchild, sigma)\n",
    "    else:\n",
    "        \n",
    "        tree.value = sigma / sqrt(tree.value.real())\n",
    "        tree.update_tree()"
   ]
  },
  {
   "cell_type": "code",
   "execution_count": 65,
   "metadata": {
    "collapsed": false
   },
   "outputs": [
   ],
   "source": [
    "def Omega(n):\n",
    "    phi4 = cyclotomic_polynomial(4)\n",
    "    phi_n = phi4.complex_roots()\n",
    "    phi_n.reverse()\n",
    "    k = 2\n",
    "    while k != n:\n",
    "        phi_n = sum([[sqrt(elt), - sqrt(elt)] for elt in phi_n], [])\n",
    "        k = 2*k\n",
    "    return phi_n\n",
    "\n",
    "# formula 3.18, page 27, author: Evgen Postulga\n",
    "def FFT(f, n):\n",
    "    return [f.subs(k) for k in Omega(n)]\n",
    "\n",
    "\n",
    "def SplitFFT(f):\n",
    "    n = len(f)\n",
    "    w = Omega(n)\n",
    "    f0 = [0] * (n // 2)\n",
    "    f1 = [0] * (n // 2)\n",
    "    for i in range(n // 2):\n",
    "        f0[i] = 0.5 * (f[2 * i] + f[2 * i + 1])\n",
    "        f1[i] = 0.5 * (f[2 * i] - f[2 * i + 1]) / w[2 * i]\n",
    "    return f0, f1\n",
    "\n",
    "\n",
    "def MergeFFT(f0, f1):\n",
    "    n = 2 * len(f0)\n",
    "    w = Omega(n)\n",
    "    f = [0] * n\n",
    "    for i in range(n // 2):\n",
    "        f[2 * i + 0] = f0[i] + w[2 * i] * f1[i]\n",
    "        f[2 * i + 1] = f0[i] - w[2 * i] * f1[i]\n",
    "    return f\n",
    "def invFFT(f_fft):\n",
    "    n = len(f_fft)\n",
    "    if (n > 2):\n",
    "        f0_fft, f1_fft = SplitFFT(f_fft)\n",
    "        f0 = invFFT(f0_fft)\n",
    "        f1 = invFFT(f1_fft)\n",
    "\n",
    "        f = n*[0]\n",
    "        for i in range(n//2):\n",
    "            f[2*i+0] = f0[i]\n",
    "            f[2*i+1] = f1[i] \n",
    "\n",
    "    elif (n == 2):\n",
    "        f = [0, 0]\n",
    "        f[0] = f_fft[0].real()\n",
    "        f[1] = f_fft[0].imag()\n",
    "    return f"
   ]
  },
  {
   "cell_type": "code",
   "execution_count": 66,
   "metadata": {
    "collapsed": false
   },
   "outputs": [
   ],
   "source": [
    "def InnerProduct(a,b,n):\n",
    "    s = [a[i]*b[i].conjugate() for i in range(n)]\n",
    "    return sum(s)\n",
    "\n",
    "\n",
    "def EuclideanNorm(a,n):\n",
    "    \n",
    "    b=InnerProduct(a,a,n)\n",
    "    return sqrt(float(b))\n",
    "\n",
    "\n",
    "def FieldNorm(f, n):\n",
    "    f0, f1 = Split(f,n)\n",
    "    iks = f.parent()([0, 1])\n",
    "    return (f0^2 - iks * f1^2) % (iks^(n//2)+1)\n",
    "\n",
    "\n",
    "def NTT(f, n, q):\n",
    "        \n",
    "    roots = (x^n + 1).roots(Integers(q))\n",
    "    ans = [f.subs(x = i[0]) % q for i in roots]\n",
    "    return ans"
   ]
  },
  {
   "cell_type": "code",
   "execution_count": 67,
   "metadata": {
    "collapsed": false
   },
   "outputs": [
   ],
   "source": [
    "def add_fft(f, g):\n",
    "    #print(\"f+g\",f,g)\n",
    "    assert len(f) == len(g)\n",
    "    deg = len(f)\n",
    "    return [f[i] + g[i] for i in range(deg)]\n",
    "\n",
    "def neg_fft(f):\n",
    "    deg = len(f)\n",
    "    return [- f[i] for i in range(deg)]\n",
    "\n",
    "def sub_fft(f, g):\n",
    "    return add_fft(f, neg_fft(g))\n",
    "\n",
    "def mul_fft(f_fft, g_fft):\n",
    "    deg = len(f_fft)\n",
    "    return [f_fft[i] * g_fft[i] for i in range(deg)]\n",
    "\n",
    "def div_fft(f_fft, g_fft):\n",
    "    assert len(f_fft) == len(g_fft)\n",
    "    deg = len(f_fft)\n",
    "    return [f_fft[i] / g_fft[i] for i in range(deg)]"
   ]
  },
  {
   "cell_type": "code",
   "execution_count": 68,
   "metadata": {
    "collapsed": false
   },
   "outputs": [
   ],
   "source": [
    "def UniformBits(k):\n",
    "    return int.from_bytes(bytes(list(floor(uniform(0, 256)) for i in range(k / 8))), 'big')\n",
    "\n",
    "def BaseSampler():\n",
    "    u = UniformBits(72) \n",
    "    z_0 = 0\n",
    "    RCDT = [3024686241123004913666, 1564742784480091954050, 636254429462080897535, 199560484645026482916, 47667343854657281903, 8595902006365044063, 1163297957344668388, 117656387352093658, 8867391802663976, 496969357462633, 20680885154299, 638331848991, 14602316184, 247426747, 3104126, 28824, 198, 1, 0]\n",
    "    for i in range(0, 18):\n",
    "        z_0 = z_0 + int(u<RCDT[i]) \n",
    "    return z_0\n",
    "\n",
    "def ApproxExp(x, ccs):\n",
    "    C = [0x00000004741183A3,0x00000036548CFC06,0x0000024FDCBF140A,0x0000171D939DE045,0x0000D00CF58F6F84,0x000680681CF796E3,0x002D82D8305B0FEA,0x011111110E066FD0,0x0555555555070F00,0x155555555581FF00,0x400000000002B400,0x7FFFFFFFFFFF4800,0x8000000000000000]\n",
    "    y = C[0]\n",
    "    z = floor(2^63*x)\n",
    "    for i in range(1, 13):\n",
    "        y = C[i] - (z*y) >> 63\n",
    "    z = floor(2^63*ccs)\n",
    "    y = (z*y) >> 63\n",
    "    return y\n",
    "\n",
    "def BerExp(x, ccs):\n",
    "    s = floor(x/LN2) \n",
    "    r = x - s*LN2 \n",
    "    s = min(s, 63)\n",
    "    z = (2*ApproxExp(r, ccs) - 1) >> s\n",
    "    for i in range(56, -8, -8):\n",
    "        p = UniformBits(8) \n",
    "        w = p - ((z >> i) & 0xFF)\n",
    "        if int(w) == 0:\n",
    "            break\n",
    "    return int(w < 0)\n",
    "\n",
    "def SamplerZ(mu, sigma, sigmamin, sigmamax):\n",
    "    r = mu - int(floor(mu)) \n",
    "    ccs = sigmamin/sigma\n",
    "    while True:\n",
    "        z_0 = BaseSampler()\n",
    "        b = UniformBits(8)&0x1 \n",
    "        z = b + (2*b-1)*z_0\n",
    "        x = (z-r)^2/2/sigma^2 - z_0^2/2/sigmamax^2\n",
    "        if BerExp(x, ccs) == 1:\n",
    "            return z + int(floor(mu))"
   ]
  },
  {
   "cell_type": "code",
   "execution_count": 69,
   "metadata": {
    "collapsed": false
   },
   "outputs": [
   ],
   "source": [
    "def LDL(g00, g01, g10, g11, n):\n",
    "    D00 = g00\n",
    "    g100 = FFT(g10,n)\n",
    "    g000 = FFT(g00,n)\n",
    "    L10 = div_fft(g100,g000)\n",
    "    L10_star = HermitianAdjointPoly(Qx(invFFT(L10)),n)\n",
    "    D11 = sub_fft(FFT(g11,n), mul_fft(mul_fft(L10,FFT(L10_star,n)),g000))\n",
    "    L = PolyToLattice4(1*y^0,0*y^0,Qx(invFFT(L10)),1*y^0,n)\n",
    "    D = PolyToLattice4(D00,0*x^0,0*x^0,Qx(invFFT(D11)),n)\n",
    "    return L,D"
   ]
  },
  {
   "cell_type": "code",
   "execution_count": 70,
   "metadata": {
    "collapsed": false
   },
   "outputs": [
   ],
   "source": [
    "def ffLDL(g00, g01, g10, g11, n):\n",
    "    L,D = LDL(Qx(g00), Qx(g01), Qx(g10), Qx(g11), n)\n",
    "    L10 = Qx(LatticeToPoly4(L,n)[2])\n",
    "    tree = Node(L10)\n",
    "    D00 = Qx(LatticeToPoly4(D,n)[0])\n",
    "    D11 = Qx(LatticeToPoly4(D,n)[3])\n",
    "    if n == 2:\n",
    "        tree.leftchild = Node(FFT(D00,n)[0])\n",
    "        tree.rightchild = Node(FFT(D11,n)[0])\n",
    "        tree.update_tree()\n",
    "       \n",
    "        return tree\n",
    "    else:\n",
    "        d00,d01 = SplitFFT(FFT(D00,n))\n",
    "        d10,d11 = SplitFFT(FFT(D11,n))\n",
    "        d01_star = HermitianAdjointPoly(Qx(invFFT(d01)),n//2)\n",
    "        d11_star = HermitianAdjointPoly(Qx(invFFT(d00)),n//2)\n",
    "        tree.leftchild = ffLDL(invFFT(d00),invFFT(d01),d01_star,invFFT(d00),n//2)\n",
    "        tree.rightchild = ffLDL(invFFT(d01),invFFT(d11),d11_star,invFFT(d10),n//2)\n",
    "    return tree   "
   ]
  },
  {
   "cell_type": "code",
   "execution_count": 71,
   "metadata": {
    "collapsed": false
   },
   "outputs": [
   ],
   "source": [
    "def ffSampling(t0_, t1_, T, sigmamin, sigmamax, q, n):\n",
    "    \n",
    "    if n == 1:\n",
    "        \n",
    "        sigma = T\n",
    "        \n",
    "        \n",
    "        z0_ = SamplerZ(t0_[0].real(),float(sigma.value.real()),sigmamin, sigmamax)\n",
    "        z1_ = SamplerZ(t1_[0].real(),float(sigma.value.real()),sigmamin, sigmamax)\n",
    "        \n",
    "        return [z0_],[z1_]\n",
    "  \n",
    "    l = T.value\n",
    "    T0 = T.leftchild\n",
    "    T1 = T.rightchild\n",
    "    t1 = SplitFFT(t1_)\n",
    "    z1 = ffSampling(*t1, T1, sigmamin, sigmamax, q, n/2)\n",
    "    z1_ = MergeFFT(*z1)\n",
    "    t0__ = add_fft(t0_, mul_fft(sub_fft(t1_,z1_),l))\n",
    "    t0 = SplitFFT(t0__)\n",
    "    z0 = ffSampling(*t0, T0, sigmamin, sigmamax, q, n/2)\n",
    "    z0_ = MergeFFT(*z0)\n",
    "    return z0_,z1_"
   ]
  },
  {
   "cell_type": "code",
   "execution_count": 72,
   "metadata": {
    "collapsed": false
   },
   "outputs": [
   ],
   "source": [
    "def Balance(f,q,n):\n",
    "    g = list(((f[i] + q//2) % q) - q//2 for i in range(n))\n",
    "    return f.parent()(g)\n",
    "\n",
    "\n",
    "def Split(f,n):\n",
    "    f0 = list(f[2*i+0] for i in range(n//2))\n",
    "    f1 = list(f[2*i+1] for i in range(n//2))\n",
    "    return f.parent()(f0), f.parent()(f1)  "
   ]
  },
  {
   "cell_type": "code",
   "execution_count": 73,
   "metadata": {
    "collapsed": false
   },
   "outputs": [
   ],
   "source": [
    "def Reduce(f, g, F, G, n):\n",
    "    \n",
    "    TT = Zx.change_ring(QQ).quotient(x^n+1) \n",
    "    \n",
    "    f_star = HermitianAdjointPoly(f, n)\n",
    "    g_star = HermitianAdjointPoly(g, n)\n",
    "    while True:\n",
    "        num = F*f_star + G*g_star\n",
    "        num = TT(num)\n",
    "        den = f*f_star + g*g_star\n",
    "        den = 1 / TT(den)\n",
    "        res = num * den\n",
    "        k = Zx([int(round(elt)) for elt in res])\n",
    "        F = F - k*f \n",
    "        G = G - k*g\n",
    "        if all(elt == 0 for elt in k):\n",
    "            break\n",
    "    return f, g, F, G\n",
    "\n",
    "def NTT(f, n, q):\n",
    "  \n",
    "    roots = (x^n + 1).roots(Integers(q))\n",
    "    ans = [f.subs(x = i[0]) % q for i in roots]\n",
    "    return ans"
   ]
  },
  {
   "cell_type": "code",
   "execution_count": 74,
   "metadata": {
    "collapsed": false
   },
   "outputs": [
   ],
   "source": [
    "def NTRUSolve(f, g, n, q):\n",
    "    if n == 1:\n",
    "       \n",
    "        gcd_, u, v = xgcd(f[0], g[0])\n",
    "        \n",
    "        if gcd_ != 1:\n",
    "            return None, None, False\n",
    "        F, G = -v*q, u*q\n",
    "       \n",
    "        return F, G, True\n",
    "    else:\n",
    "        \n",
    "    \n",
    "        f_ = FieldNorm(f, n) \n",
    "        g_ = FieldNorm(g, n) \n",
    "        \n",
    "        F_, G_, flag = NTRUSolve(f_, g_, n//2, q)\n",
    "        if flag:\n",
    "            F = F_.subs(x=x^2) * g.subs(x=-x) \n",
    "            G = G_.subs(x=x^2) * f.subs(x=-x)\n",
    "            \n",
    "            f, g, F, G = Reduce(f, g, F, G, n)\n",
    "            return F % (x^n +1), G % (x^n +1), flag\n",
    "        else:\n",
    "            return F_, G_, flag"
   ]
  },
  {
   "cell_type": "code",
   "execution_count": 75,
   "metadata": {
    "collapsed": false
   },
   "outputs": [
   ],
   "source": [
    "def HashToPoint(salt, message, q, n):\n",
    "\n",
    "    k = int((2**16) // q)\n",
    "    \n",
    "    shake = SHAKE256.new()\n",
    "    shake.update(salt)\n",
    "    shake.update(message)\n",
    "    hashed = [0 for i in range(n)]\n",
    "    \n",
    "    i = 0\n",
    "    j = 0\n",
    "    while i < n:\n",
    "        twobytes = shake.read(2)\n",
    "        elt = (twobytes[0] << 8) + twobytes[1] \n",
    "        if elt < k * q:\n",
    "            hashed[i] = elt % q\n",
    "            i += 1\n",
    "        j += 1\n",
    "    return Zx(hashed) % phi"
   ]
  },
  {
   "cell_type": "code",
   "execution_count": 76,
   "metadata": {
    "collapsed": false
   },
   "outputs": [
   ],
   "source": [
    "def NTRUGen(q, n):\n",
    "    \n",
    "    def gen_poly(n, q):\n",
    "        \n",
    "        def D(mu=0):\n",
    "            z = 0\n",
    "            for i in range(1, 4096/n + 1):\n",
    "                sigma_star = 1.17 * sqrt(q / 8192)\n",
    "                sigmamin, sigmamax = 1.277833697, 1.8205\n",
    "                zi = SamplerZ(mu, sigma_star, sigmamin, sigmamax)\n",
    "                z += zi\n",
    "            return z\n",
    "\n",
    "        f = [0] * n\n",
    "        g = [0] * n\n",
    "        for i in range(n):\n",
    "            f[i] = D()\n",
    "            g[i] = D()\n",
    "        f = Zx(f) % phi\n",
    "        g = Zx(g) % phi\n",
    "        return f, g\n",
    "    \n",
    "    def gs_norm(f, g, q, n):\n",
    "        TT = Zx.change_ring(QQ).quotient(x^n+1) \n",
    "            \n",
    "        f_star = HermitianAdjointPoly(f, n)\n",
    "        g_star = HermitianAdjointPoly(g, n)\n",
    "        first = EuclideanNorm([*g.coefficients(sparse=False), *(-f).coefficients(sparse=False)], n)\n",
    "        s1 = (q * TT(f_star)) / TT((f*f_star + g*g_star))\n",
    "        s2 = (q * TT(g_star)) / TT((f*f_star + g*g_star))\n",
    "        second = EuclideanNorm(list(s1) + list(s2), n)\n",
    "        gamma = max(first, second)\n",
    "        return gamma\n",
    "    while True:\n",
    "        while True:\n",
    "            while True:\n",
    "\n",
    "                f, g = gen_poly(n, q)\n",
    "                \n",
    "\n",
    "                if gs_norm(f, g, q, n) > (1.17 ** 2) * q:\n",
    "                    \n",
    "                    continue\n",
    "                break\n",
    "\n",
    "            if  0 in NTT(f, n, q):\n",
    "               \n",
    "                continue\n",
    "            break\n",
    "                \n",
    "        F, G, flag = NTRUSolve(f, g, n, q)\n",
    "        \n",
    "        if not flag:\n",
    "            \n",
    "            continue\n",
    "        else:\n",
    "            F, G = F % (x^n +1), G % (x^n +1)\n",
    "            F = Zx([int(coef) for coef in F.coefficients(sparse=False)])\n",
    "            G = Zx([int(coef) for coef in G.coefficients(sparse=False)])\n",
    "            \n",
    "            break\n",
    "            \n",
    "    return f, g, F, G\n"
   ]
  },
  {
   "cell_type": "code",
   "execution_count": 77,
   "metadata": {
    "collapsed": false
   },
   "outputs": [
   ],
   "source": [
    "def NaiveKeyGen(sigma, q, n):\n",
    "    f, g, F, G = NTRUGen(q, n)\n",
    "    B = [[g, -f], [G, -F]]\n",
    "    sk = B  \n",
    "    \n",
    "   \n",
    "    \n",
    "    TT = Zx.change_ring(Integers(q)).quotient(x^n+1)\n",
    "    f_q = Zx(lift(1 / TT(f))) \n",
    "    \n",
    "    h = g * f_q % phi % q\n",
    "    h_star = HermitianAdjointPoly(h, n)\n",
    "    A = [Zx(1), h_star]\n",
    "    pk = A\n",
    "    \n",
    "    \n",
    "    A_star = [[Zx(1)], [h]]\n",
    "    r00 = (B[0][0] * A_star[0][0] + B[0][1] * A_star[1][0]) % phi % q \n",
    "    r10 = (B[1][0] * A_star[0][0] + B[1][1] * A_star[1][0]) % phi % q \n",
    "    result = [[r00], [r10]]\n",
    "    \n",
    "    \n",
    "    return sk, h"
   ]
  },
  {
   "cell_type": "code",
   "execution_count": 78,
   "metadata": {
    "collapsed": false
   },
   "outputs": [
   ],
   "source": [
    "def NaiveSign(message, B, q, n):\n",
    "    \n",
    "    noise = urandom(SALT_LEN)\n",
    "    \n",
    "    \n",
    "    c = HashToPoint(noise, message, q, n)\n",
    "   \n",
    "    B_ = [[B[1][1], -B[0][1]], [-B[1][0], B[0][0]]]\n",
    "    \n",
    "    B_inv = [[B[1][1]/q, -B[0][1]/q], [-B[1][0]/q, B[0][0]/q]]\n",
    "    B_ = [[B[1][1], -B[0][1]], [-B[1][0], B[0][0]]]\n",
    "    B_inv = [[B[1][1]/q, -B[0][1]/q], [-B[1][0]/q, B[0][0]/q]]\n",
    "\n",
    "    \n",
    "\n",
    "    \n",
    "    t = [c.coefficients(sparse=False), [[0]*n]]\n",
    "    \n",
    "    t00 = c * B_inv[0][0]  % phi\n",
    "    t01 = c * B_inv[1][0]  % phi\n",
    "    t = t00.coefficients(sparse=False) + t01.coefficients(sparse=False)\n",
    "    \n",
    "    z = [int(round(float(el))) for el in t]\n",
    "    \n",
    "     \n",
    "    \n",
    "    z1 = Zx(list(z)[:n])\n",
    "    z2 = Zx(list(z)[n:])\n",
    "    zb1 = (z1 * B[0][0] + z2 * B[1][0]) % phi\n",
    "    zb2 = (z1 * B[0][1] + z2 * B[1][1]) % phi\n",
    "    zb1 = zb1.coefficients(sparse=False)\n",
    "    zb2 = zb2.coefficients(sparse=False)\n",
    "    zb = vector(zb1 + zb2)\n",
    "    \n",
    "    \n",
    "    c0 = vector(c.coefficients(sparse=False) + [0]*n)\n",
    "    \n",
    "    s = c0 - zb\n",
    "    beta = EuclideanNorm(Balance(s1, q, n).coefficients(sparse=False) + Balance(s2, q, n).coefficients(sparse=False), n)\n",
    "    \n",
    "\n",
    "    sa = (s1 * Zx(1) + s2 * h) % (x^n + 1) % q\n",
    "\n",
    "    return noise, s2, beta\n"
   ]
  },
  {
   "cell_type": "code",
   "execution_count": 79,
   "metadata": {
    "collapsed": false
   },
   "outputs": [
   ],
   "source": [
    "def NaiveVerify(message, noise, s2, h, q, n, beta):\n",
    "    c = HashToPoint(noise, message, q, n)\n",
    "    s1 = (c - s2 * h) % phi\n",
    "    if EuclideanNorm(Balance(s1, q, n).coefficients(sparse=False) + Balance(s2, q, n).coefficients(sparse=False), n) == beta:\n",
    "        return True\n",
    "    else:\n",
    "        return False"
   ]
  },
  {
   "cell_type": "code",
   "execution_count": 0,
   "metadata": {
    "collapsed": false
   },
   "outputs": [
   ],
   "source": [
   ]
  },
  {
   "cell_type": "code",
   "execution_count": 0,
   "metadata": {
    "collapsed": false
   },
   "outputs": [
   ],
   "source": [
   ]
  },
  {
   "cell_type": "code",
   "execution_count": 0,
   "metadata": {
    "collapsed": false
   },
   "outputs": [
   ],
   "source": [
   ]
  },
  {
   "cell_type": "code",
   "execution_count": 0,
   "metadata": {
    "collapsed": false
   },
   "outputs": [
   ],
   "source": [
   ]
  },
  {
   "cell_type": "code",
   "execution_count": 0,
   "metadata": {
    "collapsed": false
   },
   "outputs": [
   ],
   "source": [
   ]
  },
  {
   "cell_type": "code",
   "execution_count": 0,
   "metadata": {
    "collapsed": false
   },
   "outputs": [
   ],
   "source": [
   ]
  },
  {
   "cell_type": "code",
   "execution_count": 0,
   "metadata": {
    "collapsed": false
   },
   "outputs": [
   ],
   "source": [
   ]
  },
  {
   "cell_type": "code",
   "execution_count": 0,
   "metadata": {
    "collapsed": false
   },
   "outputs": [
   ],
   "source": [
   ]
  },
  {
   "cell_type": "code",
   "execution_count": 0,
   "metadata": {
    "collapsed": false
   },
   "outputs": [
   ],
   "source": [
   ]
  },
  {
   "cell_type": "code",
   "execution_count": 0,
   "metadata": {
    "collapsed": false
   },
   "outputs": [
   ],
   "source": [
   ]
  },
  {
   "cell_type": "code",
   "execution_count": 0,
   "metadata": {
    "collapsed": false
   },
   "outputs": [
   ],
   "source": [
   ]
  },
  {
   "cell_type": "code",
   "execution_count": 0,
   "metadata": {
    "collapsed": false
   },
   "outputs": [
   ],
   "source": [
   ]
  },
  {
   "cell_type": "code",
   "execution_count": 0,
   "metadata": {
    "collapsed": false
   },
   "outputs": [
   ],
   "source": [
   ]
  },
  {
   "cell_type": "code",
   "execution_count": 0,
   "metadata": {
    "collapsed": false
   },
   "outputs": [
   ],
   "source": [
   ]
  }
 ],
 "metadata": {
  "kernelspec": {
   "display_name": "SageMath 9.4",
   "language": "sagemath",
   "metadata": {
    "cocalc": {
     "description": "Open-source mathematical software system",
     "priority": 10,
     "url": "https://www.sagemath.org/"
    }
   },
   "name": "sage-9.4",
   "resource_dir": "/ext/jupyter/kernels/sage-9.4"
  },
  "language_info": {
   "codemirror_mode": {
    "name": "ipython",
    "version": 3
   },
   "file_extension": ".py",
   "mimetype": "text/x-python",
   "name": "python",
   "nbconvert_exporter": "python",
   "pygments_lexer": "ipython3",
   "version": "3.9.5"
  }
 },
 "nbformat": 4,
 "nbformat_minor": 4
}