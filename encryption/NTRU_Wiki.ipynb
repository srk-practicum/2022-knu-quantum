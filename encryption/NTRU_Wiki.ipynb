{
 "cells": [
  {
   "cell_type": "code",
   "execution_count": 129,
   "metadata": {},
   "outputs": [],
   "source": [
    "from sage.all import *\n",
    "import sys\n",
    "import math\n",
    "\n",
    "N = 11\n",
    "p = 3\n",
    "q = 2^5\n",
    "#d =\n",
    "Zx.<x> = ZZ[]\n",
    "f = -1 + x + x^2 -x^4 +x^6 + x^9 - x^10\n",
    "g = -1 + x^2 + x^3 + x^5 - x^8 - x^10\n",
    "m=-1+x^3-x^4-x^8+x^9+x^10"
   ]
  },
  {
   "cell_type": "code",
   "execution_count": 2,
   "metadata": {},
   "outputs": [],
   "source": [
    "def balancedmod(f,q):\n",
    "    g = list(((f[i] + q//2) % q) - q//2 for i in range(N))\n",
    "    return Zx(g)"
   ]
  },
  {
   "cell_type": "code",
   "execution_count": 12,
   "metadata": {},
   "outputs": [],
   "source": [
    "def multiply(f,g):\n",
    "    return (f * g) % (x^N-1)"
   ]
  },
  {
   "cell_type": "code",
   "execution_count": 4,
   "metadata": {},
   "outputs": [],
   "source": [
    "def invertmodprime(f,p):\n",
    "    T = Zx.change_ring(Integers(p)).quotient(x^N-1)\n",
    "    return Zx(lift(1 / T(f))) "
   ]
  },
  {
   "cell_type": "code",
   "execution_count": 133,
   "metadata": {},
   "outputs": [
    {
     "name": "stdout",
     "output_type": "stream",
     "text": [
      "f_p = 2*x^9 + x^8 + 2*x^7 + x^5 + 2*x^4 + 2*x^3 + 2*x + 1\n"
     ]
    }
   ],
   "source": [
    "def test_invertmodprime():\n",
    "    #f = -1 + x + x^2 -x^4 +x^6 + x^9 - x^10\n",
    "    #p=3\n",
    "    f_p=invertmodprime(f,p)\n",
    "    print(\"f_p =\",f_p)\n",
    "test_invertmodprime()\n"
   ]
  },
  {
   "cell_type": "code",
   "execution_count": 118,
   "metadata": {},
   "outputs": [],
   "source": [
    "def invertmodpowerof2(f,q):\n",
    "    a=2\n",
    "    b=invertmodprime(f,2)\n",
    "    while a<q:\n",
    "        a=a^2\n",
    "        b=multiply(b,(2-multiply(f,b)))\n",
    "        Za.<z>=PolynomialRing(Integers(a))\n",
    "        f1=Zx(Za(b))\n",
    "    #Zq.<x>=PolynomialRing(Integers(q))\n",
    "    return b"
   ]
  },
  {
   "cell_type": "code",
   "execution_count": 123,
   "metadata": {},
   "outputs": [
    {
     "name": "stdout",
     "output_type": "stream",
     "text": [
      "f_q = 30*x^10 + 18*x^9 + 20*x^8 + 22*x^7 + 16*x^6 + 15*x^5 + 4*x^4 + 16*x^3 + 6*x^2 + 9*x + 5\n"
     ]
    }
   ],
   "source": [
    "def test_invertmodpowerof2():\n",
    "    f_q=invertmodpowerof2(f,q)\n",
    "    Zq.<x>=PolynomialRing(Integers(q))\n",
    "    print(\"f_q =\", Zx(Zq(f_q)))\n",
    "test_invertmodpowerof2()"
   ]
  },
  {
   "cell_type": "code",
   "execution_count": 77,
   "metadata": {},
   "outputs": [],
   "source": [
    "def validate_params():\n",
    "    if q > p and gcd(p,q) == 1:\n",
    "        return True\n",
    "    return False"
   ]
  },
  {
   "cell_type": "code",
   "execution_count": 71,
   "metadata": {},
   "outputs": [],
   "source": [
    "def generate_polynomial(d):\n",
    "\n",
    "    assert d <= N\n",
    "    result = N*[0]\n",
    "    for j in range(d):  \n",
    "        while True:\n",
    "            r = randrange(N)    \n",
    "            if not result[r]: break\n",
    "        result[r] = 1-2*randrange(2) \n",
    "    return Zx(result)\n",
    "\n"
   ]
  },
  {
   "cell_type": "code",
   "execution_count": 72,
   "metadata": {},
   "outputs": [],
   "source": [
    "def generate_keys():\n",
    "    if validate_params():\n",
    "        while True:\n",
    "            try:\n",
    "                f = generate_polynomial(d)\n",
    "                g = generate_polynomial(d)\n",
    "                f_q = invertmodpowerof2(f,q)\n",
    "                f_p = invertmodprime(f,p)  \n",
    "                break\n",
    "        \n",
    "            except:\n",
    "                pass \n",
    "        public_key = balancedmod(p * multiply(f_q,g),q)\n",
    "        secret_key = f,f_p\n",
    "        return public_key,secret_key\n",
    "    else:\n",
    "        print(\"Provided params are not correct. q and p should be co-prime, q should be a power of 2 considerably larger than p and p should be prime.\")\n",
    "\n"
   ]
  },
  {
   "cell_type": "code",
   "execution_count": 78,
   "metadata": {},
   "outputs": [],
   "source": [
    "def generate_message():\n",
    "    result = list(randrange(3) - 1 for j in range(N))\n",
    "    return Zx(result)"
   ]
  },
  {
   "cell_type": "code",
   "execution_count": 86,
   "metadata": {},
   "outputs": [],
   "source": [
    "def encrypt(message, public_key):   \n",
    "    #r = generate_polynomial(d)\n",
    "    r=-1+x^2+x^3+x^4-x^5-x^7\n",
    "    #m=-1+x^3-x^4-x^8+x^9-x^10\n",
    "    return balancedmod(multiply(public_key,r) + message,q)"
   ]
  },
  {
   "cell_type": "code",
   "execution_count": 130,
   "metadata": {},
   "outputs": [
    {
     "name": "stdout",
     "output_type": "stream",
     "text": [
      "h = -16*x^10 - 13*x^9 + 12*x^8 - 13*x^7 + 15*x^6 - 8*x^5 + 12*x^4 - 12*x^3 - 10*x^2 - 7*x + 8\n",
      "e = 19*x^10 + 6*x^9 + 25*x^8 + 7*x^7 + 30*x^6 + 16*x^5 + 14*x^4 + 24*x^3 + 26*x^2 + 11*x + 14\n"
     ]
    }
   ],
   "source": [
    "def test_encrypt():\n",
    "    h=balancedmod(multiply(g,p*invertmodpowerof2(f,q)),q)\n",
    "    e=encrypt(m, h)\n",
    "    print(\"h =\", h)\n",
    "    Zq.<x>=PolynomialRing(Integers(q))\n",
    "    print(\"e =\",Zx(Zq(e)))\n",
    "test_encrypt()"
   ]
  },
  {
   "cell_type": "code",
   "execution_count": 147,
   "metadata": {},
   "outputs": [],
   "source": [
    "def decrypt(encrypted_message, secret_key):   \n",
    "    f,f_p = secret_key\n",
    "    a = balancedmod(multiply(encrypted_message,f),q)\n",
    "    return balancedmod(multiply(a,f_p),p)\n"
   ]
  },
  {
   "cell_type": "code",
   "execution_count": 153,
   "metadata": {},
   "outputs": [
    {
     "name": "stdout",
     "output_type": "stream",
     "text": [
      "a = -7*x^10 - 3*x^9 + 5*x^8 + 7*x^7 + 6*x^6 + 7*x^5 + 10*x^4 - 11*x^3 - 10*x^2 - 7*x + 3\n",
      "b = -x^10 - x^8 + x^7 + x^5 + x^4 + x^3 - x^2 - x\n",
      "c = x^10 + x^9 - x^8 - x^4 + x^3 - 1\n"
     ]
    }
   ],
   "source": [
    "def test_decrypt():\n",
    "    h=balancedmod(multiply(g,p*invertmodpowerof2(f,q)),q)\n",
    "    e=encrypt(m, h)\n",
    "    secret_key=f,invertmodprime(f,p)\n",
    "    a = balancedmod(multiply(e,f),q)\n",
    "    print(\"a =\", a)\n",
    "    b=balancedmod(a,p)\n",
    "    print(\"b =\", b)\n",
    "    c=decrypt(e,secret_key)\n",
    "    print(\"c =\", c)\n",
    "test_decrypt()\n",
    "    "
   ]
  },
  {
   "cell_type": "code",
   "execution_count": null,
   "metadata": {},
   "outputs": [],
   "source": []
  },
  {
   "cell_type": "code",
   "execution_count": null,
   "metadata": {},
   "outputs": [],
   "source": []
  }
 ],
 "metadata": {
  "kernelspec": {
   "display_name": "SageMath 9.4",
   "language": "sage",
   "name": "sagemath-9.4"
  },
  "language_info": {
   "codemirror_mode": {
    "name": "ipython",
    "version": 3
   },
   "file_extension": ".py",
   "mimetype": "text/x-python",
   "name": "python",
   "nbconvert_exporter": "python",
   "pygments_lexer": "ipython3",
   "version": "3.9.5"
  }
 },
 "nbformat": 4,
 "nbformat_minor": 4
}
