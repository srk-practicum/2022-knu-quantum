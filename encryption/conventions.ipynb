{
 "cells": [
  {
   "cell_type": "code",
   "execution_count": null,
   "metadata": {
    "collapsed": false
   },
   "outputs": [],
   "source": [
    "# use Shift+Enter to run the cell"
   ]
  },
  {
   "cell_type": "code",
   "execution_count": 2,
   "metadata": {
    "collapsed": false
   },
   "outputs": [],
   "source": [
    "# use variables consistently\n",
    "# to avoid clash of types, use variables x, X, y, Y, z, Z as described below\n",
    "Zx.<x> = PolynomialRing(ZZ) \n",
    "Zphi.<X> = Zx.quotient(x^4+1)\n",
    "Qy.<y> = PolynomialRing(QQ)\n",
    "Qphi.<Y> = Qy.quotient(y^4+1)\n",
    "Zq.<z> = PolynomialRing(Integers(7))\n",
    "ZQphi.<Z> = Zq.quotient(z^4+1)"
   ]
  },
  {
   "cell_type": "code",
   "execution_count": 3,
   "metadata": {
    "collapsed": false
   },
   "outputs": [
    {
     "name": "stdout",
     "output_type": "stream",
     "text": [
      "[0, 1]\n",
      "[1]\n"
     ]
    }
   ],
   "source": [
    "# x is polynomial 0*x^0 + 1*x^1\n",
    "print(x.coefficients(sparse=False))\n",
    "print(x.coefficients()) # forgetting \"sparse=False\" may lead to mistakes"
   ]
  },
  {
   "cell_type": "code",
   "execution_count": 5,
   "metadata": {
    "collapsed": false,
    "scrolled": true
   },
   "outputs": [
    {
     "name": "stdout",
     "output_type": "stream",
     "text": [
      "x^5 + x^4 - 4*x^2 - 4*x\n",
      "-4*X^2 - 5*X - 1\n",
      "LaTeX:  2 Z^{3} + Z^{2} + 3 Z + 1\n"
     ]
    },
    {
     "data": {
      "text/html": [
       "<html><script type=\"math/tex; mode=display\">\\newcommand{\\Bold}[1]{\\mathbf{#1}}2 Z^{3} + Z^{2} + 3 Z + 1</script></html>"
      ],
      "text/plain": [
       "2 Z^{3} + Z^{2} + 3 Z + 1"
      ]
     },
     "metadata": {},
     "output_type": "display_data"
    }
   ],
   "source": [
    "print((x^2+x)*(x^3-4))\n",
    "print((X^2+X)*(X^3-4))\n",
    "print(\"LaTeX: \", latex((Z^2+Z)/(Z^3-4)))\n",
    "show(latex((Z^2+Z)/(Z^3-4)))"
   ]
  },
  {
   "cell_type": "code",
   "execution_count": 5,
   "metadata": {
    "collapsed": false
   },
   "outputs": [
    {
     "name": "stdout",
     "output_type": "stream",
     "text": [
      "x^2 + 1\n"
     ]
    },
    {
     "data": {
      "text/plain": [
       "[1, 0, 1]"
      ]
     },
     "execution_count": 5,
     "metadata": {},
     "output_type": "execute_result"
    }
   ],
   "source": [
    "# how to create polynomial\n",
    "a = Zx([1,0,1])\n",
    "print(a)\n",
    "a.coefficients(sparse=False)"
   ]
  },
  {
   "cell_type": "code",
   "execution_count": 10,
   "metadata": {
    "collapsed": false
   },
   "outputs": [
    {
     "data": {
      "text/plain": [
       "[0, 1, 0, 0]"
      ]
     },
     "execution_count": 10,
     "metadata": {},
     "output_type": "execute_result"
    }
   ],
   "source": [
    "# X is factor-class of polynomial x - note: Sage operates with factor-classes as with vectors (there are always n coordinates no matter of deg(f))\n",
    "list(X)"
   ]
  },
  {
   "cell_type": "code",
   "execution_count": 14,
   "metadata": {
    "collapsed": false
   },
   "outputs": [
    {
     "name": "stdout",
     "output_type": "stream",
     "text": [
      "x\n"
     ]
    }
   ],
   "source": [
    "# lift(X) gives a representative of factor-class X\n",
    "print(lift(X))"
   ]
  },
  {
   "cell_type": "code",
   "execution_count": 15,
   "metadata": {
    "collapsed": false
   },
   "outputs": [
    {
     "data": {
      "text/plain": [
       "x^4 + x^2"
      ]
     },
     "execution_count": 15,
     "metadata": {},
     "output_type": "execute_result"
    }
   ],
   "source": [
    "# you can substitute values into polynomials, but cannot substitute into factor-classes\n",
    "f=x^2+x\n",
    "f.subs(x=x^2)"
   ]
  },
  {
   "cell_type": "code",
   "execution_count": 1,
   "metadata": {
    "collapsed": false
   },
   "outputs": [
    {
     "name": "stdout",
     "output_type": "stream",
     "text": [
      "1 6 0 1\n",
      "3\n",
      "3*5= 1\n"
     ]
    }
   ],
   "source": [
    "# be cautious with base field (ring)\n",
    "II = Integers(7)\n",
    "print(II(1), II(6), II(7), II(8))\n",
    "print(1/II(5)); print(\"3*5 =\", II(3)*II(5))"
   ]
  },
  {
   "cell_type": "code",
   "execution_count": 30,
   "metadata": {
    "collapsed": false
   },
   "outputs": [
    {
     "name": "stdout",
     "output_type": "stream",
     "text": [
      "(0, 0, 3)\n",
      "(0,0,3) + (0,1,3) = (0, 1, 0)\n"
     ]
    }
   ],
   "source": [
    "# issue example: using coefficients while forgetting about their origin may lead to mistakes\n",
    "f = Zq(3*z^2)\n",
    "c = vector(f.coefficients(sparse=False)); print(c)\n",
    "print(\"(0,0,3) + (0,1,4) =\", c+vector([0,1,4]))"
   ]
  },
  {
   "cell_type": "code",
   "execution_count": 21,
   "metadata": {
    "collapsed": false
   },
   "outputs": [
    {
     "name": "stdout",
     "output_type": "stream",
     "text": [
      "e = Z^2 + Z + 4\n",
      "1/e = Z^2 + 6*Z + 4  in Zq[z]/(z^4+1)\n",
      "e * 1/e = 1\n",
      "b = Y^2 + Y - 3\n",
      "1/b = -7/113*Y^3 - 13/113*Y^2 - 8/113*Y - 31/113  in Q[y]/(y^4+1)\n",
      "c*b = 1\n",
      "a = Y^3 + Y - 34/3\n",
      "1/b = -7/113*Y^3 - 13/113*Y^2 - 8/113*Y - 31/113\n",
      "d*b = 1\n"
     ]
    }
   ],
   "source": [
    "# operations over factor-classes\n",
    "Zq.<z> = PolynomialRing(Integers(7))\n",
    "ZQphi.<Z> = Zq.quotient(z^4+1)\n",
    "\n",
    "e=Z^2+Z-3;print(\"e =\", e)\n",
    "g = 1 / e; print(\"1/e =\", g, \" in Zq[z]/(z^4+1)\"); print(\"e * 1/e =\", e*g)\n",
    "\n",
    "Qy.<y> = PolynomialRing(QQ)\n",
    "Qphi.<Y> = Qy.quotient(y^4+1)\n",
    "b=Y^2+Y-3;print(\"b =\", b)\n",
    "c = 1 / b; print(\"1/b =\", c, \" in Q[y]/(y^4+1)\"); print(\"c*b =\", c*b)\n",
    "\n",
    "a=Y^3+Y-34/3;print(\"a =\", a)\n",
    "d = a / b; print(\"1/b =\", c); print(\"d*b =\", c*b)\n"
   ]
  },
  {
   "cell_type": "code",
   "execution_count": 20,
   "metadata": {
    "collapsed": false
   },
   "outputs": [
    {
     "name": "stdout",
     "output_type": "stream",
     "text": [
      "f class:  Univariate Polynomial Ring in x over Integer Ring\n",
      "f * g = 4*x^8 - 5*x^7 + 4*x^3 - 17*x^2 + 15*x\n",
      "x is:  x\n",
      "9*x^3 - 17*x^2 + 15*x + 4\n",
      "f class:  Univariate Polynomial Ring in y over Rational Field\n",
      "f * g = 4*y^8 - 5*y^7 + 4*y^3 - 17*y^2 + 15*y\n",
      "x is:  y\n",
      "9*y^3 - 17*y^2 + 15*y + 4\n"
     ]
    }
   ],
   "source": [
    "# let us keep all operations to be in Z[x]\n",
    "# parent() give info about parent class of object\n",
    "# when you do not know which is correct (x^n+1) or (y^n+1), you may generate x as f.parent()([0,1])\n",
    "Zx.<x> = PolynomialRing(ZZ)\n",
    "Qy.<y> = PolynomialRing(QQ)\n",
    "def mulmod(f,g,n):    \n",
    "    print(\"f class: \", f.parent())\n",
    "    print(\"f * g =\", f * g)\n",
    "    print(\"x is: \", f.parent()([0,1]))\n",
    "    return (f*g) % (f.parent()([0,1])^n+1) # same as # return (f*g) % (x^n+1), just no hard binding to 'x' or 'y'\n",
    "print(mulmod(x^6+x-3, x^2-5*x+3*x^2, 4))\n",
    "print(mulmod(y^6+y-3, y^2-5*y+3*y^2, 4))"
   ]
  },
  {
   "cell_type": "code",
   "execution_count": 27,
   "metadata": {
    "collapsed": false
   },
   "outputs": [
    {
     "name": "stdout",
     "output_type": "stream",
     "text": [
      "g(x) = x^3 + 15*x + 2\n"
     ]
    }
   ],
   "source": [
    "# casting polynomials\n",
    "Zq.<z> = PolynomialRing(Integers(17))\n",
    "ZQphi.<Z> = Zq.quotient(z^8+1)\n",
    "f = Z^3+15*Z+2\n",
    "g = lift(f).change_ring(ZZ).subs(z=x)\n",
    "print(\"g(x) =\", g)"
   ]
  },
  {
   "cell_type": "code",
   "execution_count": 23,
   "metadata": {
    "collapsed": false
   },
   "outputs": [
    {
     "name": "stdout",
     "output_type": "stream",
     "text": [
      "[(14, 1), (12, 1), (11, 1), (10, 1), (7, 1), (6, 1), (5, 1), (3, 1)]\n",
      "0\n"
     ]
    }
   ],
   "source": [
    "# roots of polynomial over Z/7Z\n",
    "Zx.<x>=PolynomialRing(ZZ)\n",
    "print((x^8+1).roots(Integers(17)))\n",
    "print((x^8+1).subs(14) % 17)"
   ]
  },
  {
   "cell_type": "code",
   "execution_count": null,
   "metadata": {
    "collapsed": false
   },
   "outputs": [],
   "source": []
  }
 ],
 "metadata": {
  "kernelspec": {
   "display_name": "SageMath 9.0",
   "language": "sage",
   "name": "sagemath",
   "resource_dir": "/ext/jupyter/kernels/sage-9.4"
  },
  "language_info": {
   "codemirror_mode": {
    "name": "ipython",
    "version": 3
   },
   "file_extension": ".py",
   "mimetype": "text/x-python",
   "name": "sage",
   "nbconvert_exporter": "python",
   "pygments_lexer": "ipython3",
   "version": "3.8.10"
  }
 },
 "nbformat": 4,
 "nbformat_minor": 4
}
