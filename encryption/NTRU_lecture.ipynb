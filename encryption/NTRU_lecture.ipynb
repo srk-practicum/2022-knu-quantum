{
 "cells": [
  {
   "cell_type": "code",
   "execution_count": 150,
   "metadata": {},
   "outputs": [],
   "source": [
    "from sage.all import *\n",
    "import sys\n",
    "import math\n",
    "\n",
    "N = 7\n",
    "p = 3\n",
    "q = 41\n",
    "d = 2\n",
    "Zx.<x> = ZZ[]\n",
    "f = -1 + x^2 + x^3 - x^4 + x^6\n",
    "g = -x - x^2 + x^4 + x^6\n",
    "m = 1 - x + x^2 + x^3 - x^5"
   ]
  },
  {
   "cell_type": "code",
   "execution_count": 158,
   "metadata": {},
   "outputs": [],
   "source": [
    "def balancedmod(f,q):\n",
    "    g = list(((f[i] + q//2) % q) - q//2 for i in range(N))\n",
    "    return Zx(g)\n",
    "def multiply(f,g):\n",
    "    return (f * g) % (x^N-1)\n",
    "def invertmodprime(f,p):\n",
    "    T = Zx.change_ring(Integers(p)).quotient(x^N-1)\n",
    "    return Zx(lift(1 / T(f))) \n",
    "\n",
    "def encrypt(message, public_key):   \n",
    "    r=-1 + x - x^5 + x^6\n",
    "    return balancedmod(p*multiply(public_key,r) + message,q)\n",
    "def decrypt(encrypted_message, secret_key):   \n",
    "    f,f_p = secret_key\n",
    "    a = balancedmod(multiply(encrypted_message,f),q)\n",
    "    return balancedmod(multiply(a,f_p),p)"
   ]
  },
  {
   "cell_type": "code",
   "execution_count": 166,
   "metadata": {},
   "outputs": [
    {
     "name": "stdout",
     "output_type": "stream",
     "text": [
      "f_p =  x^6 + 2*x^5 + x^3 + x^2 + x + 1\n",
      "f_q =  8*x^6 + 26*x^5 + 31*x^4 + 21*x^3 + 40*x^2 + 2*x + 37\n",
      "h =  20*x^6 + 40*x^5 + 2*x^4 + 38*x^3 + 8*x^2 + 26*x + 30\n",
      "m =  -x^5 + x^3 + x^2 - x + 1\n",
      "e =  31*x^6 + 19*x^5 + 4*x^4 + 2*x^3 + 40*x^2 + 3*x + 25\n",
      "a =  x^6 + 10*x^5 + 33*x^4 + 40*x^3 + 40*x^2 + x + 40\n",
      "-x^5 + x^3 + x^2 - x + 1\n"
     ]
    }
   ],
   "source": [
    "print(\"f_p = \", invertmodprime(f,p))\n",
    "print(\"f_q = \", invertmodprime(f,q))\n",
    "print(\"h = \", multiply(invertmodprime(f,q),g).change_ring(Integers(q)))\n",
    "print(\"m = \",m)\n",
    "print(\"e = \",encrypt(m, multiply(invertmodprime(f,q),g)).change_ring(Integers(q)))\n",
    "print(\"a = \",multiply(f,encrypt(m, multiply(invertmodprime(f,q),g)).change_ring(Integers(q))))\n",
    "secret_key=f,invertmodprime(f,p)\n",
    "print(decrypt(encrypt(m, multiply(invertmodprime(f,q),g)), secret_key))"
   ]
  },
  {
   "cell_type": "code",
   "execution_count": null,
   "metadata": {},
   "outputs": [],
   "source": []
  }
 ],
 "metadata": {
  "kernelspec": {
   "display_name": "SageMath 9.4",
   "language": "sage",
   "name": "sagemath-9.4"
  },
  "language_info": {
   "codemirror_mode": {
    "name": "ipython",
    "version": 3
   },
   "file_extension": ".py",
   "mimetype": "text/x-python",
   "name": "python",
   "nbconvert_exporter": "python",
   "pygments_lexer": "ipython3",
   "version": "3.9.5"
  }
 },
 "nbformat": 4,
 "nbformat_minor": 4
}
