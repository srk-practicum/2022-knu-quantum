{
 "cells": [
  {
   "cell_type": "code",
   "execution_count": 1,
   "metadata": {},
   "outputs": [],
   "source": [
    "#!/usr/bin/env sage -python\n",
    "\n",
    "from sage.all import *\n",
    "import sys\n",
    "import math\n",
    "import random"
   ]
  },
  {
   "cell_type": "code",
   "execution_count": 2,
   "metadata": {},
   "outputs": [],
   "source": [
    "# p = 3\n",
    "# q = 2^5 = 32\n",
    "N = 11\n",
    "d = 3   # this does not accomplish q > (6d + 1)*p, but who cares"
   ]
  },
  {
   "cell_type": "code",
   "execution_count": 3,
   "metadata": {},
   "outputs": [],
   "source": [
    "Zx.<x> = ZZ[]"
   ]
  },
  {
   "cell_type": "code",
   "execution_count": 4,
   "metadata": {},
   "outputs": [],
   "source": [
    "def mult(f, g):\n",
    "    return (f * g) % (x^N - 1)"
   ]
  },
  {
   "cell_type": "code",
   "execution_count": 5,
   "metadata": {},
   "outputs": [],
   "source": [
    "def modp(f, p):\n",
    "    Zp.<z> = PolynomialRing(Integers(p))\n",
    "    f1 = Zx(Zp(f))\n",
    "    return f1"
   ]
  },
  {
   "cell_type": "code",
   "execution_count": 6,
   "metadata": {},
   "outputs": [],
   "source": [
    "def inverse_mod_prime(f, p):\n",
    "    Zp.<z> = PolynomialRing(Integers(p))\n",
    "    ZPphi.<Z> = Zp.quotient(z^N - 1)\n",
    "    fp = Zx(lift(1 / ZPphi(f)))\n",
    "    return fp"
   ]
  },
  {
   "cell_type": "code",
   "execution_count": 7,
   "metadata": {},
   "outputs": [
    {
     "name": "stdout",
     "output_type": "stream",
     "text": [
      "2*x^10 + 4*x^8 + x^7 + 4*x^6 + 4*x^5 + 2*x^4 + 2*x^3 + 4*x^2 + 4*x + 4\n",
      "5*x^9 + 5*x^8 + 5*x^7 + 5*x^6 - 5*x^5 + 10*x^3 + 5*x^2 + 1\n",
      "1\n"
     ]
    }
   ],
   "source": [
    "def test_1():\n",
    "    # Wiki test\n",
    "    f = -1 + x + x^2 -x^4 + x^6+ x^9- x^10\n",
    "    p = 5\n",
    "    fp = inverse_mod_prime(f, p)\n",
    "    print(fp)\n",
    "    print(mult(fp, f))\n",
    "    Zp.<z> = PolynomialRing(Integers(p))\n",
    "    print(Zp(mult(fp, f)))\n",
    "\n",
    "test_1()"
   ]
  },
  {
   "cell_type": "code",
   "execution_count": 8,
   "metadata": {},
   "outputs": [],
   "source": [
    "def inverse_mod_power2(f, q):\n",
    "    t = 2\n",
    "    f1 = inverse_mod_prime(f, 2)\n",
    "    while True:\n",
    "        if t >= q:\n",
    "            Zq.<z> = PolynomialRing(Integers(q))\n",
    "            f1 = Zx(Zq(f1))\n",
    "            return f1\n",
    "        else:\n",
    "            t = t**2\n",
    "            f1 = mult(f1, (2 - mult(f, f1)))\n",
    "            f1 = modp(f1, t)"
   ]
  },
  {
   "cell_type": "code",
   "execution_count": 9,
   "metadata": {},
   "outputs": [
    {
     "name": "stdout",
     "output_type": "stream",
     "text": [
      "30*x^10 + 18*x^9 + 20*x^8 + 22*x^7 + 16*x^6 + 15*x^5 + 4*x^4 + 16*x^3 + 6*x^2 + 9*x + 5\n",
      "32*x^8 + 32*x^5 + 32*x^4 + 32*x + 33\n",
      "1\n"
     ]
    }
   ],
   "source": [
    "def test_2():\n",
    "    # Wiki test\n",
    "    f = -1 + x + x^2 -x^4 + x^6+ x^9- x^10\n",
    "    q = 32\n",
    "    fq = inverse_mod_power2(f, q)\n",
    "    print(fq)\n",
    "    print(mult(fq, f))\n",
    "    Zq.<z> = PolynomialRing(Integers(q))\n",
    "    print(Zq(mult(fq, f)))\n",
    "    \n",
    "    \n",
    "test_2()"
   ]
  },
  {
   "cell_type": "code",
   "execution_count": 10,
   "metadata": {},
   "outputs": [],
   "source": [
    "def balancedmod(f,p):\n",
    "    coef = []\n",
    "    for i in range(N):\n",
    "        new_coef = ((f[i] + p//2) % p) - p//2\n",
    "        if new_coef == -p//2:\n",
    "            new_coef = p//2\n",
    "        coef.append(new_coef)\n",
    "    \n",
    "    return Zx(coef)"
   ]
  },
  {
   "cell_type": "code",
   "execution_count": 11,
   "metadata": {},
   "outputs": [
    {
     "name": "stdout",
     "output_type": "stream",
     "text": [
      "-x^4 + x^3 - x + 1\n"
     ]
    }
   ],
   "source": [
    "def test_3():\n",
    "    f = 1 + 31*x + 32*x^2 + 33*x^3 - x^4\n",
    "    p = 32\n",
    "    f1 = balancedmod(f,p)\n",
    "    print(f1)\n",
    "    \n",
    "test_3()"
   ]
  },
  {
   "cell_type": "code",
   "execution_count": 12,
   "metadata": {},
   "outputs": [],
   "source": [
    "#---------------------------------------------------------------------#"
   ]
  },
  {
   "cell_type": "code",
   "execution_count": 24,
   "metadata": {},
   "outputs": [],
   "source": [
    "def random_gen(d1, d2):\n",
    "    # d1 is number of 1s, d2 is number of -1s among the coefficients\n",
    "    \n",
    "    lst = list(range(N))\n",
    "    nonzero = random.sample(lst, d1 + d2)\n",
    "    \n",
    "    f = 0\n",
    "    for i in range(d1):\n",
    "        f += x^(nonzero[i])\n",
    "    for i in range(d2):\n",
    "        f -= x^(nonzero[d1 + i])\n",
    "        \n",
    "    return f"
   ]
  },
  {
   "cell_type": "code",
   "execution_count": 26,
   "metadata": {},
   "outputs": [
    {
     "name": "stdout",
     "output_type": "stream",
     "text": [
      "x^8 + x^7 - x^6 - x^5 - x^3\n"
     ]
    }
   ],
   "source": [
    "def test_5():\n",
    "    print(random_gen(d1=2, d2=3))\n",
    "    \n",
    "test_5()"
   ]
  },
  {
   "cell_type": "code",
   "execution_count": 31,
   "metadata": {},
   "outputs": [],
   "source": [
    "def keys(p, q):\n",
    "    \n",
    "    f = random_gen(d + 1, d)\n",
    "    g = random_gen(d, d)\n",
    "    \n",
    "    # f = -1 + x + x^2 -x^4 + x^6+ x^9- x^10\n",
    "    # g = -1 + x^2 + x^3 + x^5 -x^8 -x^10\n",
    "    \n",
    "    try:\n",
    "        fp = inverse_mod_prime(f, p)\n",
    "        fq = inverse_mod_power2(f, q)\n",
    "        \n",
    "        h = mult((p * fq), g)\n",
    "        h = modp(h, q)\n",
    "        h = balancedmod(h,q)\n",
    "        \n",
    "        public_key = h\n",
    "        private_key = (f, fp)\n",
    "        \n",
    "        return public_key, private_key\n",
    "        \n",
    "    except ZeroDivisionError:\n",
    "        print(\"inverse doesn\\'t exist, try another f\")\n",
    "        return None\n"
   ]
  },
  {
   "cell_type": "code",
   "execution_count": 56,
   "metadata": {},
   "outputs": [
    {
     "name": "stdout",
     "output_type": "stream",
     "text": [
      "h = -15*x^10 - 8*x^9 + 10*x^8 + 9*x^7 + 11*x^6 + 13*x^5 + 12*x^4 + 14*x^3 + 7*x^2 - 11*x - 10\n",
      "f = -x^10 + x^8 - x^7 + x^5 + x^3 - x^2 + 1\n",
      "fp = 2*x^10 + 2*x^9 + 2*x^8 + x^6 + 2*x^5 + 2*x^4 + 2*x^3 + 2*x^2 + 2*x + 2\n",
      "(-x^10 + x^8 - x^7 + x^5 + x^3 - x^2 + 1, 2*x^10 + 2*x^9 + 2*x^8 + x^6 + 2*x^5 + 2*x^4 + 2*x^3 + 2*x^2 + 2*x + 2)\n"
     ]
    }
   ],
   "source": [
    "def test_6():\n",
    "    # Wiki test\n",
    "    # using hardcoded f, g in keys(p, q)\n",
    "    p, q = 3, 32\n",
    "    pub, priv = keys(p, q)\n",
    "    print(\"h =\", pub)\n",
    "    print(\"f =\", priv[0])\n",
    "    print(\"fp =\", priv[1])\n",
    "    print(priv)\n",
    "\n",
    "test_6()"
   ]
  },
  {
   "cell_type": "code",
   "execution_count": 57,
   "metadata": {},
   "outputs": [],
   "source": [
    "def encryption(m, public_key, p, q):\n",
    "    m = balancedmod(m,p)\n",
    "    \n",
    "    r = random_gen(d, d)\n",
    "    # r = -1 + x^2 + x^3 + x^4 - x^5 - x^7\n",
    "    \n",
    "    h = public_key\n",
    "    \n",
    "    e = mult(r, h) + m\n",
    "    e = modp(e, q)\n",
    "    \n",
    "    return e"
   ]
  },
  {
   "cell_type": "code",
   "execution_count": 63,
   "metadata": {},
   "outputs": [
    {
     "name": "stdout",
     "output_type": "stream",
     "text": [
      "6*x^10 + x^9 + 21*x^8 + 5*x^7 + 28*x^6 + 25*x^5 + 28*x^4 + 28*x^3 + 10*x^2 + 4*x + 4\n"
     ]
    }
   ],
   "source": [
    "def test_7():\n",
    "    # Wiki test\n",
    "    # using hardcoded r in encryption(m, public_key, p, q)\n",
    "    m = -1 + x^3 -x^4 -x^8 + x^9 +x^10\n",
    "    pub = 16*x^10 - 13*x^9 + 12*x^8 - 13*x^7 + 15*x^6 - 8*x^5 + 12*x^4 - 12*x^3 - 10*x^2 - 7*x + 8\n",
    "    p, q = 3, 32\n",
    "    print(encryption(m, pub, p, q))\n",
    "\n",
    "test_7()"
   ]
  },
  {
   "cell_type": "code",
   "execution_count": 64,
   "metadata": {},
   "outputs": [],
   "source": [
    "def decryption(e, private_key, p, q):\n",
    "    f, fp = private_key[0], private_key[1]\n",
    "    \n",
    "    a = balancedmod(mult(f, e), q)\n",
    "    print(a)\n",
    "    b = balancedmod(a, p)\n",
    "    print(b)\n",
    "    c = balancedmod(mult(b, fp), p)\n",
    "    return c\n",
    "    "
   ]
  },
  {
   "cell_type": "code",
   "execution_count": 66,
   "metadata": {},
   "outputs": [
    {
     "name": "stdout",
     "output_type": "stream",
     "text": [
      "-7*x^10 - 3*x^9 + 5*x^8 + 7*x^7 + 6*x^6 + 7*x^5 + 10*x^4 - 11*x^3 - 10*x^2 - 7*x + 3\n",
      "-x^10 - x^8 + x^7 + x^5 + x^4 + x^3 - x^2 - x\n",
      "m = x^10 + x^9 - x^8 - x^4 + x^3 - 1\n"
     ]
    }
   ],
   "source": [
    "def test_8():\n",
    "    e = 19*x^10 + 6*x^9 + 25*x^8 + 7*x^7 + 30*x^6 + 16*x^5 + 14*x^4 + 24*x^3 + 26*x^2 + 11*x + 14\n",
    "    f = -x^10 + x^9 + x^6 - x^4 + x^2 + x - 1\n",
    "    fp = 2*x^9 + x^8 + 2*x^7 + x^5 + 2*x^4 + 2*x^3 + 2*x + 1\n",
    "    private_key = [f, fp]\n",
    "    p, q = 3, 32\n",
    "    print(\"m =\", decryption(e, private_key, p, q))\n",
    "\n",
    "test_8()"
   ]
  },
  {
   "cell_type": "code",
   "execution_count": 84,
   "metadata": {},
   "outputs": [
    {
     "name": "stdout",
     "output_type": "stream",
     "text": [
      "m = x^10 + x^9 - x^8 - x^5 + x^4 - x^2 + x\n",
      "e = 6*x^10 + 12*x^8 + 8*x^7 + 20*x^6 + 10*x^5 + 22*x^4 + 18*x^3 + 19*x^2 + 17*x + 29\n",
      "3*x^10 + 5*x^9 + 3*x^8 + 6*x^7 - 2*x^6 + 7*x^5 - 4*x^4 - 9*x^3 - x^2 - 7*x\n",
      "-x^9 + x^6 + x^5 - x^4 - x^2 - x\n",
      "c = x^10 + x^9 - x^8 - x^5 + x^4 - x^2 + x\n",
      "m == c is True\n"
     ]
    }
   ],
   "source": [
    "def test_global():\n",
    "    p, q = 3, 32\n",
    "    m = random_gen(4, 3)\n",
    "    print(\"m =\", m)\n",
    "    \n",
    "    while True:\n",
    "        try:\n",
    "            pub, priv = keys(p, q)\n",
    "            break\n",
    "        except TypeError:\n",
    "            continue\n",
    "    \n",
    "    e = encryption(m, pub, p, q)\n",
    "    print(\"e =\", e)\n",
    "    c = decryption(e, priv, p, q)\n",
    "    print(\"c =\", c)\n",
    "    print(\"m == c is\", m==c)\n",
    "\n",
    "test_global()"
   ]
  },
  {
   "cell_type": "code",
   "execution_count": null,
   "metadata": {},
   "outputs": [],
   "source": []
  }
 ],
 "metadata": {
  "kernelspec": {
   "display_name": "SageMath 9.3",
   "language": "sage",
   "name": "sagemath"
  },
  "language_info": {
   "codemirror_mode": {
    "name": "ipython",
    "version": 3
   },
   "file_extension": ".py",
   "mimetype": "text/x-python",
   "name": "python",
   "nbconvert_exporter": "python",
   "pygments_lexer": "ipython3",
   "version": "3.7.10"
  }
 },
 "nbformat": 4,
 "nbformat_minor": 4
}
