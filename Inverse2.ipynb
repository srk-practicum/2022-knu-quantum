{
 "cells": [
  {
   "cell_type": "code",
   "execution_count": 2,
   "metadata": {},
   "outputs": [],
   "source": [
    "N = 11\n",
    "p = 3\n",
    "Zx.<x> = PolynomialRing(ZZ)\n",
    "Zphi.<X> = Zx.quotient(x^N-1)\n",
    "Zq.<z> = PolynomialRing(Integers(p))\n",
    "ZQphi.<Z> = Zq.quotient(z^N-1)\n"
   ]
  },
  {
   "cell_type": "code",
   "execution_count": 3,
   "metadata": {},
   "outputs": [],
   "source": [
    "def find_degree(coefs_list):\n",
    "    for i in range(len(coefs_list)-1, -1, -1):\n",
    "        if coefs_list[i] != 0:\n",
    "            return i"
   ]
  },
  {
   "cell_type": "code",
   "execution_count": 4,
   "metadata": {},
   "outputs": [],
   "source": [
    "def is_invertable(a,g = z^N-1 ):\n",
    "    if a.gcd(g) != 1:\n",
    "        return False\n",
    "    return True"
   ]
  },
  {
   "cell_type": "code",
   "execution_count": 20,
   "metadata": {},
   "outputs": [],
   "source": [
    "def invert_Z3(a):\n",
    "    g = z^N-1\n",
    "    if is_invertable(a,g):\n",
    "        k = 0\n",
    "        b = 1*z^0\n",
    "        c = 0*z^0\n",
    "        f = a \n",
    "\n",
    "\n",
    "        while True:\n",
    "            while list(f)[0] == 0:\n",
    "                f = f / Z\n",
    "                c = c * Z\n",
    "                k += 1\n",
    "            if f == 1*Z^0 or f == -1*Z^0:\n",
    "                return Z^(N-k) * b * f\n",
    "\n",
    "            if find_degree(list(f)) < find_degree(list(g)):\n",
    "                f, g = g, f\n",
    "                b, c = c, b\n",
    "\n",
    "            if list(f)[0] == list(g)[0]:\n",
    "                f = f - g\n",
    "                b = b - c\n",
    "            else:\n",
    "                f = f + g\n",
    "                b = b + c\n",
    "    else:\n",
    "        print(a,\"is not invertable\")\n",
    "        return 0*Z^0"
   ]
  },
  {
   "cell_type": "code",
   "execution_count": 21,
   "metadata": {},
   "outputs": [],
   "source": [
    "def test_2():\n",
    "    print(\"test 1\")\n",
    "    count = 0\n",
    "    a = Z^5 + Z^2 + Z + 1\n",
    "    aa = a.lift()\n",
    "    print(a)\n",
    "    ans = invert_Z3(aa)\n",
    "    print(ans)\n",
    "    if aa*ans == 1*Z^0:\n",
    "        count += 1\n",
    "    print(\"***********\")\n",
    "\n",
    "    print(\"test 2\")\n",
    "    a = Z^7 + Z^6 + Z^3 + 1\n",
    "    aa = a.lift()\n",
    "    print(a)\n",
    "    ans = invert_Z3(aa)\n",
    "    print(ans)\n",
    "    if aa*ans == 1*Z^0:\n",
    "        count += 1\n",
    "    print(\"***********\")\n",
    "    \n",
    "    print(\"test 3\")\n",
    "    a = Z^7 + Z^4 + Z^3 + Z^2 + 1\n",
    "    aa = a.lift()\n",
    "    print(a)\n",
    "    ans = invert_Z3(aa)\n",
    "    print(ans)\n",
    "    if aa*ans == 1*Z^0:\n",
    "        count += 1\n",
    "    print(\"***********\")\n",
    "\n",
    "    print(\"test 4\")\n",
    "    a = Z^4 + Z^2 + Z^1 + 1\n",
    "    aa = a.lift()\n",
    "    print(a)\n",
    "    ans = invert_Z3(aa)\n",
    "    print(ans)\n",
    "    if aa*ans == 1*Z^0:\n",
    "        count += 1\n",
    "    print(\"***********\")\n",
    "    if count == 4:\n",
    "        print(\"SUCCESS\")\n",
    "    else:\n",
    "        print(\"FAIL\")"
   ]
  },
  {
   "cell_type": "code",
   "execution_count": 22,
   "metadata": {},
   "outputs": [
    {
     "name": "stdout",
     "output_type": "stream",
     "text": [
      "test 1\n",
      "Z^5 + Z^2 + Z + 1\n",
      "Z^10 + Z^9 + 2*Z^8 + Z^7 + 2*Z^5 + 2*Z^4 + 2*Z + 2\n",
      "***********\n",
      "test 2\n",
      "Z^7 + Z^6 + Z^3 + 1\n",
      "Z^10 + 2*Z^9 + 2*Z^8 + Z^7 + 2*Z^6 + Z^5 + Z^4 + 2*Z^2 + Z\n",
      "***********\n",
      "test 3\n",
      "Z^7 + Z^4 + Z^3 + Z^2 + 1\n",
      "2*Z^10 + Z^9 + 2*Z^8 + 2*Z^3 + 2*Z^2 + Z + 1\n",
      "***********\n",
      "test 4\n",
      "Z^4 + Z^2 + Z + 1\n",
      "Z^10 + 2*Z^9 + Z^8 + Z^7 + 2*Z^6 + 2*Z^5 + 2*Z^4 + Z^3 + Z\n",
      "***********\n",
      "SUCCESS\n"
     ]
    }
   ],
   "source": [
    "test_2()"
   ]
  },
  {
   "cell_type": "code",
   "execution_count": 23,
   "metadata": {},
   "outputs": [
    {
     "data": {
      "text/plain": [
       "1"
      ]
     },
     "execution_count": 23,
     "metadata": {},
     "output_type": "execute_result"
    }
   ],
   "source": [
    "a = -1+X+X^2-X^4+X^6+X^9-X^10\n",
    "a = lift(a).subs(x=z)\n",
    "ans = invert_Z3(a)\n",
    "ans * a"
   ]
  },
  {
   "cell_type": "code",
   "execution_count": null,
   "metadata": {},
   "outputs": [],
   "source": []
  }
 ],
 "metadata": {
  "kernelspec": {
   "display_name": "SageMath 9.3",
   "language": "sage",
   "name": "sagemath"
  },
  "language_info": {
   "codemirror_mode": {
    "name": "ipython",
    "version": 3
   },
   "file_extension": ".py",
   "mimetype": "text/x-python",
   "name": "python",
   "nbconvert_exporter": "python",
   "pygments_lexer": "ipython3",
   "version": "3.7.10"
  }
 },
 "nbformat": 4,
 "nbformat_minor": 4
}
