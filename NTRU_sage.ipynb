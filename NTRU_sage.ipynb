{
 "cells": [
  {
   "cell_type": "code",
   "execution_count": 1,
   "metadata": {},
   "outputs": [],
   "source": [
    "#!/usr/bin/env sage -python\n",
    "\n",
    "from sage.all import *\n",
    "import sys\n",
    "import math"
   ]
  },
  {
   "cell_type": "code",
   "execution_count": 2,
   "metadata": {},
   "outputs": [],
   "source": [
    "p = 3\n",
    "q = 2^5\n",
    "N = 11"
   ]
  },
  {
   "cell_type": "code",
   "execution_count": 3,
   "metadata": {},
   "outputs": [],
   "source": [
    "Zx.<x> = ZZ[]"
   ]
  },
  {
   "cell_type": "code",
   "execution_count": 4,
   "metadata": {},
   "outputs": [],
   "source": [
    "def mult(f, g):\n",
    "    return (f * g) % (x^N - 1)"
   ]
  },
  {
   "cell_type": "code",
   "execution_count": 9,
   "metadata": {},
   "outputs": [],
   "source": [
    "def inverse_mod_prime(f, p):\n",
    "    Zp.<z> = PolynomialRing(Integers(p))\n",
    "    ZPphi.<Z> = Zp.quotient(z^N - 1)\n",
    "    fp = Zx(lift(1 / ZPphi(f)))\n",
    "    return fp"
   ]
  },
  {
   "cell_type": "code",
   "execution_count": 10,
   "metadata": {},
   "outputs": [
    {
     "name": "stdout",
     "output_type": "stream",
     "text": [
      "2*x^10 + 4*x^8 + x^7 + 4*x^6 + 4*x^5 + 2*x^4 + 2*x^3 + 4*x^2 + 4*x + 4\n",
      "5*x^9 + 5*x^8 + 5*x^7 + 5*x^6 - 5*x^5 + 10*x^3 + 5*x^2 + 1\n",
      "1\n"
     ]
    }
   ],
   "source": [
    "def test_1():\n",
    "    # Wiki test\n",
    "    f = -1 + x + x^2 -x^4 + x^6+ x^9- x^10\n",
    "    p = 5\n",
    "    fp = inverse_mod_prime(f, p)\n",
    "    print(fp)\n",
    "    print(mult(fp, f))\n",
    "    Zp.<z> = PolynomialRing(Integers(p))\n",
    "    print(Zp(mult(fp, f)))\n",
    "\n",
    "test_1()"
   ]
  },
  {
   "cell_type": "code",
   "execution_count": null,
   "metadata": {},
   "outputs": [],
   "source": [
    "def my_inverse_mod_prime(a, p):\n",
    "    # do I have to write it?\n",
    "    pass"
   ]
  },
  {
   "cell_type": "code",
   "execution_count": 22,
   "metadata": {},
   "outputs": [],
   "source": [
    "def inverse_mod_power2(f, q):\n",
    "    t = 2\n",
    "    f1 = inverse_mod_prime(f, 2)\n",
    "    while True:\n",
    "        if t >= q:\n",
    "            return f1\n",
    "        else:\n",
    "            t = t**2\n",
    "            f1 = mult(f1, (2 - mult(f, f1)))\n",
    "            Zt.<z> = PolynomialRing(Integers(t))\n",
    "            f1 = Zx(Zt(f1))"
   ]
  },
  {
   "cell_type": "code",
   "execution_count": 23,
   "metadata": {},
   "outputs": [
    {
     "name": "stdout",
     "output_type": "stream",
     "text": [
      "126*x^10 + 210*x^9 + 180*x^8 + 214*x^7 + 16*x^6 + 111*x^5 + 100*x^4 + 80*x^3 + 134*x^2 + 137*x + 229\n",
      "256*x^10 + 256*x^9 + 256*x^6 + 256*x^5 + 256*x^3 + 256*x^2 + 1\n",
      "1\n"
     ]
    }
   ],
   "source": [
    "def test_2():\n",
    "    # Wiki test\n",
    "    f = -1 + x + x^2 -x^4 + x^6+ x^9- x^10\n",
    "    q = 32\n",
    "    fq = inverse_mod_power2(f, q)\n",
    "    print(fq)\n",
    "    print(mult(fq, f))\n",
    "    Zq.<z> = PolynomialRing(Integers(q))\n",
    "    print(Zq(mult(fq, f)))\n",
    "    \n",
    "    \n",
    "test_2()"
   ]
  },
  {
   "cell_type": "code",
   "execution_count": 20,
   "metadata": {},
   "outputs": [],
   "source": [
    "def balancedmod(f,p):\n",
    "    return Zx([((f[i] + p//2) % p) - p//2 for i in range(N)])"
   ]
  },
  {
   "cell_type": "code",
   "execution_count": 21,
   "metadata": {},
   "outputs": [
    {
     "name": "stdout",
     "output_type": "stream",
     "text": [
      "-x^4 + x^3 - x + 1\n"
     ]
    }
   ],
   "source": [
    "def test_3():\n",
    "    f = 1 + 31*x + 32*x^2 + 33*x^3 - x^4\n",
    "    p = 32\n",
    "    f1 = balancedmod(f,p)\n",
    "    print(f1)\n",
    "    \n",
    "test_3()"
   ]
  },
  {
   "cell_type": "code",
   "execution_count": 24,
   "metadata": {},
   "outputs": [],
   "source": [
    "#---------------------------------------------------------------------#"
   ]
  },
  {
   "cell_type": "code",
   "execution_count": 27,
   "metadata": {},
   "outputs": [],
   "source": [
    "def random_part():\n",
    "    pass"
   ]
  },
  {
   "cell_type": "code",
   "execution_count": 35,
   "metadata": {},
   "outputs": [],
   "source": [
    "def test_5():\n",
    "    pass\n",
    "\n",
    "test_5()"
   ]
  },
  {
   "cell_type": "code",
   "execution_count": 30,
   "metadata": {},
   "outputs": [],
   "source": [
    "def keys(f, p, q):\n",
    "    pass"
   ]
  },
  {
   "cell_type": "code",
   "execution_count": 36,
   "metadata": {},
   "outputs": [],
   "source": [
    "def test_6():\n",
    "    pass\n",
    "\n",
    "test_6()"
   ]
  },
  {
   "cell_type": "code",
   "execution_count": 32,
   "metadata": {},
   "outputs": [],
   "source": [
    "def encryption():\n",
    "    pass"
   ]
  },
  {
   "cell_type": "code",
   "execution_count": 34,
   "metadata": {},
   "outputs": [],
   "source": [
    "def test_7():\n",
    "    pass\n",
    "\n",
    "test_7()"
   ]
  },
  {
   "cell_type": "code",
   "execution_count": 37,
   "metadata": {},
   "outputs": [],
   "source": [
    "def decryption():\n",
    "    pass"
   ]
  },
  {
   "cell_type": "code",
   "execution_count": 38,
   "metadata": {},
   "outputs": [],
   "source": [
    "def test_8():\n",
    "    pass\n",
    "\n",
    "test_8()"
   ]
  },
  {
   "cell_type": "code",
   "execution_count": 39,
   "metadata": {},
   "outputs": [],
   "source": [
    "def test_global():\n",
    "    pass\n",
    "\n",
    "test_global()"
   ]
  }
 ],
 "metadata": {
  "kernelspec": {
   "display_name": "SageMath 9.3",
   "language": "sage",
   "name": "sagemath"
  },
  "language_info": {
   "codemirror_mode": {
    "name": "ipython",
    "version": 3
   },
   "file_extension": ".py",
   "mimetype": "text/x-python",
   "name": "python",
   "nbconvert_exporter": "python",
   "pygments_lexer": "ipython3",
   "version": "3.7.10"
  }
 },
 "nbformat": 4,
 "nbformat_minor": 4
}
