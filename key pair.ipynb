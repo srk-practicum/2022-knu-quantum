{
 "cells": [
  {
   "cell_type": "code",
   "execution_count": 1,
   "metadata": {
    "collapsed": false
   },
   "outputs": [
   ],
   "source": [
    "Zx.<x> = ZZ[]\n",
    "def HermitianAdjointPoly(p, n):\n",
    "    f=[p[0]]\n",
    "    for i in range(1,n):    \n",
    "        f.append(-p[n-i])\n",
    "    return Zx(f) \n"
   ]
  },
  {
   "cell_type": "code",
   "execution_count": 2,
   "metadata": {
    "collapsed": false
   },
   "outputs": [
   ],
   "source": [
    "def CyclicRotate(input, n):\n",
    "    return input[(len(input)-n):]+input[:(len(input)-n)]"
   ]
  },
  {
   "cell_type": "code",
   "execution_count": 3,
   "metadata": {
    "collapsed": false
   },
   "outputs": [
    {
     "name": "stdout",
     "output_type": "stream",
     "text": [
      "[1, 2, 3, 4, 5, 0, 6]\n"
     ]
    }
   ],
   "source": [
    "def test_CyclicRotate():\n",
    "    inp = [1, 2, 3, 4, 5, 0, 6]\n",
    "    print(CyclicRotate(inp, 7))\n",
    "test_CyclicRotate()"
   ]
  },
  {
   "cell_type": "code",
   "execution_count": 4,
   "metadata": {
    "collapsed": false
   },
   "outputs": [
   ],
   "source": [
    "def PolyToCirculant(p,n):\n",
    "    M=[]\n",
    "    k=p.coefficients(sparse=False)\n",
    "    while len(k)!=n:\n",
    "        k.append(0)\n",
    "    for i in range(n):\n",
    "        m = CyclicRotate(k, i)\n",
    "        M.append(m)\n",
    "    return Matrix(M)"
   ]
  },
  {
   "cell_type": "code",
   "execution_count": 5,
   "metadata": {
    "collapsed": false
   },
   "outputs": [
    {
     "name": "stdout",
     "output_type": "stream",
     "text": [
      "[-10  18  24   0  -3  11   5   0]\n",
      "[  0 -10  18  24   0  -3  11   5]\n",
      "[  5   0 -10  18  24   0  -3  11]\n",
      "[ 11   5   0 -10  18  24   0  -3]\n",
      "[ -3  11   5   0 -10  18  24   0]\n",
      "[  0  -3  11   5   0 -10  18  24]\n",
      "[ 24   0  -3  11   5   0 -10  18]\n",
      "[ 18  24   0  -3  11   5   0 -10]\n"
     ]
    }
   ],
   "source": [
    "def test_PolyToCirculant():\n",
    "    p = -10 + 18*x + 24*x^2 - 3*x^4 + 11*x^5 + 5*x^6\n",
    "    print(PolyToCirculant(p, 8))\n",
    "    \n",
    "test_PolyToCirculant()"
   ]
  },
  {
   "cell_type": "code",
   "execution_count": 6,
   "metadata": {
    "collapsed": false
   },
   "outputs": [
   ],
   "source": [
    "def CirculantToPoly(M):\n",
    "    \n",
    "    return Zx(list(M[0]))"
   ]
  },
  {
   "cell_type": "code",
   "execution_count": 7,
   "metadata": {
    "collapsed": false
   },
   "outputs": [
    {
     "name": "stdout",
     "output_type": "stream",
     "text": [
      "7*x^7 + 5*x^6 + 11*x^5 - 3*x^4 - 4*x^3 + 24*x^2 + 18*x - 10\n"
     ]
    }
   ],
   "source": [
    "def test_CirculantToPoly():\n",
    "    p = -10 + 18*x + 24*x^2 - 4*x^3 - 3*x^4 + 11*x^5 + 5*x^6 + 7*x^7\n",
    "    print(CirculantToPoly(PolyToCirculant(p, 8)))\n",
    "test_CirculantToPoly()"
   ]
  },
  {
   "cell_type": "code",
   "execution_count": 8,
   "metadata": {
    "collapsed": false
   },
   "outputs": [
   ],
   "source": [
    "def PolyToLattice4(p00, p01, p10, p11, n):\n",
    "    M=[]\n",
    "    p=[p00.coefficients(sparse=False),p01.coefficients(sparse=False),p10.coefficients(sparse=False),p11.coefficients(sparse=False)]\n",
    "    for i in range(4):\n",
    "        while len(p[i])!=n:\n",
    "            p[i].append(0)\n",
    "    for i in range(n):\n",
    "        m1 = CyclicRotate(p[0], i)\n",
    "        m2 = CyclicRotate(p[1], i)\n",
    "        M.append(m1+m2)\n",
    "    for i in range(n):\n",
    "        m1 = CyclicRotate(p[2], i)\n",
    "        m2 = CyclicRotate(p[3], i)\n",
    "        M.append(m1+m2)\n",
    "    return Matrix(M)"
   ]
  },
  {
   "cell_type": "code",
   "execution_count": 9,
   "metadata": {
    "collapsed": false
   },
   "outputs": [
    {
     "name": "stdout",
     "output_type": "stream",
     "text": [
      "[-10  18  24  -4  -1   8   4   0]\n",
      "[ -4 -10  18  24   0  -1   8   4]\n",
      "[ 24  -4 -10  18   4   0  -1   8]\n",
      "[ 18  24  -4 -10   8   4   0  -1]\n",
      "[  0  11 -34 -15  10   7   0  22]\n",
      "[-15   0  11 -34  22  10   7   0]\n",
      "[-34 -15   0  11   0  22  10   7]\n",
      "[ 11 -34 -15   0   7   0  22  10]\n"
     ]
    }
   ],
   "source": [
    "def test_PolyToLattice4():\n",
    "    p00 = -10 + 18*x + 24*x^2 - 4*x^3\n",
    "    p01 = -1 + 8*x + 4*x^2 \n",
    "    p10 = 11*x - 34*x^2 - 15*x^3\n",
    "    p11 = 10 + 7*x + 22*x^3\n",
    "    print(PolyToLattice4(p00, p01, p10, p11, 4))\n",
    "test_PolyToLattice4()"
   ]
  },
  {
   "cell_type": "code",
   "execution_count": 11,
   "metadata": {
    "collapsed": false
   },
   "outputs": [
   ],
   "source": [
    "def LatticeToPoly4(M, n):\n",
    "    M=list(M)\n",
    "    for i in range(2*n):\n",
    "        M[i]=list(M[i])\n",
    "    p00=Zx(M[0][:n])\n",
    "    p01=Zx(M[0][n:])\n",
    "    p10=Zx(M[n][:n])\n",
    "    p11=Zx(M[n][n:])\n",
    "    return p00, p01, p10, p11"
   ]
  },
  {
   "cell_type": "code",
   "execution_count": 12,
   "metadata": {
    "collapsed": false
   },
   "outputs": [
    {
     "name": "stdout",
     "output_type": "stream",
     "text": [
      "(-4*x^3 + 24*x^2 + 18*x - 10, 14*x^3 + 4*x^2 + 8*x - 1, -15*x^3 - 34*x^2 - 11*x + 3, 22*x^3 + 3*x^2 + 7*x + 10)\n"
     ]
    }
   ],
   "source": [
    "def test_LatticeToPoly4():\n",
    "    p00 = -10 + 18*x + 24*x^2 - 4*x^3\n",
    "    p01 = -1 + 8*x + 4*x^2 + 14*x^3\n",
    "    p10 = 3 - 11*x - 34*x^2 - 15*x^3\n",
    "    p11 = 10 + 7*x + 3*x^2 + 22*x^3\n",
    "    print(LatticeToPoly4(PolyToLattice4(p00, p01, p10, p11, 4),4))\n",
    "test_LatticeToPoly4()"
   ]
  },
  {
   "cell_type": "code",
   "execution_count": 13,
   "metadata": {
    "collapsed": false
   },
   "outputs": [
   ],
   "source": [
    "def HermitianAdjointMatrix(M, n2):\n",
    "    M=list(M)\n",
    "    for i in range(n2):\n",
    "        M[i]=list(M[i])\n",
    "    a, c, b, d = LatticeToPoly4(M, n2/2)\n",
    "    a, c, b, d = HermitianAdjointPoly(a, n2/2), HermitianAdjointPoly(c, n2/2),HermitianAdjointPoly(b, n2/2),HermitianAdjointPoly(d, n2/2)\n",
    "    return PolyToLattice4( a, c, b, d, n2/2)"
   ]
  },
  {
   "cell_type": "code",
   "execution_count": 0,
   "metadata": {
    "collapsed": false
   },
   "outputs": [
   ],
   "source": [
    "def test_HermitianAdjointMatrix():\n",
    "    p00 = -10 + 18*x + 24*x^2 - 4*x^3\n",
    "    p01 = -1 + 8*x + 4*x^2 + 14*x^3\n",
    "    p10 = 3 - 11*x - 34*x^2 - 15*x^3\n",
    "    p11 = 10 + 7*x + 3*x^2 + 22*x^3\n",
    "    print(HermitianAdjointMatrix(PolyToLattice4(p00, p01, p10, p11, 4),8))\n",
    "test_HermitianAdjointMatrix()"
   ]
  }
 ],
 "metadata": {
  "kernelspec": {
   "display_name": "SageMath 9.4",
   "language": "sagemath",
   "metadata": {
    "cocalc": {
     "description": "Open-source mathematical software system",
     "priority": 10,
     "url": "https://www.sagemath.org/"
    }
   },
   "name": "sage-9.4",
   "resource_dir": "/ext/jupyter/kernels/sage-9.4"
  },
  "language_info": {
   "codemirror_mode": {
    "name": "ipython",
    "version": 3
   },
   "file_extension": ".py",
   "mimetype": "text/x-python",
   "name": "python",
   "nbconvert_exporter": "python",
   "pygments_lexer": "ipython3",
   "version": "3.9.5"
  }
 },
 "nbformat": 4,
 "nbformat_minor": 4
}