{
 "cells": [
  {
   "cell_type": "code",
   "execution_count": 26,
   "metadata": {
    "collapsed": false
   },
   "outputs": [
   ],
   "source": [
    "N = 11\n",
    "p = 3\n",
    "q = 2^5\n",
    "Zx.<x> = ZZ[]\n",
    "T = Zx.change_ring(Integers(p)).quotient(x^N-1)\n",
    "f = -1 + x + x^2 - x^4 + x^6 + x^9 - x^10\n",
    "g = -1 + x^2 + x^3 + x^5 - x^8 - x^10"
   ]
  },
  {
   "cell_type": "code",
   "execution_count": 2,
   "metadata": {
    "collapsed": false
   },
   "outputs": [
   ],
   "source": [
    "def balancedmod(f,q):\n",
    "    g = list(((f[i] + q//2) % q) - q//2 for i in range(N))\n",
    "    Zx.<x> = ZZ[]\n",
    "    return Zx(g)"
   ]
  },
  {
   "cell_type": "code",
   "execution_count": 3,
   "metadata": {
    "collapsed": false
   },
   "outputs": [
   ],
   "source": [
    "def convolution(f,g):\n",
    "    return (f * g) % (x^N-1)"
   ]
  },
  {
   "cell_type": "code",
   "execution_count": 4,
   "metadata": {
    "collapsed": false
   },
   "outputs": [
   ],
   "source": [
    "def findDegree(coefs_list):\n",
    "    len_ = len(coefs_list)\n",
    "    for i in range(len_ - 1, -1, -1):\n",
    "        if coefs_list[i] != 0:\n",
    "            return i\n",
    "\n",
    "def compareDegrees(coefs_list1, coefs_list2):\n",
    "    c1 = 0\n",
    "    c2 = 0\n",
    "    len1 = len(coefs_list1)\n",
    "    len2 = len(coefs_list2)\n",
    "    for i in range(len1 - 1, -1, -1):\n",
    "        if coefs_list1[i] != 0:\n",
    "            c1 = i\n",
    "            break\n",
    "    for i in range(len2 - 1, -1, -1):\n",
    "        if coefs_list2[i] != 0:\n",
    "            c2 = i\n",
    "            break\n",
    "    return c1 < c2"
   ]
  },
  {
   "cell_type": "code",
   "execution_count": 5,
   "metadata": {
    "collapsed": false
   },
   "outputs": [
   ],
   "source": [
    "def invertmodprime(f,p):\n",
    "    Zx.<x> = ZZ[]\n",
    "    Zq.<z> = PolynomialRing(Integers(p))\n",
    "    ZQphi.<Z> = Zq.quotient(z^N-1)\n",
    "    a = f % p\n",
    "    a = a.subs(x=z)\n",
    "    k = 0\n",
    "    b = 1*z^0\n",
    "    c = 0*z^0\n",
    "    f = a \n",
    "    g = z^N-1\n",
    "\n",
    "    if a.gcd(g) != 1:\n",
    "        raise Exception(\"inversion dosen't exist!\")      \n",
    "    while True:\n",
    "        while list(f)[0] == 0:\n",
    "            f /= Z\n",
    "            c *= Z\n",
    "            k += 1        \n",
    "        if findDegree(list(f)) == 0:\n",
    "            b = 1/list(f)[0] * b\n",
    "            res = Z^(N-k) * b\n",
    "            return Zx(res.lift())       \n",
    "        if compareDegrees(list(f), list(g)):\n",
    "            f, g = g, f\n",
    "            b, c = c, b       \n",
    "        u = list(f)[0] * (1/list(g)[0])\n",
    "        f -= u*g\n",
    "        b -= u*c"
   ]
  },
  {
   "cell_type": "code",
   "execution_count": 6,
   "metadata": {
    "collapsed": false
   },
   "outputs": [
   ],
   "source": [
    "def invertmodpowerof2(f, p):\n",
    "    deg = int(math.log(p, 2))\n",
    "    p = 2   \n",
    "    q = p\n",
    "    b = invertmodprime(f, p)\n",
    "    while q < p^deg:\n",
    "        q = q^2\n",
    "        b = b * (2 - f*b) % q % (x^N-1)        \n",
    "    b = b % p^deg % (x^N - 1)\n",
    "    return b"
   ]
  },
  {
   "cell_type": "code",
   "execution_count": 7,
   "metadata": {
    "collapsed": false
   },
   "outputs": [
   ],
   "source": [
    "def validate_params():\n",
    "    \n",
    "  \n",
    "    if q > p and gcd(p,q) == 1:\n",
    "        return True\n",
    "    return False"
   ]
  },
  {
   "cell_type": "code",
   "execution_count": 8,
   "metadata": {
    "collapsed": false
   },
   "outputs": [
   ],
   "source": [
    "def generate_polynomial(d1, d2, N):\n",
    "\n",
    "    result = [1]*d1 + [-1]*d2 + [0]*(N-d1-d2)\n",
    "    shuffle(result)\n",
    "\n",
    "    return Zx(result)"
   ]
  },
  {
   "cell_type": "code",
   "execution_count": 28,
   "metadata": {
    "collapsed": false
   },
   "outputs": [
   ],
   "source": [
    "m=-1+x^3-x^4-x^8+x^9+x^10"
   ]
  },
  {
   "cell_type": "code",
   "execution_count": 9,
   "metadata": {
    "collapsed": false
   },
   "outputs": [
   ],
   "source": [
    "def generate_keys(polynomial_1 = None, polynomial_2= None):\n",
    "    if validate_params():\n",
    "        while True:\n",
    "            try:\n",
    "                if polynomial_1 is None or polynomial_2 is None:   \n",
    "\n",
    "                    f = generate_polynomial(d+1, d)\n",
    "                    g = generate_polynomial(d, d)\n",
    "                else:\n",
    "                    f = polynomial_1\n",
    "                    g = polynomial_2\n",
    "\n",
    "                f_q = invertmodpowerof2(f,q)\n",
    "\n",
    "                f_p = invertmodprime(f,p)  \n",
    "                break\n",
    "\n",
    "            except:\n",
    "                pass \n",
    "\n",
    "        public_key = balancedmod(p * convolution(f_q,g),q)\n",
    "\n",
    "        secret_key = f,f_p\n",
    "        return public_key,secret_key\n",
    "\n",
    "    else:\n",
    "        print(\"\")"
   ]
  },
  {
   "cell_type": "code",
   "execution_count": 10,
   "metadata": {
    "collapsed": false
   },
   "outputs": [
   ],
   "source": [
    "public_key =-16*x^10-13*x^9+12*x^8-13*x^7+15*x^6-8*x^5+12*x^4-12*x^3 - 10*x^2 - 7*x + 8\n",
    "def encrypt(message, public_key, r):\n",
    "    return balancedmod(convolution(public_key,r) + message,q)"
   ]
  },
  {
   "cell_type": "code",
   "execution_count": 11,
   "metadata": {
    "collapsed": false
   },
   "outputs": [
   ],
   "source": [
    "e=encrypt(-1+x^3-x^4-x^8+x^9+x^10, public_key, -1+x^2+x^3+x^4-x^5-x^7).change_ring(Integers(q))"
   ]
  },
  {
   "cell_type": "code",
   "execution_count": 12,
   "metadata": {
    "collapsed": false
   },
   "outputs": [
    {
     "name": "stdout",
     "output_type": "stream",
     "text": [
      "19*x^10 + 6*x^9 + 25*x^8 + 7*x^7 + 30*x^6 + 16*x^5 + 14*x^4 + 24*x^3 + 26*x^2 + 11*x + 14\n"
     ]
    }
   ],
   "source": [
    "print(e)"
   ]
  },
  {
   "cell_type": "code",
   "execution_count": 38,
   "metadata": {
    "collapsed": false
   },
   "outputs": [
   ],
   "source": [
    "def decrypt(encrypted_message, secret_key):\n",
    "    f,f_p = secret_key\n",
    "\n",
    "    a = balancedmod(convolution(encrypted_message,f),q)\n",
    "\n",
    "    return balancedmod(convolution(a,f_p),p)"
   ]
  },
  {
   "cell_type": "code",
   "execution_count": 39,
   "metadata": {
    "collapsed": false
   },
   "outputs": [
   ],
   "source": [
    "encrypted_message=encrypt(-1+x^3-x^4-x^8+x^9+x^10,public_key,-1+x^2+x^3+x^4-x^5-x^7)\n",
    "a = convolution(encrypted_message,f)"
   ]
  },
  {
   "cell_type": "code",
   "execution_count": 18,
   "metadata": {
    "collapsed": false
   },
   "outputs": [
    {
     "name": "stdout",
     "output_type": "stream",
     "text": [
      "25*x^10 + 29*x^9 - 27*x^8 + 7*x^7 + 6*x^6 + 7*x^5 - 22*x^4 - 11*x^3 + 54*x^2 - 7*x - 61\n"
     ]
    }
   ],
   "source": [
    "#The next step is to find b which is $\\sage{balancedmod(a,p)}$"
   ]
  },
  {
   "cell_type": "code",
   "execution_count": 40,
   "metadata": {
    "collapsed": false
   },
   "outputs": [
   ],
   "source": [
    "c=decrypt(encrypted_message, (-x^10 + x^9 + x^6 - x^4 + x^2 + x - 1, 2*x^9 + x^8 + 2*x^7 + x^5 + 2*x^4 + 2*x^3 + 2*x + 1))"
   ]
  },
  {
   "cell_type": "code",
   "execution_count": 41,
   "metadata": {
    "collapsed": false
   },
   "outputs": [
    {
     "name": "stdout",
     "output_type": "stream",
     "text": [
      "x^10 + x^9 - x^8 - x^4 + x^3 - 1\n"
     ]
    }
   ],
   "source": [
    "#and we have the same messages\n",
    "print(c)"
   ]
  },
  {
   "cell_type": "code",
   "execution_count": 0,
   "metadata": {
    "collapsed": false
   },
   "outputs": [
   ],
   "source": [
   ]
  }
 ],
 "metadata": {
  "kernelspec": {
   "display_name": "SageMath 9.4",
   "language": "sagemath",
   "metadata": {
    "cocalc": {
     "description": "Open-source mathematical software system",
     "priority": 10,
     "url": "https://www.sagemath.org/"
    }
   },
   "name": "sage-9.4",
   "resource_dir": "/ext/jupyter/kernels/sage-9.4"
  },
  "language_info": {
   "codemirror_mode": {
    "name": "ipython",
    "version": 3
   },
   "file_extension": ".py",
   "mimetype": "text/x-python",
   "name": "python",
   "nbconvert_exporter": "python",
   "pygments_lexer": "ipython3",
   "version": "3.9.5"
  }
 },
 "nbformat": 4,
 "nbformat_minor": 4
}