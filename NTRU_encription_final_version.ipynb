{
 "cells": [
  {
   "cell_type": "code",
   "execution_count": 24,
   "metadata": {},
   "outputs": [],
   "source": [
    "# ----------------------------------------------- AUXILIARY OPERATIONS ----------------------------------------------- \n",
    "\n",
    "def validate_params(N, p, q, d):\n",
    "    \"\"\" check current ntru parameters\n",
    "    \"\"\"\n",
    "    assert N.is_prime(), \"N is not a prime\"\n",
    "    assert p.is_prime(), \"p is not a prime\"\n",
    "    assert q.is_power_of(2), \"q must be a power of two\"\n",
    "    assert q > p and gcd(p,q) == 1, \"q must be larger than p and the greatest common divider of p and q is 1\"\n",
    "    assert (2*d + 1) <= N\n",
    "    # assert q > (6*d + 1) * p, \"q must be more then (6*d + 1) * p\"\n",
    "        \n",
    "def find_degree(coefs_list):\n",
    "    \"\"\" returns the degree of polynomial using its coeficients list 'a'\n",
    "    \"\"\"\n",
    "    for i in range(len(coefs_list)-1, -1, -1):\n",
    "        if coefs_list[i] != 0:\n",
    "            return i\n",
    "\n",
    "def invertmodprime(f, p, N):\n",
    "    ''' calculates an inversion of a polynomial modulo x^N-1 and then modulo p\n",
    "        with assumption that p is prime.\n",
    "        returns a Zx polynomial h such as convolution of h ~ f = 1 (mod p)                \n",
    "        raises an exception if such Zx polynomial h doesn't exist'''\n",
    "\n",
    "    T = Zx.change_ring(Integers(p)).quotient(x^N-1) \n",
    "    return Zx(lift(1 / T(f)))                      \n",
    "\n",
    "def invertmodpowerof2(a, p, N):\n",
    "    \"\"\"\n",
    "    calculates an inversion of a polynomial modulo x^N-1 and then modulo p\n",
    "    \"\"\"\n",
    "    r = int(math.log(p, 2))\n",
    "    p = 2\n",
    "    \n",
    "    q = p\n",
    "    b = invertmodprime(a, p, N)\n",
    "\n",
    "    while q < p^r:\n",
    "        q = q^2\n",
    "        b = b * (2 - a*b) % q % (x^N-1)\n",
    "        \n",
    "    b = b % p^r % (x^N - 1)\n",
    "    return b   \n",
    "\n",
    "def balancedmod(f, q , N):\n",
    "    ''' reduces every coefficient of a Zx polynomial f modulo q\n",
    "        with additional balancing, so the result coefficients are integers in interval [-q/2, +q/2]\n",
    "        more specifically: for an odd q [-(q-1)/2, +(q-1)/2], for an even q [-q/2, +q/2-1]. \n",
    "        returns Zx reduced polynomial'''\n",
    "\n",
    "    g = list(((f[i] + q//2) % q) - q//2 for i in range(N))\n",
    "    return Zx(g)\n",
    "\n",
    "def convolution(f, g, N):\n",
    "    ''' performs a multiplication operation specific for NTRU, which works like a traditional polynomial multiplication\n",
    "        with additional reduction of the result by x^N-1 (x^n is replaced by 1, x^n-1 by x, x^n-2 by x^2, ...)\n",
    "        returns Zx polynomial'''\n",
    "    \n",
    "    return (f * g) % (x^N-1)\n",
    "\n",
    "# ----------------------------------------------- SETUP -----------------------------------------------\n",
    "\n",
    "def generate_polynomial(d1, d2, N):\n",
    "    ''' generates a random polynomial with d nonzero coefficients\n",
    "        returns Zx polynomial '''\n",
    "    \n",
    "    result = [1]*d1 + [-1]*d2 + [0]*(N-d1-d2)\n",
    "    shuffle(result)\n",
    "    \n",
    "    return Zx(result)\n",
    "\n",
    "def generate_keys(N, p, q, d, p1 = None, p2= None):\n",
    "    ''' generates a public and private key pair, based on provided parameters\n",
    "        returns Zx public key and a secret key as a tuple of Zx f (private key) and Zx F_p'''\n",
    "\n",
    "        #   some polynomials are not invertible and as f and g are calculated randomly,\n",
    "        #   it may be necessary to skip some invalid examples\n",
    "    while True:\n",
    "        try:\n",
    "            # generate 2 random polynomials f and g with number of nonzero coefficients < given number\n",
    "            f = p1 or generate_polynomial(d + 1, d, N)\n",
    "            g = p2 or generate_polynomial(d, d, N)\n",
    "\n",
    "            # formula: find f_q, where: f_q (*) f = 1 (mod q)\n",
    "            # assuming q is a power of 2                 \n",
    "            f_q = invertmodpowerof2(f, q, N)\n",
    "\n",
    "            # formula: find f_p, where: f_p (*) f = 1 (mod p) \n",
    "            # assuming p is a prime number \n",
    "            f_p = invertmodprime(f, p, N)\n",
    "            break\n",
    "\n",
    "        except:\n",
    "            pass\n",
    "\n",
    "    # formula: public key = F_q ~ g (mod q)\n",
    "    public_key = balancedmod(p * convolution(f_q, g, N), q, N)\n",
    "\n",
    "    # secret key is a tuple containing a private key (f) and variable f_p needed for decryption\n",
    "    secret_key = f, f_p\n",
    "\n",
    "    return public_key, secret_key\n",
    "    \n",
    "#---------------------------------- ENCRYPTION -----------------------------------------\n",
    "def generate_message(N, p, q, d):\n",
    "    ''' creates a polynomial from a random list of coefficients selected from a set {-1,0,1}  \n",
    "        returns Zx polynomial'''\n",
    "        \n",
    "    #randrange(3) - 1 gives results from a set of {-1,0,1}, which is necessary for a proper decryption\n",
    "    result = list(randrange(3) - 1 for j in range(N))\n",
    "    return Zx(result)\n",
    "\n",
    "def encrypt(message, public_key, N, p, q, d, r = None):\n",
    "    ''' performs encryption of a given message using a provided public key\n",
    "        returns Zx encrypted message'''\n",
    "\n",
    "    # generate random polynomial with number of nonzero coefficients < N for adding extra noise  \n",
    "    r = r or generate_polynomial(d, d-1, N)\n",
    "    \n",
    "    # formula: encrypted_message = p * r ~ public_key + message (mod q)\n",
    "    # while performing modulo operation, balance coefficients of encrypted_message \n",
    "    # for the integers in interval [-q/2, +q/2]\n",
    "    return balancedmod(convolution(public_key,r, N) + message,q, N)\n",
    "\n",
    "\n",
    "def decrypt(encrypted_message, secret_key, N, p, q, d):\n",
    "    ''' performs decryption of a given ciphertext using an own private key\n",
    "        \n",
    "        returns Zx decrypted message'''\n",
    "    \n",
    "    # private key - f; additional variable stored for decryption - f_p     \n",
    "    f,f_p = secret_key\n",
    "    \n",
    "    # formula: a = f ~ encrypted_message (mod q)\n",
    "    # balance coefficients of a for the integers in interval [-q/2, +q/2]\n",
    "    a = balancedmod(convolution(encrypted_message,f, N),q, N)\n",
    "     \n",
    "    # formula: F_p ~ a (mod p) with additional balancing as above\n",
    "    return balancedmod(convolution(a,f_p, N),p, N)\n"
   ]
  },
  {
   "cell_type": "code",
   "execution_count": 25,
   "metadata": {},
   "outputs": [],
   "source": [
    "from random import shuffle\n",
    "from math import log2\n",
    "\n",
    "Zx.<x> = ZZ[]\n",
    "\n",
    "def ntru_session(N, p, q, d, message = None, f = None, g = None, r = None):\n",
    "    \n",
    "    validate_params(N, p, q, d)\n",
    "    N, p, q, d = N, p, q, d\n",
    "    \n",
    "    print(\"N, p, q, d : \", N, p, q, d)\n",
    "    \n",
    "    if message is not None:\n",
    "        assert len(message.coefficients(sparse=False)) <= N, \"invalid message\"\n",
    "    if f is not None:\n",
    "        assert len(f.coefficients(sparse=False)) <= N, \"invalid f degree\"\n",
    "    if g is not None:\n",
    "        assert len(g.coefficients(sparse=False)) <= N, \"invalid g degree\"\n",
    "    if r is not None:\n",
    "        assert len(r.coefficients(sparse=False)) <= N, \"invalid r degree\"\n",
    "    \n",
    "    message = message or generate_message(N, p, q, d)\n",
    "    public_key, secret_key = generate_keys(N, p, q, d, f, g)\n",
    "    print(\"MESSAGE: \" + str(message))\n",
    "    encrypted_message = encrypt(message, public_key, N, p, q, d, r)\n",
    "    print(\"ENCRYPTION: \" + str(encrypted_message))\n",
    "    decrypted_message = decrypt(encrypted_message, secret_key, N, p, q, d)\n",
    "    print(\"DECRYPTION: \" + str(decrypted_message))\n",
    "    \n",
    "    if message == decrypted_message:\n",
    "        return True\n",
    "        print(\"SUCCESS\")\n",
    "    else:\n",
    "        return False\n",
    "        print(\"FAIL\")\n",
    "    \n",
    "    "
   ]
  },
  {
   "cell_type": "code",
   "execution_count": 26,
   "metadata": {},
   "outputs": [
    {
     "name": "stdout",
     "output_type": "stream",
     "text": [
      "TEST CASE: ntru data from wikipedia\n",
      "N, p, q, d :  11 3 32 3\n",
      "MESSAGE: x^10 + x^9 - x^8 - x^4 + x^3 - 1\n",
      "ENCRYPTION: -13*x^10 + 6*x^9 - 7*x^8 + 7*x^7 - 2*x^6 - 16*x^5 + 14*x^4 - 8*x^3 - 6*x^2 + 11*x + 14\n",
      "DECRYPTION: x^10 + x^9 - x^8 - x^4 + x^3 - 1\n",
      "TEST PASSED\n",
      "*******\n",
      "\n"
     ]
    }
   ],
   "source": [
    "def test_wikipedia():\n",
    "    print(f\"TEST CASE: ntru data from wikipedia\")\n",
    "    try:\n",
    "        f = -1+x+x^2-x^4+x^6+x^9-x^10\n",
    "        g = -1+x^2+x^3+x^5-x^8-x^10\n",
    "        r = -1+x^2+x^3+x^4-x^5-x^7\n",
    "        message = -1+x^3-x^4-x^8+x^9+x^10\n",
    "        res = ntru_session(11, 3, 32, 3, message, f, g, r)\n",
    "        if res:\n",
    "            print(\"TEST PASSED\")\n",
    "        else:\n",
    "            print(\"TEST FAILED\")\n",
    "    except:\n",
    "        print(\"TEST FAILED\")\n",
    "    finally: \n",
    "        print(\"*******\\n\")\n",
    "        \n",
    "test_wikipedia()"
   ]
  },
  {
   "cell_type": "code",
   "execution_count": 27,
   "metadata": {},
   "outputs": [
    {
     "name": "stdout",
     "output_type": "stream",
     "text": [
      "TEST CASE: test with small parameters and all are random\n",
      "N, p, q, d :  11 3 32 3\n",
      "MESSAGE: x^10 + x^6 - x^5 + x^4 - x^2 - 1\n",
      "ENCRYPTION: -15*x^10 + 9*x^9 + 4*x^8 + 10*x^7 + 15*x^6 - 12*x^5 - 2*x^4 + 14*x^3 - 3*x^2 + 6*x + 6\n",
      "DECRYPTION: x^10 + x^6 - x^5 + x^4 - x^2 - 1\n",
      "TEST PASSED\n",
      "*******\n",
      "\n"
     ]
    }
   ],
   "source": [
    "def test_small_parameters_all_random():\n",
    "    print(f\"TEST CASE: test with small parameters and all are random\")\n",
    "    try:\n",
    "        res = ntru_session(11, 3, 32, 3)\n",
    "        if res:\n",
    "            print(\"TEST PASSED\")\n",
    "        else:\n",
    "            print(\"TEST FAILED\")\n",
    "    except:\n",
    "        print(\"TEST FAILED\")\n",
    "    finally: \n",
    "        print(\"*******\\n\")\n",
    "        \n",
    "test_small_parameters_all_random()"
   ]
  },
  {
   "cell_type": "code",
   "execution_count": 28,
   "metadata": {},
   "outputs": [
    {
     "name": "stdout",
     "output_type": "stream",
     "text": [
      "TEST CASE: test with large parameters and all are random\n",
      "N, p, q, d :  701 3 8192 103\n",
      "MESSAGE: x^700 + x^699 - x^698 - x^695 + x^693 - x^692 + x^691 - x^690 + x^689 + x^688 - x^687 + x^686 + x^684 - x^683 - x^682 - x^681 - x^680 - x^678 + x^677 - x^675 - x^674 + x^673 + x^672 + x^670 - x^669 + x^667 - x^666 + x^665 - x^664 - x^662 - x^660 + x^659 - x^658 - x^657 + x^655 - x^653 + x^652 + x^651 + x^650 + x^646 - x^645 - x^644 - x^643 - x^642 - x^641 - x^640 + x^636 - x^633 + x^630 - x^629 + x^627 - x^626 - x^625 - x^624 + x^620 - x^619 - x^618 - x^617 - x^614 + x^613 - x^610 + x^605 + x^604 + x^603 - x^601 - x^600 - x^599 - x^598 + x^595 - x^594 + x^593 - x^592 - x^591 - x^589 + x^588 + x^586 - x^583 - x^581 + x^579 - x^578 - x^577 - x^576 + x^574 - x^573 - x^572 + x^571 - x^570 + x^569 + x^568 - x^566 + x^565 - x^563 + x^562 + x^561 + x^558 + x^555 - x^554 + x^551 + x^550 + x^549 - x^548 + x^546 - x^545 - x^540 + x^537 - x^536 + x^534 + x^533 - x^531 + x^526 - x^522 + x^521 - x^519 - x^518 - x^516 - x^515 + x^513 + x^512 - x^511 - x^509 + x^508 - x^506 + x^505 + x^503 - x^499 - x^498 + x^497 - x^496 - x^494 + x^492 - x^491 - x^487 + x^486 + x^484 - x^482 - x^480 + x^478 + x^477 - x^476 + x^474 + x^471 + x^469 - x^467 - x^463 - x^460 + x^459 - x^456 - x^453 + x^452 + x^450 + x^448 + x^445 + x^444 + x^443 + x^442 - x^441 - x^440 - x^439 + x^436 - x^435 - x^432 - x^429 - x^427 + x^426 - x^425 + x^424 - x^419 + x^417 + x^415 + x^414 - x^413 - x^412 + x^410 - x^409 + x^408 + x^405 - x^404 - x^403 + x^402 - x^401 + x^400 + x^399 + x^398 - x^397 - x^396 + x^395 - x^394 - x^393 + x^392 + x^391 + x^390 - x^388 - x^387 + x^386 + x^385 - x^384 + x^382 + x^381 + x^380 + x^376 - x^373 + x^372 + x^369 + x^368 + x^367 - x^365 - x^363 - x^361 - x^359 - x^358 + x^357 - x^356 - x^354 - x^353 + x^352 - x^351 - x^348 - x^347 - x^346 - x^345 - x^342 + x^340 - x^339 + x^337 - x^335 - x^331 + x^327 - x^326 + x^324 + x^323 + x^320 - x^319 + x^318 - x^317 + x^316 + x^315 + x^314 - x^312 - x^310 + x^308 + x^307 - x^306 - x^305 + x^304 + x^303 - x^300 + x^299 - x^298 - x^296 - x^295 + x^294 - x^293 - x^292 - x^288 - x^287 - x^283 + x^282 - x^280 - x^279 - x^277 - x^276 + x^275 + x^274 + x^273 + x^272 + x^271 + x^269 - x^266 - x^265 + x^264 - x^263 - x^262 + x^261 - x^260 - x^259 + x^257 - x^255 + x^254 - x^253 - x^252 + x^251 - x^249 - x^247 + x^246 - x^245 - x^244 - x^241 + x^240 + x^239 + x^238 + x^237 - x^236 - x^235 + x^234 - x^233 + x^232 - x^231 + x^230 - x^229 + x^228 - x^227 + x^226 - x^225 + x^224 - x^222 + x^221 + x^219 - x^218 - x^217 + x^216 + x^215 + x^214 + x^213 - x^211 - x^209 + x^208 + x^207 + x^206 + x^203 - x^202 + x^200 - x^199 + x^197 - x^195 + x^194 + x^193 + x^192 - x^191 + x^189 - x^188 + x^187 - x^186 - x^185 + x^184 + x^182 - x^181 + x^180 - x^178 - x^177 + x^175 - x^173 + x^171 + x^170 - x^169 + x^168 - x^166 - x^163 + x^161 - x^160 + x^159 - x^158 + x^157 + x^155 + x^152 - x^151 - x^150 - x^147 + x^146 + x^145 + x^144 + x^142 + x^139 - x^138 - x^137 - x^135 - x^133 + x^132 - x^131 + x^129 + x^128 - x^127 - x^125 - x^124 - x^123 + x^122 - x^121 + x^120 - x^118 + x^117 + x^116 + x^115 - x^114 + x^113 + x^112 - x^111 + x^110 + x^109 - x^108 + x^107 - x^104 - x^102 + x^99 + x^96 - x^94 - x^93 + x^92 - x^91 + x^89 + x^88 - x^87 - x^86 + x^85 + x^84 + x^83 - x^82 + x^81 + x^80 + x^79 - x^77 + x^74 + x^73 + x^71 + x^70 - x^69 + x^65 - x^64 + x^63 + x^62 + x^61 - x^58 + x^57 - x^56 - x^55 + x^53 - x^51 - x^49 - x^48 + x^46 - x^44 + x^43 - x^41 + x^39 - x^35 + x^34 - x^33 - x^32 + x^31 + x^29 - x^27 - x^26 - x^25 - x^22 - x^21 - x^20 - x^18 - x^16 - x^15 + x^14 + x^13 + x^12 - x^8 + x^5 + x^4 + x^3 - x^2 - x + 1\n",
      "ENCRYPTION: -2117*x^700 - 2586*x^699 - 2351*x^698 - 1665*x^697 + 1899*x^696 + 3010*x^695 - 2989*x^694 - 3276*x^693 + 553*x^692 + 3673*x^691 - 3761*x^690 + 457*x^689 - 2577*x^688 + 3202*x^687 + 108*x^686 + 3463*x^685 + 3651*x^684 + 1805*x^683 - 3713*x^682 - 1380*x^681 + 2358*x^680 + 1350*x^679 + 2771*x^678 - 1890*x^677 - 3902*x^676 - 1115*x^675 + 2336*x^674 - 2127*x^673 - 3865*x^672 + 1821*x^671 - 83*x^670 - 1250*x^669 + 502*x^668 + 4075*x^667 + 1730*x^666 - 200*x^665 + 1505*x^664 + 27*x^663 - 2875*x^662 - 2721*x^661 - 2819*x^660 - 3415*x^659 + 1715*x^658 + 3980*x^657 - 388*x^656 + 2339*x^655 + 1469*x^654 + 141*x^653 + 1295*x^652 - 3459*x^651 + 2855*x^650 - 3374*x^649 - 2656*x^648 - 448*x^647 - 3604*x^646 - 2402*x^645 + 1013*x^644 + 3338*x^643 + 2078*x^642 - 854*x^641 + 1337*x^640 + 1730*x^639 + 2762*x^638 - 262*x^637 + 3062*x^636 - 1957*x^635 - 2383*x^634 + 1663*x^633 + 1516*x^632 - 1449*x^631 - 3734*x^630 - 2498*x^629 - 2423*x^628 - 1639*x^627 - 760*x^626 + 670*x^625 + 2242*x^624 - 546*x^623 - 3715*x^622 - 1801*x^621 - 1272*x^620 + 1469*x^619 - 3440*x^618 + 3911*x^617 - 3751*x^616 - 1534*x^615 - 549*x^614 - 27*x^613 - 487*x^612 - 3519*x^611 + 2768*x^610 + 211*x^609 + 1726*x^608 + 2501*x^607 + 2962*x^606 - 849*x^605 + 1772*x^604 + 3747*x^603 + 3504*x^602 + 1745*x^601 - 747*x^600 + 801*x^599 + 239*x^598 + 2400*x^597 + 3916*x^596 - 3087*x^595 + 3730*x^594 + 3223*x^593 - 1307*x^592 + 2310*x^591 - 2511*x^590 + 687*x^589 + 1757*x^588 - 3809*x^587 + 50*x^586 - 2404*x^585 - 3109*x^584 - 2884*x^583 - 2720*x^582 + 1769*x^581 - 3788*x^580 + 2456*x^579 + 3155*x^578 + 1734*x^577 + 2324*x^576 + 506*x^575 + 3252*x^574 - 423*x^573 - 3050*x^572 + 2363*x^571 - 250*x^570 + 483*x^569 + 2918*x^568 - 2263*x^567 + 1673*x^566 - 1426*x^565 - 165*x^564 + 4035*x^563 - 2509*x^562 + 1459*x^561 - 1886*x^560 - 2360*x^559 + 421*x^558 + 533*x^557 - 918*x^556 + 1896*x^555 + 2731*x^554 - 637*x^553 - 2687*x^552 - 762*x^551 - 3466*x^550 + 2005*x^549 + 1393*x^548 + 520*x^547 - 82*x^546 + 2045*x^545 - 4068*x^544 - 3349*x^543 - 2843*x^542 + 2541*x^541 - 1583*x^540 + 640*x^539 + 4039*x^538 - 3162*x^537 - 3406*x^536 + 751*x^535 + 1874*x^534 - 2073*x^533 + 534*x^532 - 2755*x^531 + 2932*x^530 + 3963*x^529 - 965*x^528 - 3000*x^527 - 631*x^526 - 3133*x^525 + 2245*x^524 - 1136*x^523 - 2560*x^522 - 1444*x^521 - 3712*x^520 - 3210*x^519 + 2049*x^518 - 3832*x^517 - 1704*x^516 - 3086*x^515 + 2312*x^514 + 2257*x^513 - 2088*x^512 + 3625*x^511 - 1332*x^510 - 3714*x^509 + 2963*x^508 - 1022*x^507 + 4*x^506 + 1902*x^505 + 3531*x^504 - 2088*x^503 + 644*x^502 + 1383*x^501 - 759*x^500 - 1900*x^499 + 1274*x^498 - 759*x^497 + 3128*x^496 + 3648*x^495 + 195*x^494 - 2818*x^493 + 2650*x^492 - 2842*x^491 + 2128*x^490 - 3256*x^489 + 780*x^488 - 533*x^487 + 3689*x^486 + 3997*x^485 + 3384*x^484 - 3956*x^483 - 1723*x^482 - 490*x^481 - 3573*x^480 - 140*x^479 - 1835*x^478 + 289*x^477 + 344*x^476 - 3195*x^475 + 1754*x^474 - 2333*x^473 - 1404*x^472 + 1791*x^471 - 964*x^470 + 35*x^469 + 1935*x^468 + 3649*x^467 + 3667*x^466 + 1178*x^465 + 1270*x^464 + 3805*x^463 + 3221*x^462 + 1347*x^461 + 2960*x^460 - 2123*x^459 - 1260*x^458 - 67*x^457 - 779*x^456 + 2844*x^455 + 676*x^454 + 1012*x^453 + 1660*x^452 - 3688*x^451 - 3276*x^450 - 459*x^449 + 626*x^448 + 478*x^447 + 2486*x^446 - 1371*x^445 + 2315*x^444 + 995*x^443 - 1132*x^442 + 3972*x^441 + 1584*x^440 - 181*x^439 - 3915*x^438 + 3815*x^437 - 2959*x^436 + 1202*x^435 + 1544*x^434 + 1095*x^433 + 3405*x^432 + 2864*x^431 - 576*x^430 + 52*x^429 - 2468*x^428 - 1748*x^427 - 2828*x^426 + 446*x^425 - 228*x^424 + 2519*x^423 + 3901*x^422 - 177*x^421 + 1504*x^420 - 918*x^419 - 2041*x^418 - 2007*x^417 - 3091*x^416 + 20*x^415 - 877*x^414 + 3041*x^413 + 1073*x^412 - 1939*x^411 - 2831*x^410 - 1980*x^409 - 3736*x^408 + 3110*x^407 - 923*x^406 - 1894*x^405 - 176*x^404 - 1587*x^403 - 3598*x^402 - 2608*x^401 + 3495*x^400 + 354*x^399 - 3175*x^398 - 3719*x^397 + 157*x^396 + 677*x^395 - 2470*x^394 + 1176*x^393 + 3811*x^392 - 4071*x^391 + 263*x^390 - 318*x^389 - 3720*x^388 + 2902*x^387 + 2501*x^386 - 2046*x^385 + 3765*x^384 - 3263*x^383 + 3892*x^382 - 2930*x^381 - 2404*x^380 - 2190*x^379 - 1053*x^378 - 1300*x^377 + 3192*x^376 - 591*x^375 + 3364*x^374 - 1038*x^373 + 3922*x^372 - 1098*x^371 + 133*x^370 + 1298*x^369 + 3472*x^368 + 3732*x^367 + 1793*x^366 - 2303*x^365 - 238*x^364 - 4064*x^363 - 715*x^362 - 1042*x^361 - 1960*x^360 - 918*x^359 - 830*x^358 + 266*x^357 - 760*x^356 - 1740*x^355 - 4042*x^354 + 638*x^353 - 4*x^352 - 2252*x^351 - 3429*x^350 - 1346*x^349 - 490*x^348 - 265*x^347 + 855*x^346 - 724*x^345 + 191*x^344 + 2413*x^343 + 2822*x^342 - 3159*x^341 + 1271*x^340 - 1488*x^339 + 3794*x^338 - 3895*x^337 + 1581*x^336 - 3649*x^335 + 3441*x^334 - 1557*x^333 - 3962*x^332 - 457*x^331 + 739*x^330 + 1225*x^329 + 3962*x^328 + 3858*x^327 - 1357*x^326 - 1614*x^325 + 3340*x^324 + 1925*x^323 - 2898*x^322 - 1640*x^321 + 2824*x^320 + 450*x^319 + 2273*x^318 + 2999*x^317 + 3206*x^316 + 4052*x^315 - 1322*x^314 + 567*x^313 - 2767*x^312 - 2134*x^311 - 572*x^310 - 320*x^309 - 1072*x^308 + 1718*x^307 + 1866*x^306 - 4089*x^305 + 3786*x^304 - 1230*x^303 + 3899*x^302 + 208*x^301 + 1399*x^300 - 1030*x^299 + 1596*x^298 - 2542*x^297 - 2957*x^296 + 2311*x^295 - 3068*x^294 - 862*x^293 + 590*x^292 - 858*x^291 + 166*x^290 + 3299*x^289 + 1152*x^288 + 2453*x^287 - 3326*x^286 - 1668*x^285 + 3983*x^284 + 2959*x^283 + 1529*x^282 - 2462*x^281 - 2100*x^280 - 2589*x^279 - 724*x^278 - 1623*x^277 + 2091*x^276 + 2333*x^275 + 1609*x^274 - 277*x^273 - 4064*x^272 - 2801*x^271 - 258*x^270 - 2287*x^269 - 1474*x^268 + 3681*x^267 + 1403*x^266 + 108*x^265 + 3555*x^264 + 2586*x^263 + 3596*x^262 + 1017*x^261 - 3198*x^260 - 1358*x^259 + 1285*x^258 - 975*x^257 - 290*x^256 - 369*x^255 + 1056*x^254 + 2589*x^253 - 467*x^252 - 2396*x^251 + 2026*x^250 - 939*x^249 + 2281*x^248 + 2044*x^247 - 2451*x^246 + 1855*x^245 - 1038*x^244 + 687*x^243 - 1314*x^242 - 3184*x^241 + 2125*x^240 + 1330*x^239 + 1575*x^238 + 2971*x^237 + 3743*x^236 - 3834*x^235 - 636*x^234 - 1815*x^233 - 299*x^232 + 2384*x^231 - 2438*x^230 + 3532*x^229 + 3499*x^228 - 1068*x^227 + 2685*x^226 + 2125*x^225 - 721*x^224 - 1182*x^223 + 3460*x^222 + 190*x^221 + 4060*x^220 + 2622*x^219 - 303*x^218 + 28*x^217 + 1428*x^216 + 2359*x^215 - 411*x^214 - 3100*x^213 + 2626*x^212 + 617*x^211 - 660*x^210 - 3642*x^209 - 1906*x^208 - 3077*x^207 + 812*x^206 + 62*x^205 - 468*x^204 - 3613*x^203 + 369*x^202 - 1096*x^201 + 683*x^200 - 912*x^199 + 3700*x^198 + 1713*x^197 + 3196*x^196 - 2174*x^195 - 518*x^194 - 3803*x^193 + 3357*x^192 + 3871*x^191 + 196*x^190 - 2270*x^189 - 949*x^188 - 645*x^187 - 2567*x^186 - 3081*x^185 - 2877*x^184 - 203*x^183 - 3869*x^182 + 1861*x^181 - 176*x^180 - 431*x^179 + 845*x^178 + 3913*x^177 + 2243*x^176 - 2179*x^175 - 2592*x^174 + 1916*x^173 + 3078*x^172 + 465*x^171 + 3556*x^170 - 789*x^169 + 1543*x^168 - 1880*x^167 - 2784*x^166 - 1582*x^165 - 1706*x^164 - 2451*x^163 - 1111*x^162 - 1061*x^161 - 3170*x^160 - 3610*x^159 + 3420*x^158 - 2603*x^157 - 196*x^156 + 3825*x^155 + 593*x^154 + 3312*x^153 - 1867*x^152 + 3619*x^151 - 2695*x^150 - 1062*x^149 - 1640*x^148 + 2935*x^147 - 2108*x^146 - 1364*x^145 + 3500*x^144 - 106*x^143 - 2320*x^142 - 2450*x^141 - 2316*x^140 + 423*x^139 - 80*x^138 + 1231*x^137 - 2585*x^136 - 1816*x^135 + 3836*x^134 + 3469*x^133 - 2288*x^132 - 2232*x^131 - 1218*x^130 + 3086*x^129 + 651*x^128 + 2863*x^127 - 3207*x^126 + 839*x^125 + 3570*x^124 + 862*x^123 + 1661*x^122 - 2520*x^121 - 226*x^120 + 3151*x^119 + 3248*x^118 + 1421*x^117 + 1187*x^116 - 1054*x^115 + 3326*x^114 - 2232*x^113 - 3717*x^112 - 2020*x^111 + 420*x^110 + 1000*x^109 + 485*x^108 + 3800*x^107 - 3047*x^106 + 1038*x^105 + 845*x^104 + 2798*x^103 - 931*x^102 + 3707*x^101 - 2965*x^100 + 3797*x^99 - 993*x^98 - 1638*x^97 + 2460*x^96 - 2316*x^95 - 968*x^94 + 3058*x^93 - 479*x^92 + 3001*x^91 - 1105*x^90 - 310*x^89 - 4069*x^88 - 147*x^87 - 3331*x^86 - 1622*x^85 - 1744*x^84 - 2849*x^83 - 2191*x^82 + 1172*x^81 + 2628*x^80 - 830*x^79 - 1578*x^78 - 1881*x^77 + 3486*x^76 + 1944*x^75 - 3074*x^74 - 445*x^73 + 2967*x^72 + 999*x^71 + 3988*x^70 - 211*x^69 - 163*x^68 + 977*x^67 - 701*x^66 + 2948*x^65 - 3112*x^64 - 2498*x^63 - 85*x^62 + 1819*x^61 + 3967*x^60 - 1209*x^59 - 1126*x^58 - 3153*x^57 - 2510*x^56 + 1000*x^55 + 1513*x^54 + 492*x^53 + 399*x^52 - 1411*x^51 + 1012*x^50 + 2590*x^49 - 3779*x^48 + 3040*x^47 - 1069*x^46 + 422*x^45 + 727*x^44 - 786*x^43 - 832*x^42 + 814*x^41 - 3736*x^40 - 905*x^39 - 1665*x^38 - 3439*x^37 - 2330*x^36 + 877*x^35 + 1962*x^34 - 3186*x^33 - 2784*x^32 + 2277*x^31 + 1300*x^30 + 33*x^29 + 953*x^28 + 1487*x^27 - 2627*x^26 - 3675*x^25 + 1016*x^24 + 2404*x^23 + 2368*x^22 - 2673*x^21 + 590*x^20 + 1617*x^19 + 259*x^18 + 2898*x^17 + 1425*x^16 - 611*x^15 + 3885*x^14 + 651*x^13 + 1105*x^12 - 1591*x^11 + 3490*x^10 + 2172*x^9 + 1440*x^8 + 4092*x^7 - 224*x^6 + 2985*x^5 + 2905*x^4 + 3742*x^3 - 3142*x^2 - 2626*x + 2213\n",
      "DECRYPTION: x^700 + x^699 - x^698 - x^695 + x^693 - x^692 + x^691 - x^690 + x^689 + x^688 - x^687 + x^686 + x^684 - x^683 - x^682 - x^681 - x^680 - x^678 + x^677 - x^675 - x^674 + x^673 + x^672 + x^670 - x^669 + x^667 - x^666 + x^665 - x^664 - x^662 - x^660 + x^659 - x^658 - x^657 + x^655 - x^653 + x^652 + x^651 + x^650 + x^646 - x^645 - x^644 - x^643 - x^642 - x^641 - x^640 + x^636 - x^633 + x^630 - x^629 + x^627 - x^626 - x^625 - x^624 + x^620 - x^619 - x^618 - x^617 - x^614 + x^613 - x^610 + x^605 + x^604 + x^603 - x^601 - x^600 - x^599 - x^598 + x^595 - x^594 + x^593 - x^592 - x^591 - x^589 + x^588 + x^586 - x^583 - x^581 + x^579 - x^578 - x^577 - x^576 + x^574 - x^573 - x^572 + x^571 - x^570 + x^569 + x^568 - x^566 + x^565 - x^563 + x^562 + x^561 + x^558 + x^555 - x^554 + x^551 + x^550 + x^549 - x^548 + x^546 - x^545 - x^540 + x^537 - x^536 + x^534 + x^533 - x^531 + x^526 - x^522 + x^521 - x^519 - x^518 - x^516 - x^515 + x^513 + x^512 - x^511 - x^509 + x^508 - x^506 + x^505 + x^503 - x^499 - x^498 + x^497 - x^496 - x^494 + x^492 - x^491 - x^487 + x^486 + x^484 - x^482 - x^480 + x^478 + x^477 - x^476 + x^474 + x^471 + x^469 - x^467 - x^463 - x^460 + x^459 - x^456 - x^453 + x^452 + x^450 + x^448 + x^445 + x^444 + x^443 + x^442 - x^441 - x^440 - x^439 + x^436 - x^435 - x^432 - x^429 - x^427 + x^426 - x^425 + x^424 - x^419 + x^417 + x^415 + x^414 - x^413 - x^412 + x^410 - x^409 + x^408 + x^405 - x^404 - x^403 + x^402 - x^401 + x^400 + x^399 + x^398 - x^397 - x^396 + x^395 - x^394 - x^393 + x^392 + x^391 + x^390 - x^388 - x^387 + x^386 + x^385 - x^384 + x^382 + x^381 + x^380 + x^376 - x^373 + x^372 + x^369 + x^368 + x^367 - x^365 - x^363 - x^361 - x^359 - x^358 + x^357 - x^356 - x^354 - x^353 + x^352 - x^351 - x^348 - x^347 - x^346 - x^345 - x^342 + x^340 - x^339 + x^337 - x^335 - x^331 + x^327 - x^326 + x^324 + x^323 + x^320 - x^319 + x^318 - x^317 + x^316 + x^315 + x^314 - x^312 - x^310 + x^308 + x^307 - x^306 - x^305 + x^304 + x^303 - x^300 + x^299 - x^298 - x^296 - x^295 + x^294 - x^293 - x^292 - x^288 - x^287 - x^283 + x^282 - x^280 - x^279 - x^277 - x^276 + x^275 + x^274 + x^273 + x^272 + x^271 + x^269 - x^266 - x^265 + x^264 - x^263 - x^262 + x^261 - x^260 - x^259 + x^257 - x^255 + x^254 - x^253 - x^252 + x^251 - x^249 - x^247 + x^246 - x^245 - x^244 - x^241 + x^240 + x^239 + x^238 + x^237 - x^236 - x^235 + x^234 - x^233 + x^232 - x^231 + x^230 - x^229 + x^228 - x^227 + x^226 - x^225 + x^224 - x^222 + x^221 + x^219 - x^218 - x^217 + x^216 + x^215 + x^214 + x^213 - x^211 - x^209 + x^208 + x^207 + x^206 + x^203 - x^202 + x^200 - x^199 + x^197 - x^195 + x^194 + x^193 + x^192 - x^191 + x^189 - x^188 + x^187 - x^186 - x^185 + x^184 + x^182 - x^181 + x^180 - x^178 - x^177 + x^175 - x^173 + x^171 + x^170 - x^169 + x^168 - x^166 - x^163 + x^161 - x^160 + x^159 - x^158 + x^157 + x^155 + x^152 - x^151 - x^150 - x^147 + x^146 + x^145 + x^144 + x^142 + x^139 - x^138 - x^137 - x^135 - x^133 + x^132 - x^131 + x^129 + x^128 - x^127 - x^125 - x^124 - x^123 + x^122 - x^121 + x^120 - x^118 + x^117 + x^116 + x^115 - x^114 + x^113 + x^112 - x^111 + x^110 + x^109 - x^108 + x^107 - x^104 - x^102 + x^99 + x^96 - x^94 - x^93 + x^92 - x^91 + x^89 + x^88 - x^87 - x^86 + x^85 + x^84 + x^83 - x^82 + x^81 + x^80 + x^79 - x^77 + x^74 + x^73 + x^71 + x^70 - x^69 + x^65 - x^64 + x^63 + x^62 + x^61 - x^58 + x^57 - x^56 - x^55 + x^53 - x^51 - x^49 - x^48 + x^46 - x^44 + x^43 - x^41 + x^39 - x^35 + x^34 - x^33 - x^32 + x^31 + x^29 - x^27 - x^26 - x^25 - x^22 - x^21 - x^20 - x^18 - x^16 - x^15 + x^14 + x^13 + x^12 - x^8 + x^5 + x^4 + x^3 - x^2 - x + 1\n",
      "TEST PASSED\n",
      "*******\n",
      "\n"
     ]
    }
   ],
   "source": [
    "def test_large_parameters_all_random(N, p, q, d):\n",
    "    print(f\"TEST CASE: test with large parameters and all are random\")\n",
    "    try:\n",
    "        res = ntru_session(N, p, q, d)\n",
    "        if res:\n",
    "            print(\"TEST PASSED\")\n",
    "        else:\n",
    "            print(\"TEST FAILED\")\n",
    "    except:\n",
    "        print(\"TEST FAILED\")\n",
    "    finally: \n",
    "        print(\"*******\\n\")\n",
    "        \n",
    "test_large_parameters_all_random(701, 3, 8192, 103)"
   ]
  },
  {
   "cell_type": "code",
   "execution_count": 29,
   "metadata": {},
   "outputs": [
    {
     "name": "stdout",
     "output_type": "stream",
     "text": [
      "TEST CASE: ntru data from lecture\n",
      "q must be a power of two\n",
      "TEST PASSED\n",
      "*******\n",
      "\n"
     ]
    }
   ],
   "source": [
    "def test_lecture(N, p, q, d):\n",
    "    print(f\"TEST CASE: ntru data from lecture\")\n",
    "    try:\n",
    "        res = ntru_session(N, p, q, d)\n",
    "        if res:\n",
    "            print(\"TEST PASSED\")\n",
    "        else:\n",
    "            print(\"TEST FAILED\")\n",
    "    except AssertionError as e :\n",
    "        print(e)\n",
    "        print(\"TEST PASSED\")\n",
    "    except:\n",
    "        print(\"TEST FAILED\")\n",
    "    finally: \n",
    "        print(\"*******\\n\")\n",
    "        \n",
    "        \n",
    "test_lecture(7, 3, 41, 2)"
   ]
  },
  {
   "cell_type": "code",
   "execution_count": 30,
   "metadata": {},
   "outputs": [
    {
     "name": "stdout",
     "output_type": "stream",
     "text": [
      "TEST CASE: test with small parameters and given polynomial f\n",
      "N, p, q, d :  11 3 32 3\n",
      "MESSAGE: -x^10 + x^6 + x^5 - x^4 + 1\n",
      "ENCRYPTION: -9*x^10 - 9*x^9 - 13*x^8 + 2*x^7 - 6*x^6 - 6*x^5 - 11*x^3 + 4*x^2 - 2*x - 13\n",
      "DECRYPTION: -x^10 + x^6 + x^5 - x^4 + 1\n",
      "TEST PASSED\n",
      "*******\n",
      "\n"
     ]
    }
   ],
   "source": [
    "def test_small_parameters_given_f(f):\n",
    "    print(f\"TEST CASE: test with small parameters and given polynomial f\")\n",
    "    try:\n",
    "        res = ntru_session(11, 3, 32, 3, f=f)\n",
    "        if res:\n",
    "            print(\"TEST PASSED\")\n",
    "        else:\n",
    "            print(\"TEST FAILED\")\n",
    "    except:\n",
    "        print(\"TEST FAILED\")\n",
    "    finally: \n",
    "        print(\"*******\\n\")\n",
    "       \n",
    "    \n",
    "\n",
    "test_small_parameters_given_f(-1+x+x^2-x^4+x^6+x^9-x^10)"
   ]
  },
  {
   "cell_type": "code",
   "execution_count": 31,
   "metadata": {},
   "outputs": [
    {
     "name": "stdout",
     "output_type": "stream",
     "text": [
      "TEST CASE: test with small parameters and invalid given polynomial f\n",
      "N, p, q, d :  11 3 32 3\n",
      "invalid f degree\n",
      "TEST PASSED\n",
      "*******\n",
      "\n"
     ]
    }
   ],
   "source": [
    "def test_small_parameters_given_invalid_f(f):\n",
    "    print(f\"TEST CASE: test with small parameters and invalid given polynomial f\")\n",
    "    try:\n",
    "        res = ntru_session(11, 3, 32, 3, f=f)\n",
    "        if res:\n",
    "            print(\"TEST PASSED\")\n",
    "        else:\n",
    "            print(\"TEST FAILED\")\n",
    "    except AssertionError as e :\n",
    "        print(e)\n",
    "        print(\"TEST PASSED\")\n",
    "    except:\n",
    "        print(\"TEST FAILED\")\n",
    "    finally: \n",
    "        print(\"*******\\n\")\n",
    "       \n",
    "    \n",
    "test_small_parameters_given_invalid_f(-1+x+x^2-x^4+x^6+x^9-x^12)"
   ]
  },
  {
   "cell_type": "code",
   "execution_count": 32,
   "metadata": {},
   "outputs": [
    {
     "name": "stdout",
     "output_type": "stream",
     "text": [
      "TEST CASE: test with small parameters and invalid given polynomial f\n",
      "N, p, q, d :  11 3 32 3\n",
      "MESSAGE: x^9 + x^6 - x^4 + x^2 + x - 1\n",
      "ENCRYPTION: -5*x^10 - 7*x^9 + 4*x^8 - 2*x^7 - 14*x^6 - 6*x^5 - 4*x^4 - 15*x^3 + 2*x^2 - 9*x - 6\n",
      "DECRYPTION: x^9 + x^6 - x^4 + x^2 + x - 1\n",
      "TEST PASSED\n",
      "*******\n",
      "\n"
     ]
    }
   ],
   "source": [
    "def test_small_parameters_given_message(message):\n",
    "    print(f\"TEST CASE: test with small parameters and invalid given polynomial f\")\n",
    "    try:\n",
    "        res = ntru_session(11, 3, 32, 3, message=message)\n",
    "        if res:\n",
    "            print(\"TEST PASSED\")\n",
    "        else:\n",
    "            print(\"TEST FAILED\")\n",
    "    except AssertionError as e :\n",
    "        print(e)\n",
    "        print(\"TEST PASSED\")\n",
    "    except:\n",
    "        print(\"TEST FAILED\")\n",
    "    finally: \n",
    "        print(\"*******\\n\")\n",
    "       \n",
    "    \n",
    "test_small_parameters_given_message(-1+x+x^2-x^4+x^6+x^9)"
   ]
  },
  {
   "cell_type": "code",
   "execution_count": 33,
   "metadata": {},
   "outputs": [
    {
     "name": "stdout",
     "output_type": "stream",
     "text": [
      "TEST CASE: test with small parameters and invalid given polynomial f\n",
      "N, p, q, d :  11 3 32 3\n",
      "invalid message\n",
      "TEST PASSED\n",
      "*******\n",
      "\n"
     ]
    }
   ],
   "source": [
    "def test_small_parameters_given_invalid_message(message):\n",
    "    print(f\"TEST CASE: test with small parameters and invalid given polynomial f\")\n",
    "    try:\n",
    "        res = ntru_session(11, 3, 32, 3, message=message)\n",
    "        if res:\n",
    "            print(\"TEST PASSED\")\n",
    "        else:\n",
    "            print(\"TEST FAILED\")\n",
    "    except AssertionError as e :\n",
    "        print(e)\n",
    "        print(\"TEST PASSED\")\n",
    "    except:\n",
    "        print(\"TEST FAILED\")\n",
    "    finally: \n",
    "        print(\"*******\\n\")\n",
    "       \n",
    "    \n",
    "test_small_parameters_given_invalid_message(-1+x+x^2-x^4+x^6+x^23)"
   ]
  },
  {
   "cell_type": "code",
   "execution_count": 34,
   "metadata": {},
   "outputs": [],
   "source": [
    "from numpy import base_repr\n",
    "\n",
    "def encode(s):\n",
    "    lst = [ord(i) for i in s]\n",
    "    lst2 = [base_repr(i,base=3) for i in lst]\n",
    "    lst3 = []\n",
    "    for i in lst2:\n",
    "        lst3 += i\n",
    "    res = [int(i) - 1 for i in lst3]\n",
    "    m = Zx(res)\n",
    "    return m\n",
    "\n",
    "M = encode(\"my_message\")"
   ]
  },
  {
   "cell_type": "code",
   "execution_count": 35,
   "metadata": {},
   "outputs": [
    {
     "name": "stdout",
     "output_type": "stream",
     "text": [
      "N, p, q, d :  701 3 8192 103\n",
      "MESSAGE: x^48 - x^47 + x^46 - x^45 + x^41 - x^40 + x^37 - x^35 + x^32 - x^31 + x^27 - x^26 + x^23 - x^22 + x^21 - x^20 - x^17 - x^16 + x^13 - x^11 - x^3 - x^2\n",
      "ENCRYPTION: -3833*x^700 - 1119*x^699 + 1042*x^698 - 2106*x^697 - 461*x^696 - 847*x^695 - 1826*x^694 + 157*x^693 + 1129*x^692 + 1568*x^691 - 3681*x^690 - 1213*x^689 + 2164*x^688 - 1975*x^687 - 1480*x^686 - 2394*x^685 - 2213*x^684 + 3562*x^683 - 695*x^682 - 128*x^681 + 3540*x^680 - 2809*x^679 + 2048*x^678 - 862*x^677 + 1512*x^676 - 3520*x^675 + 3960*x^674 - 1996*x^673 - 2040*x^672 - 3049*x^671 + 571*x^670 + 16*x^669 - 88*x^668 - 3330*x^667 + 545*x^666 - 803*x^665 + 252*x^664 + 2731*x^663 - 3483*x^662 - 2680*x^661 - 3122*x^660 + 1711*x^659 - 2631*x^658 + 3819*x^657 - 3878*x^656 - 331*x^655 + 2127*x^654 - 1631*x^653 + 3494*x^652 + 2957*x^651 - 862*x^650 + 1207*x^649 - 837*x^648 - 2971*x^647 + 479*x^646 + 1020*x^645 - 368*x^644 - 97*x^643 + 2110*x^642 + 2392*x^641 - 2533*x^640 - 2639*x^639 - 1241*x^638 + 3910*x^637 + 1279*x^636 + 2487*x^635 + 3998*x^634 - 255*x^633 + 1613*x^632 + 3089*x^631 - 2613*x^630 - 2570*x^629 + 3162*x^628 + 342*x^627 + 3328*x^626 - 3787*x^625 - 3793*x^624 + 2897*x^623 - 1656*x^622 + 3396*x^621 - 1787*x^620 + 3341*x^619 + 318*x^618 + 1606*x^617 - 2900*x^616 - 570*x^615 + 425*x^614 + 2123*x^613 + 1619*x^612 + 3267*x^611 + 1015*x^610 - 1451*x^609 + 1915*x^608 + 688*x^607 - 1349*x^606 - 1637*x^605 + 2806*x^604 - 2397*x^603 - 581*x^602 + 3267*x^601 + 2376*x^600 - 2612*x^599 + 1291*x^598 + 2159*x^597 - 318*x^596 - 1572*x^595 - 1242*x^594 - 340*x^593 + 357*x^592 - 3198*x^591 + 326*x^590 - 3748*x^589 - 512*x^588 + 2748*x^587 - 2327*x^586 + 4038*x^585 + 2580*x^584 - 4022*x^583 + 3284*x^582 + 857*x^581 - 2308*x^580 + 1902*x^579 + 2479*x^578 + 3395*x^577 + 284*x^576 - 2506*x^575 + 1636*x^574 - 636*x^573 + 3022*x^572 - 106*x^571 - 58*x^570 + 3316*x^569 - 4034*x^568 + 213*x^567 + 3800*x^566 - 1081*x^565 + 733*x^564 + 281*x^563 - 2854*x^562 + 2945*x^561 + 257*x^560 - 1875*x^559 + 2093*x^558 - 3656*x^557 + 886*x^556 + 3177*x^555 + 3690*x^554 + 2174*x^553 - 3357*x^552 + 3560*x^551 + 2997*x^550 + 1996*x^549 - 3970*x^548 - 2808*x^547 - 1471*x^546 + 3327*x^545 + 3014*x^544 - 2635*x^543 - 3937*x^542 - 2410*x^541 + 2512*x^540 + 2811*x^539 + 981*x^538 + 604*x^537 - 2145*x^536 - 183*x^535 + 1623*x^534 - 514*x^533 - 688*x^532 + 2419*x^531 + 1425*x^530 + 1221*x^529 - 3963*x^528 - 3207*x^527 - 796*x^526 - 478*x^525 + 310*x^524 + 2213*x^523 - 2497*x^522 - 3841*x^521 - 50*x^520 - 3975*x^519 - 1617*x^518 + 1493*x^517 + 3999*x^516 + 1128*x^515 - 2669*x^514 + 1742*x^513 + 937*x^512 + 2018*x^511 + 1179*x^510 + 2443*x^509 - 134*x^508 - 1502*x^507 - 2675*x^506 + 3758*x^505 + 991*x^504 + 2083*x^503 - 3787*x^502 - 1000*x^501 - 1102*x^500 + 1543*x^499 - 3947*x^498 - 2240*x^497 - 2858*x^496 - 3615*x^495 + 2935*x^494 + 1417*x^493 - 1582*x^492 + 2508*x^491 - 1781*x^490 - 1858*x^489 - 3054*x^488 + 3242*x^487 - 346*x^486 - 490*x^485 + 2180*x^484 + 3487*x^483 + 2561*x^482 + 3641*x^481 - 3399*x^480 - 238*x^479 - 3327*x^478 + 1357*x^477 + 2137*x^476 + 3747*x^475 - 2252*x^474 + 535*x^473 - 3094*x^472 - 2850*x^471 - 3798*x^470 + 3483*x^469 - 1682*x^468 + 1861*x^467 + 2788*x^466 - 33*x^465 + 1845*x^464 - 570*x^463 + 2853*x^462 + 1846*x^461 + 1232*x^460 - 2097*x^459 - 185*x^458 - 4029*x^457 + 2027*x^456 + 1259*x^455 + 382*x^454 + 2228*x^453 - 2992*x^452 + 3237*x^451 - 2347*x^450 - 3348*x^449 - 625*x^448 + 1981*x^447 - 3241*x^446 - 1563*x^445 - 3415*x^444 + 1330*x^443 - 1760*x^442 + 2528*x^441 - 26*x^440 + 3374*x^439 - 912*x^438 + 2134*x^437 - 1484*x^436 + 2386*x^435 + 540*x^434 - 71*x^433 - 4058*x^432 - 442*x^431 - 2488*x^430 + 781*x^429 + 2989*x^428 - 1171*x^427 - 93*x^426 + 1846*x^425 - 2315*x^424 + 114*x^423 - 1021*x^422 + 3872*x^421 - 3496*x^420 + 3247*x^419 + 2532*x^418 + 3064*x^417 + 478*x^416 - 476*x^415 + 2569*x^414 + 1354*x^413 - 386*x^412 - 339*x^411 - 1587*x^410 + 1035*x^409 - 3020*x^408 - 3784*x^407 - 36*x^406 - 1277*x^405 - 3497*x^404 + 3083*x^403 + 3354*x^402 - 2278*x^401 + 2188*x^400 - 283*x^399 - 2166*x^398 - 2311*x^397 + 1064*x^396 + 1433*x^395 - 1073*x^394 + 1768*x^393 - 430*x^392 + 2050*x^391 + 1094*x^390 + 2202*x^389 + 1019*x^388 + 1563*x^387 + 903*x^386 + 2270*x^385 + 635*x^384 + 1849*x^383 - 1155*x^382 + 2762*x^381 + 2894*x^380 - 3129*x^379 - 2111*x^378 - 757*x^377 - 1577*x^376 - 680*x^375 + 1225*x^374 - 1529*x^373 + 3551*x^372 - 2019*x^371 - 147*x^370 - 4050*x^369 + 3888*x^368 + 682*x^367 + 1860*x^366 + 1053*x^365 + 1786*x^364 + 2029*x^363 - 3245*x^362 + 2909*x^361 - 2658*x^360 + 2876*x^359 - 2401*x^358 + 3196*x^357 + 524*x^356 + 380*x^355 - 3257*x^354 + 2116*x^353 + 3807*x^352 + 2945*x^351 + 2890*x^350 - 3210*x^349 - 333*x^348 + 2947*x^347 - 3591*x^346 + 1148*x^345 + 540*x^344 - 2017*x^343 - 2942*x^342 + 710*x^341 + 2148*x^340 + 1566*x^339 - 3100*x^338 + 3217*x^337 + 1904*x^336 - 2591*x^335 + 1409*x^334 - 265*x^333 - 1411*x^332 - 675*x^331 - 359*x^330 - 3918*x^329 + 1117*x^328 - 3967*x^327 + 182*x^326 - 1192*x^325 + 383*x^324 + 2656*x^323 + 2441*x^322 + 3035*x^321 + 3859*x^320 + 1294*x^319 + 3560*x^318 - 1046*x^317 + 674*x^316 - 1111*x^315 + 1868*x^314 - 1596*x^313 - 3575*x^312 + 2337*x^311 + 633*x^310 - 2892*x^309 + 2726*x^308 - 3200*x^307 + 3067*x^306 - 2791*x^305 - 788*x^304 - 2247*x^303 - 315*x^302 - 98*x^301 + 1429*x^300 + 3890*x^299 + 617*x^298 + 3500*x^297 - 3242*x^296 + 186*x^295 - 3086*x^293 - 3392*x^292 - 1879*x^291 + 3843*x^290 - 1018*x^289 + 2435*x^288 - 2180*x^287 - 94*x^286 - 805*x^285 + 1633*x^284 + 1556*x^283 - 2622*x^282 + 2175*x^281 + 3398*x^280 - 968*x^279 - 2494*x^278 - 1690*x^277 - 866*x^276 + 1812*x^275 + 1831*x^274 + 3786*x^273 + 1210*x^272 - 2847*x^271 - 3528*x^270 - 2972*x^269 - 3574*x^268 + 638*x^267 + 594*x^266 + 1809*x^265 + 2887*x^264 + 3467*x^263 + 2951*x^262 + 2672*x^261 - 1761*x^260 + 22*x^259 + 2828*x^258 + 2845*x^257 + 1427*x^256 + 623*x^255 - 4093*x^254 - 3635*x^253 + 1861*x^252 - 3057*x^251 + 962*x^250 + 3716*x^249 + 1540*x^248 - 2277*x^247 - 1729*x^246 + 756*x^245 + 2413*x^244 + 1313*x^243 + 3140*x^242 - 2651*x^241 - 2703*x^240 - 2209*x^239 - 623*x^238 + 934*x^237 - 1288*x^236 - 200*x^235 + 3425*x^234 - 1213*x^233 - 3434*x^232 + 3771*x^231 - 3728*x^230 + 2292*x^229 + 2778*x^228 + 797*x^227 + 2354*x^226 - 1308*x^225 + 2818*x^224 - 1973*x^223 + 3943*x^222 + 2415*x^221 + 3710*x^220 - 2329*x^219 + 655*x^218 - 771*x^217 - 2352*x^216 + 2466*x^215 + 3245*x^214 - 2176*x^213 - 4037*x^212 + 35*x^211 + 3478*x^210 - 2765*x^209 - 1437*x^208 + 3596*x^207 + 3473*x^206 - 1030*x^205 + 2549*x^204 + 576*x^203 - 1666*x^202 + 3978*x^201 - 412*x^200 - 771*x^199 - 1528*x^198 - 3108*x^197 + 684*x^196 - 3276*x^195 - 3929*x^194 - 3043*x^193 + 45*x^192 - 1916*x^191 + 2937*x^190 - 1480*x^189 + 236*x^188 - 3823*x^187 - 3839*x^186 - 1143*x^185 - 1147*x^184 + 3992*x^183 - 2740*x^182 + 3663*x^181 - 3867*x^180 - 1031*x^179 - 514*x^178 + 2421*x^177 - 1977*x^176 - 483*x^175 - 232*x^174 - 2399*x^173 - 42*x^172 - 929*x^171 + 1145*x^170 - 3101*x^169 + 1422*x^168 - 2556*x^167 + 54*x^166 + 242*x^165 + 2269*x^164 - 3551*x^163 + 1828*x^162 + 1501*x^161 + 2531*x^160 - 1303*x^159 + 1687*x^158 - 1917*x^157 + 3531*x^156 - 615*x^155 + 1525*x^154 + 3956*x^153 - 689*x^152 + 1508*x^151 + 1078*x^150 - 900*x^149 - 1133*x^148 - 2033*x^147 + 129*x^146 + 662*x^145 + 2344*x^144 + 2171*x^143 - 452*x^142 - 185*x^141 + 2798*x^140 - 3607*x^139 - 1731*x^138 + 2678*x^137 - 3361*x^136 - 2826*x^135 - 3984*x^134 + 2736*x^133 + 2390*x^132 - 2564*x^131 - 1619*x^130 - 3865*x^129 + 1882*x^128 + 1624*x^127 + 4092*x^126 - 740*x^125 - 1597*x^124 + 43*x^123 + 3756*x^122 - 988*x^121 - 1858*x^120 + 2029*x^119 + 3717*x^118 + 2533*x^117 + 1385*x^116 - 3579*x^115 - 2284*x^114 + 2576*x^113 - 198*x^112 - 3840*x^111 - 2432*x^110 + 3604*x^109 - 1006*x^108 - 527*x^107 - 3497*x^106 + 551*x^105 + 334*x^104 + 197*x^103 - 2217*x^102 - 2595*x^101 + 856*x^100 - 2310*x^99 - 3262*x^98 - 1593*x^97 + 2786*x^96 + 1373*x^95 + 1964*x^94 + 867*x^93 - 3894*x^92 + 635*x^91 - 1026*x^90 + 2192*x^89 + 2125*x^88 + 1395*x^87 - 3579*x^86 + 193*x^85 + 1018*x^84 + 3276*x^83 + 3135*x^82 + 2962*x^81 + 2024*x^80 - 3972*x^79 + 3587*x^78 + 609*x^77 + 3952*x^76 - 4025*x^75 + 2348*x^74 - 1044*x^73 - 3906*x^72 + 3793*x^71 - 1227*x^70 + 2017*x^69 + 2896*x^68 - 2018*x^67 + 3058*x^66 + 3970*x^65 - 3934*x^64 + 405*x^63 + 3261*x^62 - 3666*x^61 + 2539*x^60 - 164*x^59 - 1753*x^58 - 1435*x^57 - 292*x^56 - 491*x^55 - 2040*x^54 - 490*x^53 - 1853*x^52 + 105*x^51 + 712*x^50 - 1342*x^49 - 3848*x^48 - 1413*x^47 + 1701*x^46 - 2868*x^45 - 1278*x^44 - 2674*x^43 + 551*x^42 - 265*x^41 + 1965*x^40 + 3447*x^39 + 3699*x^38 - 1256*x^37 - 873*x^36 + 1589*x^35 - 2340*x^34 - 3281*x^33 - 291*x^32 + 2810*x^31 + 2131*x^30 - 1420*x^29 + 2871*x^28 + 2370*x^27 + 1711*x^26 + 1196*x^25 - 161*x^24 + 878*x^23 + 931*x^22 + 569*x^21 - 1346*x^20 + 2250*x^19 - 2479*x^18 - 3643*x^17 - 2844*x^16 + 3046*x^15 - 1372*x^14 + 3410*x^13 + 2927*x^12 + 1802*x^11 + 263*x^10 + 1811*x^9 - 815*x^8 - 1974*x^7 - 3961*x^6 - 4003*x^5 - 1167*x^4 - 1134*x^3 + 95*x^2 - 1141*x - 1041\n",
      "DECRYPTION: x^48 - x^47 + x^46 - x^45 + x^41 - x^40 + x^37 - x^35 + x^32 - x^31 + x^27 - x^26 + x^23 - x^22 + x^21 - x^20 - x^17 - x^16 + x^13 - x^11 - x^3 - x^2\n"
     ]
    },
    {
     "data": {
      "text/plain": [
       "True"
      ]
     },
     "execution_count": 35,
     "metadata": {},
     "output_type": "execute_result"
    }
   ],
   "source": [
    "ntru_session(701, 3, 8192, 103, m)"
   ]
  },
  {
   "cell_type": "code",
   "execution_count": null,
   "metadata": {},
   "outputs": [],
   "source": []
  }
 ],
 "metadata": {
  "kernelspec": {
   "display_name": "SageMath 9.3",
   "language": "sage",
   "name": "sagemath"
  },
  "language_info": {
   "codemirror_mode": {
    "name": "ipython",
    "version": 3
   },
   "file_extension": ".py",
   "mimetype": "text/x-python",
   "name": "python",
   "nbconvert_exporter": "python",
   "pygments_lexer": "ipython3",
   "version": "3.7.10"
  }
 },
 "nbformat": 4,
 "nbformat_minor": 4
}
