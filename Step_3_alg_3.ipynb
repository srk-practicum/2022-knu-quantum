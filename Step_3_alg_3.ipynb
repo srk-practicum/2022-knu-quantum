{
 "cells": [
  {
   "cell_type": "code",
   "execution_count": 6,
   "metadata": {},
   "outputs": [
    {
     "name": "stdout",
     "output_type": "stream",
     "text": [
      "Z^3 + 1\n",
      "Test passed\n"
     ]
    }
   ],
   "source": [
    "N = 7\n",
    "p = 5\n",
    "Zx.<x> = PolynomialRing(ZZ)\n",
    "Zphi.<X> = Zx.quotient(x^N-1)\n",
    "Zq.<z> = PolynomialRing(Integers(p))\n",
    "ZQphi.<Z> = Zq.quotient(z^N-1)\n",
    "\n",
    "\n",
    "def findDegree(coefs_list):\n",
    "    len1 = len(coefs_list)\n",
    "    for i in range(len1 - 1, -1, -1):\n",
    "        if coefs_list[i] != 0:\n",
    "            return i\n",
    "        \n",
    "\n",
    "def compareDegrees(coefs_list1, coefs_list2):\n",
    "    cnt1 = 0\n",
    "    cnt2 = 0\n",
    "    len1 = len(coefs_list1)\n",
    "    len2 = len(coefs_list2)\n",
    "    for i in range(len1 - 1, -1, -1):\n",
    "        if coefs_list1[i] != 0:\n",
    "            cnt1 = i\n",
    "            break\n",
    "    for i in range(len2 - 1, -1, -1):\n",
    "        if coefs_list2[i] != 0:\n",
    "            cnt2 = i\n",
    "            break\n",
    "    return cnt1 < cnt2\n",
    "\n",
    "\n",
    "def testZpFactorInvertion(polynom, p):\n",
    "    try:\n",
    "        expectation = 1 / polynom\n",
    "        result = ZpFactorInvertion(polynom, p)\n",
    "        if polynom * result == 1 and expectation * polynom == 1:\n",
    "            print(\"Test passed\")\n",
    "        else:\n",
    "            print(\"Test failed\")\n",
    "    except ZeroDivisionError:\n",
    "        print(\"ZeroDivisionError\")\n",
    "    \n",
    "\n",
    "def ZpFactorInvertion(polynom, p):\n",
    "    \n",
    "    Zq.<z> = PolynomialRing(Integers(p))\n",
    "    ZQphi.<Z> = Zq.quotient(z^N-1)\n",
    "\n",
    "    k = 0\n",
    "    b = 1*z^0\n",
    "    c = 0*z^0\n",
    "    f = polynom\n",
    "    g = z^N-1\n",
    "    \n",
    "    while True:\n",
    "        while list(f)[0] == 0:\n",
    "            f = f / Z\n",
    "            c = c * Z\n",
    "            k += 1\n",
    "        \n",
    "        if findDegree(list(f)) == 0:\n",
    "            b = 1/list(f)[0] * b\n",
    "            return Z^(N-k) * b\n",
    "        \n",
    "        if compareDegrees(list(f), list(g)):\n",
    "            f, g = g, f\n",
    "            b, c = c, b\n",
    "        \n",
    "        u = list(f)[0] * (1/list(g)[0])\n",
    "        f = f - u*g\n",
    "        b = b - u*c\n",
    "        \n",
    "\n",
    "polynom = Z^3 + 1\n",
    "ppolynom = polynom.lift()\n",
    "print(polynom)\n",
    "\n",
    "testZpFactorInvertion(ppolynom, p)"
   ]
  },
  {
   "cell_type": "code",
   "execution_count": null,
   "metadata": {},
   "outputs": [],
   "source": []
  }
 ],
 "metadata": {
  "kernelspec": {
   "display_name": "SageMath 9.3",
   "language": "sage",
   "name": "sagemath"
  },
  "language_info": {
   "codemirror_mode": {
    "name": "ipython",
    "version": 3
   },
   "file_extension": ".py",
   "mimetype": "text/x-python",
   "name": "python",
   "nbconvert_exporter": "python",
   "pygments_lexer": "ipython3",
   "version": "3.7.10"
  }
 },
 "nbformat": 4,
 "nbformat_minor": 4
}
