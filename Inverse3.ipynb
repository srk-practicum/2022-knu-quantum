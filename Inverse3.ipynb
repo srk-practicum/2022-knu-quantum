{
 "cells": [
  {
   "cell_type": "code",
   "execution_count": 1,
   "metadata": {},
   "outputs": [],
   "source": [
    "N = 11\n",
    "p = 5\n",
    "Zx.<x> = PolynomialRing(ZZ)\n",
    "Zphi.<X> = Zx.quotient(x^N-1)\n",
    "Zq.<z> = PolynomialRing(Integers(p))\n",
    "ZQphi.<Z> = Zq.quotient(z^N-1)"
   ]
  },
  {
   "cell_type": "code",
   "execution_count": 2,
   "metadata": {},
   "outputs": [],
   "source": [
    "def find_degree(coefs_list):\n",
    "    for i in range(len(coefs_list)-1, -1, -1):\n",
    "        if coefs_list[i] != 0:\n",
    "            return i"
   ]
  },
  {
   "cell_type": "code",
   "execution_count": 3,
   "metadata": {},
   "outputs": [],
   "source": [
    "def invert_Zp(a, p, N):\n",
    "    Zq.<z> = PolynomialRing(Integers(p))\n",
    "    ZQphi.<Z> = Zq.quotient(z^N-1)\n",
    "\n",
    "    k = 0\n",
    "    b = 1*z^0\n",
    "    c = 0*z^0\n",
    "    f = a \n",
    "    g = z^N-1\n",
    "    \n",
    "    while True:\n",
    "        while list(f)[0] == 0:\n",
    "            f = f / Z\n",
    "            c = c * Z\n",
    "            k += 1\n",
    "        \n",
    "        if find_degree(list(f)) == 0:\n",
    "            b = 1/list(f)[0] * b\n",
    "            return Z^(N-k) * b\n",
    "        if find_degree(list(f)) < find_degree(list(g)):\n",
    "            f, g = g, f\n",
    "            b, c = c, b\n",
    "        \n",
    "        u = list(f)[0] * (1/list(g)[0])\n",
    "        f = f - u*g\n",
    "        b = b - u*c"
   ]
  },
  {
   "cell_type": "code",
   "execution_count": 10,
   "metadata": {},
   "outputs": [
    {
     "name": "stdout",
     "output_type": "stream",
     "text": [
      "Z^6 + 2*Z + 4\n",
      "2*Z^9 + 2*Z^7 + 2*Z^5 + Z^4 + 2*Z^3 + Z^2 + 2*Z + 1\n",
      "1\n"
     ]
    }
   ],
   "source": [
    "Zq.<z> = PolynomialRing(Integers(5))\n",
    "ZQphi.<Z> = Zq.quotient(z^11-1)\n",
    "a = Z^6-3*Z+4; print(a)\n",
    "b = a^(-1);print(b)\n",
    "print(a * b)"
   ]
  },
  {
   "cell_type": "code",
   "execution_count": 9,
   "metadata": {},
   "outputs": [
    {
     "name": "stdout",
     "output_type": "stream",
     "text": [
      "2*Z^9 + 2*Z^7 + 2*Z^5 + Z^4 + 2*Z^3 + Z^2 + 2*Z + 1\n"
     ]
    },
    {
     "data": {
      "text/plain": [
       "1"
      ]
     },
     "execution_count": 9,
     "metadata": {},
     "output_type": "execute_result"
    }
   ],
   "source": [
    "a = Z^7 + 5*Z^4 + Z^3 + 7*Z^2 + 4\n",
    "a = Z^6-3*Z+4\n",
    "ans = invert_Zp(a.lift(),p)\n",
    "print(ans)\n",
    "ans*a"
   ]
  },
  {
   "cell_type": "code",
   "execution_count": 11,
   "metadata": {},
   "outputs": [
    {
     "data": {
      "text/plain": [
       "1"
      ]
     },
     "execution_count": 11,
     "metadata": {},
     "output_type": "execute_result"
    }
   ],
   "source": [
    "a = Z^3 + 5*Z^2 + Z + 4\n",
    "ans = invert_Zp(a.lift(),p)\n",
    "ans*a"
   ]
  },
  {
   "cell_type": "code",
   "execution_count": null,
   "metadata": {},
   "outputs": [],
   "source": []
  }
 ],
 "metadata": {
  "kernelspec": {
   "display_name": "SageMath 9.0",
   "language": "sage",
   "name": "sagemath"
  },
  "language_info": {
   "codemirror_mode": {
    "name": "ipython",
    "version": 3
   },
   "file_extension": ".py",
   "mimetype": "text/x-python",
   "name": "python",
   "nbconvert_exporter": "python",
   "pygments_lexer": "ipython3",
   "version": "3.8.10"
  }
 },
 "nbformat": 4,
 "nbformat_minor": 4
}
